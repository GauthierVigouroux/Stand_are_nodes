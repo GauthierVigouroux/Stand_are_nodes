{
 "cells": [
  {
   "cell_type": "markdown",
   "id": "80ab291f",
   "metadata": {},
   "source": [
    "# Visualisation de l'écosystème normatif des webservices OGC\n",
    "## Définition des fonctions nécéssaires\n",
    "### <u> edge_weight :</u> Définition du poid pour un noeud donné\n",
    "* **<u>Entrées :</u>**\n",
    " * **ogc_nx :** L'instance nx.DiGraph() des noeuds que l'on souhaite analyser.\n",
    " * **standard :** Standard source (Déjà présent de base dans le fichier) à l'origine de la référence (départ de l'arête).\n",
    " * **ref :** Référence présente dans la source (destination de l'arête).\n",
    " * **OGCDict :** Dictionnaire de départ comportant toutes les normes et référence.\n",
    "* <u>Sortie :</u>\n",
    " * **w :** Poid de la relation entre **standard :** et **ref :**"
   ]
  },
  {
   "cell_type": "code",
   "execution_count": 1,
   "id": "0f92c563",
   "metadata": {},
   "outputs": [],
   "source": [
    "def edge_weight(ogc_nx,standard,ref,OGCDict):\n",
    "    #Fréquence d'apparission de la référence dans le standard (Normal de rajouter +1 car il est tout de même cité dans la partie Référence normative)\n",
    "    tf_ref = OGCDict[standard][\"references\"][ref] + 1\n",
    "\n",
    "    #Nombre totale de standard de base.\n",
    "    N = len(OGCDict.keys())\n",
    "    \n",
    "    #Nombre de fois que la référence est citée dans l'écosystème\n",
    "    listedge = ogc_nx.edges()\n",
    "    sf_ref = 1\n",
    "\n",
    "    for edge in listedge:\n",
    "        src, to = edge\n",
    "        if to==ref:\n",
    "            sf_ref=sf_ref+1\n",
    "\n",
    "    isf_ref = math.log(len(OGCDict.keys())/sf_ref)\n",
    "    #w = math.log(tf_ref * isf_ref)\n",
    "    w = tf_ref * isf_ref\n",
    "    \n",
    "    return w\n",
    "    #Ajout du paramètres de poids dans la relation\n",
    "#    for edge in listedge:\n",
    "#        if ogc_net.edges[\"from\"] == src and ogc_net.edges[\"to\"] == ref :\n",
    "#            key, value = \"value\", w\n",
    "#            listedge[listedge.index(edge)].update({key: value})"
   ]
  },
  {
   "cell_type": "markdown",
   "id": "ec6f1766",
   "metadata": {},
   "source": [
    "### <u>rgb_to_hex :</u> Simple convertion de couleurs RGB en Hexadécimal\n",
    "* **<u>Entrées :</u>**\n",
    " * **rgb :** Tuple comportant les valeurs (r, g, b)\n",
    "* **<u>Sortie :</u>**\n",
    " * Valeur hexadécimale brute"
   ]
  },
  {
   "cell_type": "code",
   "execution_count": 2,
   "id": "99371ea1",
   "metadata": {},
   "outputs": [],
   "source": [
    "def rgb_to_hex(rgb):\n",
    "  return '%02x%02x%02x' % rgb"
   ]
  },
  {
   "cell_type": "markdown",
   "id": "28de4dce",
   "metadata": {},
   "source": [
    "## Ajout des noeuds à la base de données graphs"
   ]
  },
  {
   "cell_type": "code",
   "execution_count": 3,
   "id": "75c393ac",
   "metadata": {},
   "outputs": [
    {
     "name": "stdout",
     "output_type": "stream",
     "text": [
      "Noeuds Principaux Ajouté !\n",
      "Noeuds secondaire ajouté\n"
     ]
    }
   ],
   "source": [
    "from pyvis.network import Network\n",
    "import json\n",
    "import networkx as nx\n",
    "import math\n",
    "\n",
    "#Mise en dico du fichier json\n",
    "with open(\"test.json\", 'r') as fp:\n",
    "    InitOGCDict = json.load(fp)\n",
    "\n",
    "#Visualisation du dico\n",
    "ogc_net = Network(directed=True, notebook=True, cdn_resources='in_line')\n",
    "ogc_nx = nx.DiGraph()\n",
    "\n",
    "##Alimentation du réseau\n",
    "##Initialisation des noeuds avec les normes de base\n",
    "ogc_nx.add_nodes_from(InitOGCDict.keys())\n",
    "print(\"Noeuds Principaux Ajouté !\")\n",
    "##Ajout du reste des noeuds qui ne font pas partie des normes de base\n",
    "for key in InitOGCDict.keys():\n",
    "    ogc_nx.add_nodes_from(InitOGCDict[key][\"references\"].keys())\n",
    "print(\"Noeuds secondaire ajouté\")\n",
    "##Ajout des liens entre les différents \n",
    "for src in InitOGCDict.keys():\n",
    "    for dest in InitOGCDict[src][\"references\"].keys():\n",
    "        #Ajout du lien avec le calcul de son poid\n",
    "        try:\n",
    "            #print('Source : ' + src)\n",
    "            #print('Référence : ' + dest)\n",
    "            ogc_nx.add_edge(src,dest,value=edge_weight(ogc_nx,src,dest,InitOGCDict)) #Peut être voir pour mettre value à la place si pyvis comprend mieux\n",
    "        except KeyError as e:\n",
    "            print(e)\n",
    "            #print(\"La relation \" + src + \" -> \" + dest + \" n'a pas pu être calculé\")\n",
    "        #Réglage de la taille des noeuds\n",
    "        ogc_nx.nodes[src]['size']=len(InitOGCDict[src]['references'].keys())*3\n",
    "        \n",
    "#ogc_net.from_nx(ogc_nx)\n",
    "#ogc_net.force_atlas_2based()\n",
    "#ogc_net.prep_notebook()\n",
    "#ogc_net.show(\"results/ogc_ws.html\")"
   ]
  },
  {
   "cell_type": "markdown",
   "id": "b56f4f76",
   "metadata": {},
   "source": [
    "## Analyse par degré de centralité avec changement de couleurs des normes de base\n",
    "* Couleur des noeuds :\n",
    " * Nuance de Rouge = référence\n",
    " * Vert/Blanc = norme de l'écosystème analysé"
   ]
  },
  {
   "cell_type": "code",
   "execution_count": 4,
   "id": "61476cc0",
   "metadata": {},
   "outputs": [],
   "source": [
    "nx.degree_centrality(ogc_nx)\n",
    "degree_centrality = nx.in_degree_centrality(ogc_nx)\n",
    "max_key = max(degree_centrality, key=lambda key: degree_centrality[key])\n",
    "max_degree = degree_centrality[max_key]\n",
    "Verifdic=dict()\n",
    "srclist=list()\n",
    "\n",
    "for n in ogc_nx.nodes:\n",
    "    if n in InitOGCDict.keys() :\n",
    "        srclist.append(src)\n",
    "        Verifdic[\"vert\"] = srclist\n",
    "        r=255*abs(((degree_centrality[n])/(max_degree)+0.1)-1)\n",
    "        g=255*abs(((degree_centrality[n])/(max_degree)+0.1)-1)\n",
    "        b=255\n",
    "        rgb = (int(r),int(b),int(g))\n",
    "        ogc_nx.nodes[n]['color']=\"#\"+rgb_to_hex(rgb)\n",
    "    else :\n",
    "        srclist.append(src)\n",
    "        Verifdic[\"rouge\"] = srclist\n",
    "        r=255\n",
    "        g=255*abs((degree_centrality[n]/max_degree)-1)\n",
    "        b=255*abs((degree_centrality[n]/max_degree)-1)\n",
    "        rgb = (int(r),int(b),int(g))\n",
    "        ogc_nx.nodes[n]['color']=\"#\"+rgb_to_hex(rgb)"
   ]
  },
  {
   "cell_type": "markdown",
   "id": "beeb8ffb",
   "metadata": {},
   "source": [
    "## Visualisation"
   ]
  },
  {
   "cell_type": "code",
   "execution_count": 5,
   "id": "0b65ae34",
   "metadata": {},
   "outputs": [
    {
     "name": "stdout",
     "output_type": "stream",
     "text": [
      "results/ogc_ws_centrality_dir.html\n"
     ]
    },
    {
     "data": {
      "text/html": [
       "\n",
       "        <iframe\n",
       "            width=\"100%\"\n",
       "            height=\"600px\"\n",
       "            src=\"results/ogc_ws_centrality_dir.html\"\n",
       "            frameborder=\"0\"\n",
       "            allowfullscreen\n",
       "            \n",
       "        ></iframe>\n",
       "        "
      ],
      "text/plain": [
       "<IPython.lib.display.IFrame at 0x7f7a80082f20>"
      ]
     },
     "execution_count": 5,
     "metadata": {},
     "output_type": "execute_result"
    }
   ],
   "source": [
    "ogc_net.from_nx(ogc_nx)\n",
    "ogc_net.inherit_edge_colors(False)\n",
    "#ogc_net.force_atlas_2based()\n",
    "ogc_net.prep_notebook()\n",
    "ogc_net.show(\"results/ogc_ws_centrality_dir.html\")"
   ]
  },
  {
   "cell_type": "markdown",
   "id": "cf3ab239",
   "metadata": {},
   "source": [
    "### Résultat de voterank"
   ]
  },
  {
   "cell_type": "code",
   "execution_count": null,
   "id": "32910223",
   "metadata": {},
   "outputs": [],
   "source": [
    "nx.voterank(ogc_nx)"
   ]
  },
  {
   "cell_type": "markdown",
   "id": "de093b4c",
   "metadata": {},
   "source": [
    "## Récupération du poid des arêtes"
   ]
  },
  {
   "cell_type": "code",
   "execution_count": 74,
   "id": "8c8ca929",
   "metadata": {},
   "outputs": [
    {
     "name": "stdout",
     "output_type": "stream",
     "text": [
      "[]\n"
     ]
    }
   ],
   "source": [
    "print(ogc_nx.edges.data('value'))"
   ]
  },
  {
   "cell_type": "code",
   "execution_count": 52,
   "id": "96a79252",
   "metadata": {},
   "outputs": [
    {
     "ename": "KeyError",
     "evalue": "'HTML5'",
     "output_type": "error",
     "traceback": [
      "\u001b[0;31m---------------------------------------------------------------------------\u001b[0m",
      "\u001b[0;31mKeyError\u001b[0m                                  Traceback (most recent call last)",
      "Cell \u001b[0;32mIn[52], line 1\u001b[0m\n\u001b[0;32m----> 1\u001b[0m \u001b[43mogc_nx\u001b[49m\u001b[43m[\u001b[49m\u001b[38;5;124;43m'\u001b[39;49m\u001b[38;5;124;43mOGC 05-005\u001b[39;49m\u001b[38;5;124;43m'\u001b[39;49m\u001b[43m]\u001b[49m\u001b[43m[\u001b[49m\u001b[38;5;124;43m'\u001b[39;49m\u001b[38;5;124;43mHTML5\u001b[39;49m\u001b[38;5;124;43m'\u001b[39;49m\u001b[43m]\u001b[49m[\u001b[38;5;124m'\u001b[39m\u001b[38;5;124mvalue\u001b[39m\u001b[38;5;124m'\u001b[39m]\n",
      "File \u001b[0;32m~/Code/GitHub/Stand_are_nodes/jupyter/venvogc/lib/python3.10/site-packages/networkx/classes/coreviews.py:53\u001b[0m, in \u001b[0;36mAtlasView.__getitem__\u001b[0;34m(self, key)\u001b[0m\n\u001b[1;32m     52\u001b[0m \u001b[38;5;28;01mdef\u001b[39;00m \u001b[38;5;21m__getitem__\u001b[39m(\u001b[38;5;28mself\u001b[39m, key):\n\u001b[0;32m---> 53\u001b[0m     \u001b[38;5;28;01mreturn\u001b[39;00m \u001b[38;5;28;43mself\u001b[39;49m\u001b[38;5;241;43m.\u001b[39;49m\u001b[43m_atlas\u001b[49m\u001b[43m[\u001b[49m\u001b[43mkey\u001b[49m\u001b[43m]\u001b[49m\n",
      "\u001b[0;31mKeyError\u001b[0m: 'HTML5'"
     ]
    }
   ],
   "source": [
    "ogc_nx['OGC 05-005']['HTML5']['value']"
   ]
  },
  {
   "cell_type": "code",
   "execution_count": 49,
   "id": "f5462304",
   "metadata": {},
   "outputs": [
    {
     "data": {
      "text/plain": [
       "2.5649493574615367"
      ]
     },
     "execution_count": 49,
     "metadata": {},
     "output_type": "execute_result"
    }
   ],
   "source": [
    "G = ogc_nx\n",
    "G['OGC 05-005']['IETF RFC 2045']['value']"
   ]
  },
  {
   "cell_type": "code",
   "execution_count": 65,
   "id": "f9fc6aaa",
   "metadata": {},
   "outputs": [
    {
     "name": "stdout",
     "output_type": "stream",
     "text": [
      "10.259797429846147\n",
      "14.97441741521273\n",
      "3.7436043538031827\n",
      "3.7436043538031827\n",
      "20.519594859692294\n",
      "20.519594859692294\n",
      "25.649493574615366\n",
      "5.1298987149230735\n"
     ]
    }
   ],
   "source": [
    "\n",
    "for node in ogc_nx.nodes():\n",
    "    try :\n",
    "        print(G['OGC 20-024'][node]['value'])\n",
    "        \n",
    "    except KeyError :\n",
    "        None\n",
    "        "
   ]
  },
  {
   "cell_type": "code",
   "execution_count": 28,
   "id": "ad1c9bbb",
   "metadata": {},
   "outputs": [
    {
     "name": "stdout",
     "output_type": "stream",
     "text": [
      "{'OGC 05-005': 0.0, 'OGC 06-042': 0.0, 'OGC 06-121r9': 0.022988505747126436, 'OGC 07-057r7': 0.0, 'OGC 08-068r2': 0.0, 'OGC 09-025r2': 0.0, 'OGC 09-083r4': 0.0, 'OGC 11-014r3': 0.0, 'OGC 14-065': 0.0, 'OGC 15-001r4': 0.0, 'OGC 17-089r1': 0.0, 'OGC 19-072': 0.011494252873563218, 'OGC 20-024': 0.0, 'IETF RFC 2045': 0.034482758620689655, 'IETF RFC 2119': 0.011494252873563218, 'SLD': 0.011494252873563218, 'XML 1.0': 0.05747126436781609, 'ISO 8601:2004': 0.022988505747126436, 'ISO 19111': 0.022988505747126436, 'ISO 19115': 0.034482758620689655, 'IETF RFC 2396': 0.022988505747126436, 'IETF RFC 2616': 0.04597701149425287, 'UCUM': 0.011494252873563218, 'XML Schema': 0.04597701149425287, 'CGI': 0.011494252873563218, 'IETF RFC 2141': 0.011494252873563218, 'IETF RFC 4646': 0.034482758620689655, 'ISO/IEC Directives, Part 2': 0.011494252873563218, 'ISO 4217:2001': 0.011494252873563218, 'ISO 8601:2000': 0.011494252873563218, 'ISO 19119': 0.011494252873563218, 'ISO 19123': 0.011494252873563218, 'OGC 02-112': 0.011494252873563218, 'OGC 03-105r1': 0.011494252873563218, 'OGC 04-046r3': 0.022988505747126436, 'OGC 04-092r4': 0.011494252873563218, 'OGC 07-092r1': 0.022988505747126436, 'OGC 08-008r2': 0.011494252873563218, 'OGC 08-015': 0.011494252873563218, 'OGC 09-046r1': 0.011494252873563218, 'OGC 07-107r1': 0.011494252873563218, 'Namespaces In XML': 0.022988505747126436, 'SOAP': 0.034482758620689655, 'XML-binary Optimized Packaging': 0.011494252873563218, 'ISO 19105': 0.011494252873563218, 'OGC 06-121r3': 0.034482758620689655, 'WSDL 1.1': 0.022988505747126436, 'ISO 8601': 0.011494252873563218, 'OGC 05-007r7': 0.011494252873563218, 'OGC 07-011': 0.022988505747126436, 'OGC 07-067r5': 0.011494252873563218, 'OGC 08-053r2': 0.011494252873563218, 'OGC 08-059r3': 0.011494252873563218, 'ISO/TS 19103': 0.011494252873563218, 'ISO 19136': 0.011494252873563218, 'OGC 09-026r2': 0.011494252873563218, 'OGC 07-092r3': 0.011494252873563218, 'XML Path Language': 0.011494252873563218, 'ISO 19103': 0.011494252873563218, 'ISO 19115-2': 0.011494252873563218, 'OGC 01-009': 0.011494252873563218, 'JSR 363': 0.011494252873563218, 'OGC 08-015r2': 0.011494252873563218, 'UML': 0.011494252873563218, 'OGC 08-131r3': 0.011494252873563218, 'IETF RFC 3986': 0.034482758620689655, 'OGC CityGML': 0.011494252873563218, 'IETF RFC 1738': 0.011494252873563218, 'IETF RFC 2046': 0.011494252873563218, 'ISO/IEC 14977': 0.011494252873563218, 'ISO 19117': 0.011494252873563218, 'KML': 0.011494252873563218, 'OGC 09-146r2': 0.011494252873563218, 'OGC 09-146r6': 0.011494252873563218, 'OGC 09-110r4': 0.011494252873563218, 'OGC 16-083r2': 0.011494252873563218, 'IETF RFC 2818': 0.011494252873563218, 'IETF RFC 6570': 0.011494252873563218, 'IETF RFC 7231': 0.022988505747126436, 'IETF RFC 7232': 0.011494252873563218, 'IETF RFC 7807': 0.011494252873563218, 'IETF RFC 8288': 0.022988505747126436, 'IETF RFC 8259': 0.022988505747126436, 'OpenAPI Specification': 0.011494252873563218, 'IETF RFC 3339': 0.011494252873563218, 'JSON Schema': 0.011494252873563218, 'GML': 0.011494252873563218, 'HTML5': 0.011494252873563218}\n"
     ]
    }
   ],
   "source": [
    "print(degree_centrality)"
   ]
  },
  {
   "cell_type": "code",
   "execution_count": null,
   "id": "ee23c60a",
   "metadata": {},
   "outputs": [],
   "source": []
  }
 ],
 "metadata": {
  "kernelspec": {
   "display_name": "venvogc",
   "language": "python",
   "name": "venvogc"
  },
  "language_info": {
   "codemirror_mode": {
    "name": "ipython",
    "version": 3
   },
   "file_extension": ".py",
   "mimetype": "text/x-python",
   "name": "python",
   "nbconvert_exporter": "python",
   "pygments_lexer": "ipython3",
   "version": "3.10.10"
  }
 },
 "nbformat": 4,
 "nbformat_minor": 5
}
