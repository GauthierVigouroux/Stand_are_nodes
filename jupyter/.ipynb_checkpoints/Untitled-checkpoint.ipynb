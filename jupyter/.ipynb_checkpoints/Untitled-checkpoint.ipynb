{
 "cells": [
  {
   "cell_type": "markdown",
   "id": "80ab291f",
   "metadata": {},
   "source": [
    "# Visualisation de l'écosystème normatif des webservices OGC\n",
    "## Définition des fonctions nécéssaires\n",
    "### <u> edge_weight :</u> Définition du poid pour un noeud donné\n",
    "* **<u>Entrées :</u>**\n",
    " * **ogc_nx :** L'instance nx.DiGraph() des noeuds que l'on souhaite analyser.\n",
    " * **standard :** Standard source (Déjà présent de base dans le fichier) à l'origine de la référence (départ de l'arête).\n",
    " * **ref :** Référence présente dans la source (destination de l'arête).\n",
    " * **OGCDict :** Dictionnaire de départ comportant toutes les normes et référence.\n",
    "* <u>Sortie :</u>\n",
    " * **w :** Poid de la relation entre **standard :** et **ref :**"
   ]
  },
  {
   "cell_type": "code",
   "execution_count": null,
   "id": "0f92c563",
   "metadata": {},
   "outputs": [],
   "source": [
    "def edge_weight(ogc_nx,standard,ref,OGCDict):\n",
    "    #Fréquence d'apparission de la référence dans le standard (Normal de rajouter +1 car il est tout de même cité dans la partie Référence normative)\n",
    "    tf_ref = OGCDict[standard][\"references\"][ref] + 1\n",
    "\n",
    "    #Nombre totale de standard de base.\n",
    "    N = len(OGCDict.keys())\n",
    "    \n",
    "    #Nombre de fois que la référence est citée dans l'écosystème\n",
    "    listedge = ogc_nx.edges()\n",
    "    sf_ref = 1\n",
    "\n",
    "    for edge in listedge:\n",
    "        src, to = edge\n",
    "        if to==ref:\n",
    "            sf_ref=sf_ref+1\n",
    "\n",
    "    isf_ref = math.log(len(OGCDict.keys())/sf_ref)\n",
    "    w = tf_ref * isf_ref\n",
    "\n",
    "    return w\n",
    "    #Ajout du paramètres de poids dans la relation\n",
    "#    for edge in listedge:\n",
    "#        if ogc_net.edges[\"from\"] == src and ogc_net.edges[\"to\"] == ref :\n",
    "#            key, value = \"value\", w\n",
    "#            listedge[listedge.index(edge)].update({key: value})"
   ]
  },
  {
   "cell_type": "markdown",
   "id": "ec6f1766",
   "metadata": {},
   "source": [
    "### <u>rgb_to_hex :</u> Simple convertion de couleurs RGB en Hexadécimal\n",
    "* **<u>Entrées :</u>**\n",
    " * **rgb :** Tuple comportant les valeurs (r, g, b)\n",
    "* **<u>Sortie :</u>**\n",
    " * Valeur hexadécimale brute"
   ]
  },
  {
   "cell_type": "code",
   "execution_count": null,
   "id": "99371ea1",
   "metadata": {},
   "outputs": [],
   "source": [
    "def rgb_to_hex(rgb):\n",
    "  return '%02x%02x%02x' % rgb"
   ]
  },
  {
   "cell_type": "markdown",
   "id": "28de4dce",
   "metadata": {},
   "source": [
    "## Ajout des noeuds à la base de données graphs"
   ]
  },
  {
   "cell_type": "code",
   "execution_count": null,
   "id": "75c393ac",
   "metadata": {},
   "outputs": [],
   "source": [
    "from pyvis.network import Network\n",
    "import json\n",
    "import networkx as nx\n",
    "import math\n",
    "\n",
    "#Mise en dico du fichier json\n",
    "with open(\"test.json\", 'r') as fp:\n",
    "    InitOGCDict = json.load(fp)\n",
    "\n",
    "#Visualisation du dico\n",
    "ogc_net = Network(directed=True, notebook=True, cdn_resources='in_line')\n",
    "ogc_nx = nx.DiGraph()\n",
    "\n",
    "##Alimentation du réseau\n",
    "##Initialisation des noeuds avec les normes de base\n",
    "ogc_nx.add_nodes_from(InitOGCDict.keys())\n",
    "print(\"Noeuds Principaux Ajouté !\")\n",
    "##Ajout du reste des noeuds qui ne font pas partie des normes de base\n",
    "for key in InitOGCDict.keys():\n",
    "    ogc_nx.add_nodes_from(InitOGCDict[key][\"references\"].keys())\n",
    "print(\"Noeuds secondaire ajouté\")\n",
    "##Ajout des liens entre les différents \n",
    "for src in InitOGCDict.keys():\n",
    "    for dest in InitOGCDict[src][\"references\"].keys():\n",
    "        #Ajout du lien avec le calcul de son poid\n",
    "        try:\n",
    "            #print('Source : ' + src)\n",
    "            #print('Référence : ' + dest)\n",
    "            ogc_nx.add_edge(src,dest,value=edge_weight(ogc_nx,src,dest,InitOGCDict)) #Peut être voir pour mettre value à la place si pyvis comprend mieux\n",
    "        except KeyError as e:\n",
    "            print(e)\n",
    "            #print(\"La relation \" + src + \" -> \" + dest + \" n'a pas pu être calculé\")\n",
    "        #Réglage de la taille des noeuds\n",
    "        ogc_nx.nodes[src]['size']=len(InitOGCDict[src]['references'].keys())*3\n",
    "        \n",
    "#ogc_net.from_nx(ogc_nx)\n",
    "#ogc_net.force_atlas_2based()\n",
    "#ogc_net.prep_notebook()\n",
    "#ogc_net.show(\"results/ogc_ws.html\")"
   ]
  },
  {
   "cell_type": "markdown",
   "id": "b56f4f76",
   "metadata": {},
   "source": [
    "## Analyse par degré de centralité avec changement de couleurs des normes de base\n",
    "* Couleur des noeuds :\n",
    " * Nuance de Rouge = référence\n",
    " * Vert/Blanc = norme de l'écosystème analysé"
   ]
  },
  {
   "cell_type": "code",
   "execution_count": null,
   "id": "61476cc0",
   "metadata": {},
   "outputs": [],
   "source": [
    "nx.degree_centrality(ogc_nx)\n",
    "degree_centrality = nx.in_degree_centrality(ogc_nx)\n",
    "max_key = max(degree_centrality, key=lambda key: degree_centrality[key])\n",
    "max_degree = degree_centrality[max_key]\n",
    "Verifdic=dict()\n",
    "srclist=list()\n",
    "\n",
    "for n in ogc_nx.nodes:\n",
    "    if n in InitOGCDict.keys() :\n",
    "        srclist.append(src)\n",
    "        Verifdic[\"vert\"] = srclist\n",
    "        r=255*abs((degree_centrality[n]/max_degree)-1)\n",
    "        g=255*abs((degree_centrality[n]/max_degree)-1)\n",
    "        b=255\n",
    "        rgb = (int(r),int(b),int(g))\n",
    "        ogc_nx.nodes[n]['color']=\"#\"+rgb_to_hex(rgb)\n",
    "    else :\n",
    "        srclist.append(src)\n",
    "        Verifdic[\"rouge\"] = srclist\n",
    "        r=255\n",
    "        g=255*abs((degree_centrality[n]/max_degree)-1)\n",
    "        b=255*abs((degree_centrality[n]/max_degree)-1)\n",
    "        rgb = (int(r),int(b),int(g))\n",
    "        ogc_nx.nodes[n]['color']=\"#\"+rgb_to_hex(rgb)"
   ]
  },
  {
   "cell_type": "markdown",
   "id": "beeb8ffb",
   "metadata": {},
   "source": [
    "## Visualisation"
   ]
  },
  {
   "cell_type": "code",
   "execution_count": null,
   "id": "0b65ae34",
   "metadata": {},
   "outputs": [],
   "source": [
    "ogc_net.from_nx(ogc_nx)\n",
    "ogc_net.inherit_edge_colors(False)\n",
    "#ogc_net.force_atlas_2based()\n",
    "ogc_net.prep_notebook()\n",
    "ogc_net.show(\"results/ogc_ws_centrality_dir.html\")"
   ]
  },
  {
   "cell_type": "markdown",
   "id": "cf3ab239",
   "metadata": {},
   "source": [
    "### Résultat de voterank"
   ]
  },
  {
   "cell_type": "code",
   "execution_count": null,
   "id": "32910223",
   "metadata": {},
   "outputs": [],
   "source": [
    "nx.voterank(ogc_nx)"
   ]
  }
 ],
 "metadata": {
  "kernelspec": {
   "display_name": "venvogc",
   "language": "python",
   "name": "venvogc"
  },
  "language_info": {
   "codemirror_mode": {
    "name": "ipython",
    "version": 3
   },
   "file_extension": ".py",
   "mimetype": "text/x-python",
   "name": "python",
   "nbconvert_exporter": "python",
   "pygments_lexer": "ipython3",
   "version": "3.10.10"
  }
 },
 "nbformat": 4,
 "nbformat_minor": 5
}
