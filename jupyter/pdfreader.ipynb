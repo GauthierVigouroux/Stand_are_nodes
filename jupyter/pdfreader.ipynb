{
 "cells": [
  {
   "cell_type": "code",
   "execution_count": 12,
   "id": "81166fab",
   "metadata": {},
   "outputs": [
    {
     "data": {
      "text/plain": [
       "['CGI, The Common Gateway Interface, National Center for Supercomputing Applications, \\nhttp://hoohoo.ncsa.uiuc.edu/cgi/',\n",
       " 'IETF  RFC 2045 (November 1996), Multipurpose Internet Mail Extensions (MIME) Part \\nOne: Format of Internet Message Bodies , Freed, N. and Borenstein N., eds., \\nhttp://www.ietf.org/rfc/rfc2045.txt',\n",
       " 'IETF RFC 2141 ( May 1997), URN Syntax , R. Moats, http://www.ietf.org/rfc/rfc2141.txt',\n",
       " 'IETF RFC 2396 (August 1998), Uniform Resource Identifiers (URI): Generic Syntax , \\nBerners -Lee, T., Fielding, N., and Masinter, L., eds. , http://www.ietf.org/rfc/rfc2396.txt',\n",
       " 'IETF RFC 2616 (June 1999), Hypertext Transfer Protocol – HTTP/1.1 , Gettys, J., \\nMogul, J., Frystyk, H., Masinter, L., Leach, P., and Berners -Lee, T., eds., \\nhttp://www.ietf.org/rfc/rfc2616.txt',\n",
       " 'IETF RFC 4646 (September 2006), Tags for Identifying Languages , Phillips, A. and \\nDavies, M., eds., http://www.ietf.org/rfc/rf c4646.txt',\n",
       " 'IANA, Internet Assigned Numbers Authority, MIME Media Types , available at \\nhttp://www.iana.org/assignments/media -types/',\n",
       " 'ISO/IEC Directives, Part 2. Rules for the structure and drafting o f International \\nStandards ',\n",
       " 'ISO 4217:2001, Codes for the representation of currencies and funds',\n",
       " 'ISO 8601:2000(E), Data elements and interchange formats - Information interchange - \\nRepresentation of dates and times . \\nISO 19115:2003, Geographic information — Metadata',\n",
       " 'ISO 19115:2003/Cor 1:2006, Geographic information – Metadata – Technical \\nCorrigendum 1',\n",
       " 'ISO 19119:2005, Geographic information — Services',\n",
       " 'ISO 19119:2005/Amd 1:2008, Geographic information – Services – Extensions of the \\nservice metadata model',\n",
       " 'ISO 191 23:2005, Geographic information - Schema for coverage geometry and functions  ']"
      ]
     },
     "execution_count": 12,
     "metadata": {},
     "output_type": "execute_result"
    }
   ],
   "source": [
    "#Fonction de récupération des dépendances première partie\n",
    "\n",
    "from pypdf import PdfReader\n",
    "\n",
    "reader = PdfReader(\"pdf/06-121r9_OGC_Web_Services_Common_Standard-1.pdf\")\n",
    "page = reader.pages[19]\n",
    "text = page.extract_text()\n",
    "\n",
    "type(text)\n",
    "\n",
    "textSplitList = text.split(\".  \\n\")\n",
    "standardSplitList = textSplitList[2].split(\"  \\n\")\n",
    "standardSplitList"
   ]
  },
  {
   "cell_type": "code",
   "execution_count": 5,
   "id": "4844d65e",
   "metadata": {},
   "outputs": [
    {
     "data": {
      "text/plain": [
       "['OGC 02 -112, OpenGIS Abstract Specification Topic 12: OpenGIS Service Architecture',\n",
       " 'OGC 03 -105r1,  OpenGIS Geography Markup Language (GML) Implementation \\nSpecification , Version 3.1, February 2004',\n",
       " 'OGC 04 -046r3, The OpenGIS Abstract Specification, Topic 2: Spatial Referencing by \\nCoordinates , August 2004',\n",
       " 'OGC 04 -092r4,  OpenGIS Geography Markup Language (GML) Implementation \\nSpecification Schemas , Version 3.1.1',\n",
       " 'OGC 07 -092r1, Definition iden tifier URNs in OGC namespace',\n",
       " 'OGC 08 -008r2, OpenGIS® Abstract Specification Proposed Topic 19: General Reference \\nSystems',\n",
       " 'OGC 08 -015, The OpenGIS® Abstract Specification Topic 2: Spatial referencing by \\ncoordinates',\n",
       " 'OGC 09 -046r1,  OGC Naming Authority: Policies  and Procedures',\n",
       " '07-107r1, OGC URN Document , October 2007',\n",
       " 'W3C Recommendation January 1999, Namespaces  In XML , \\nhttp://www.w3.org/TR/2000/REC -xml-names . \\nW3C Recommendation 4 February 2004, Extensible Ma rkup Language (XML) 1.0  (Third \\nEdition), http://www.w3.org/TR/REC -xml \\nW3C Recommendation 2 May 2001: XML Schema Part 0: Primer,',\n",
       " 'http://www.w3.or g/TR/2001/REC -xmlschema -0-20010502/',\n",
       " 'W3C Recommendation 2 May 2001: XML Schema Part 1: Structures,',\n",
       " 'http://www.w3.org/TR/2001/REC -xmlschema -1-20010502/',\n",
       " 'W3C Recommendation 2 May 2001: XML Sch ema Part 2: Datatypes,',\n",
       " 'http://www.w3.org/TR/2001/REC -xmlschema -2-20010502/',\n",
       " 'W3C Recommendation 24 June 2003: SOAP Version 1.2 Part 1: Messaging Framework, \\nhttp://www.w3.org/TR/SOAP/',\n",
       " 'W3C Recommendation 25 January 2005: SOAP Message Transmission Optimization \\nMechanism',\n",
       " 'W3C Recommendation 25 January 2005: XML -binary Optimized Packaging',\n",
       " 'In addition to this document, this specification includes a number o f normative XML \\nSchema Document files. Following approval of this document, these files will be posted \\nonline at the URL http://schemas.opengis.net/ows/2.0/ . These files are also bundled with ']"
      ]
     },
     "execution_count": 5,
     "metadata": {},
     "output_type": "execute_result"
    }
   ],
   "source": [
    "#Fonctione de récupération des dépendances deuxèmes parties\n",
    "\n",
    "page2 = reader.pages[20]\n",
    "text = page2.extract_text()\n",
    "\n",
    "textSplitList2 = text.split(\" \\n \")\n",
    "standardSplitList2 = textSplitList2[1].split(\"  \\n\")\n",
    "standardSplitList2"
   ]
  },
  {
   "cell_type": "code",
   "execution_count": 9,
   "id": "84d2a468",
   "metadata": {},
   "outputs": [
    {
     "data": {
      "text/plain": [
       "['OGC 02 -112, OpenGIS Abstract Specification Topic 12: OpenGIS Service Architecture',\n",
       " 'OGC 03 -105r1,  OpenGIS Geography Markup Language (GML) Implementation \\nSpecification , Version 3.1, February 2004',\n",
       " 'OGC 04 -046r3, The OpenGIS Abstract Specification, Topic 2: Spatial Referencing by \\nCoordinates , August 2004',\n",
       " 'OGC 04 -092r4,  OpenGIS Geography Markup Language (GML) Implementation \\nSpecification Schemas , Version 3.1.1',\n",
       " 'OGC 07 -092r1, Definition iden tifier URNs in OGC namespace',\n",
       " 'OGC 08 -008r2, OpenGIS® Abstract Specification Proposed Topic 19: General Reference \\nSystems',\n",
       " 'OGC 08 -015, The OpenGIS® Abstract Specification Topic 2: Spatial referencing by \\ncoordinates',\n",
       " 'OGC 09 -046r1,  OGC Naming Authority: Policies  and Procedures',\n",
       " '07-107r1, OGC URN Document , October 2007',\n",
       " 'W3C Recommendation January 1999, Namespaces  In XML , \\nhttp://www.w3.org/TR/2000/REC -xml-names . \\nW3C Recommendation 4 February 2004, Extensible Ma rkup Language (XML) 1.0  (Third \\nEdition), http://www.w3.org/TR/REC -xml \\nW3C Recommendation 2 May 2001: XML Schema Part 0: Primer,',\n",
       " 'W3C Recommendation 2 May 2001: XML Schema Part 1: Structures,',\n",
       " 'W3C Recommendation 2 May 2001: XML Sch ema Part 2: Datatypes,',\n",
       " 'W3C Recommendation 24 June 2003: SOAP Version 1.2 Part 1: Messaging Framework, \\nhttp://www.w3.org/TR/SOAP/',\n",
       " 'W3C Recommendation 25 January 2005: SOAP Message Transmission Optimization \\nMechanism',\n",
       " 'W3C Recommendation 25 January 2005: XML -binary Optimized Packaging']"
      ]
     },
     "execution_count": 9,
     "metadata": {},
     "output_type": "execute_result"
    }
   ],
   "source": [
    "#Nettoyage de la liste page 2\n",
    "import re\n",
    "\n",
    "r = re.compile(\".*OGC|.*W3C|\")\n",
    "cleanStandardList2 = list(filter(r.match, standardSplitList2))\n",
    "cleanStandardList2"
   ]
  },
  {
   "cell_type": "code",
   "execution_count": 11,
   "id": "256dbaac",
   "metadata": {},
   "outputs": [
    {
     "data": {
      "text/plain": [
       "['IETF  RFC 2045 (November 1996), Multipurpose Internet Mail Extensions (MIME) Part \\nOne: Format of Internet Message Bodies , Freed, N. and Borenstein N., eds., \\nhttp://www.ietf.org/rfc/rfc2045.txt',\n",
       " 'IETF RFC 2141 ( May 1997), URN Syntax , R. Moats, http://www.ietf.org/rfc/rfc2141.txt',\n",
       " 'IETF RFC 2396 (August 1998), Uniform Resource Identifiers (URI): Generic Syntax , \\nBerners -Lee, T., Fielding, N., and Masinter, L., eds. , http://www.ietf.org/rfc/rfc2396.txt',\n",
       " 'IETF RFC 2616 (June 1999), Hypertext Transfer Protocol – HTTP/1.1 , Gettys, J., \\nMogul, J., Frystyk, H., Masinter, L., Leach, P., and Berners -Lee, T., eds., \\nhttp://www.ietf.org/rfc/rfc2616.txt',\n",
       " 'IETF RFC 4646 (September 2006), Tags for Identifying Languages , Phillips, A. and \\nDavies, M., eds., http://www.ietf.org/rfc/rf c4646.txt',\n",
       " 'ISO/IEC Directives, Part 2. Rules for the structure and drafting o f International \\nStandards ',\n",
       " 'ISO 4217:2001, Codes for the representation of currencies and funds',\n",
       " 'ISO 8601:2000(E), Data elements and interchange formats - Information interchange - \\nRepresentation of dates and times . \\nISO 19115:2003, Geographic information — Metadata',\n",
       " 'ISO 19115:2003/Cor 1:2006, Geographic information – Metadata – Technical \\nCorrigendum 1',\n",
       " 'ISO 19119:2005, Geographic information — Services',\n",
       " 'ISO 19119:2005/Amd 1:2008, Geographic information – Services – Extensions of the \\nservice metadata model',\n",
       " 'ISO 191 23:2005, Geographic information - Schema for coverage geometry and functions  ']"
      ]
     },
     "execution_count": 11,
     "metadata": {},
     "output_type": "execute_result"
    }
   ],
   "source": [
    "#Nettoyage de la liste page 1\n",
    "import re\n",
    "\n",
    "r = re.compile(\".*OGC|.*W3C|.*ISO|.*IETF\")\n",
    "cleanStandardList = list(filter(r.match, standardSplitList))\n",
    "cleanStandardList"
   ]
  },
  {
   "cell_type": "code",
   "execution_count": 1,
   "id": "3b23ea01",
   "metadata": {},
   "outputs": [
    {
     "data": {
      "text/plain": [
       "['EPSG, European Petroleum Survey Group Geodesy Parameters, Lott, R., Ravanas, B., Cain, J., Girbig, J.-P., and Nicolai, R., eds., <http://www.epsg.org/',\n",
       " ' \\nIETF RFC 2045 (November 1996), Multipurpose Internet Mail Extensions (MIME) Part One: \\nFormat of Internet Message Bodies, Freed, N. and Borenstein N., eds., \\n<http://www.ietf.org/rfc/rfc2045.txt',\n",
       " ' \\nIETF RFC 2119 (March 1997), Key words for use in RFCs to Indicate Requirement Levels , \\nBradner, S., ed., <http://www.ietf.org/rfc/rfc2119.txt',\n",
       " '. OGC 05-005  \\nOpen Geospatial Consortium, Inc (2005)  Copyright © 10\\n SLD  1.0.0 (September 2002), Styled Layer Description (SLD) 1.0.0, OGC Proposed \\nImplementation Specification,  William Lalonde,  \\n<http://www.opengeospatial.org/techno/specs/02-070.pdf',\n",
       " ' \\nXML 1.0 (October 2000), eXtensible Markup Language (XML) 1.0 ( 2nd edition) , World Wide \\nWeb Consortium Recommendation, Bray, T., Paoli, J., Sperberg-McQueen, C.M., and Maler, E., eds., <http://www.w3.org/TR/2000/REC-xml',\n",
       " ' \\n']"
      ]
     },
     "execution_count": 1,
     "metadata": {},
     "output_type": "execute_result"
    }
   ],
   "source": [
    "#Récupération automatique du texte entre deux balises\n",
    "#Extraction du texte de tout le pdf\n",
    "from pypdf import PdfReader\n",
    "\n",
    "reader = PdfReader(\"pdf/05-005_Web_Map_Context_Documents_Implementation_Specification.pdf\")\n",
    "text = \"\"\n",
    "\n",
    "for page in reader.pages:\n",
    "    text = text + page.extract_text()\n",
    "\n",
    "#Split du text afin de retrouver la partie des références normatives\n",
    "textSplitList = text.split(\"3 Normative references \")\n",
    "\n",
    "#Prise en charge d'une formulation différente\n",
    "if len(textSplitList) < 2 :\n",
    "    textSplitList = text.split(\"3 References\")\n",
    "\n",
    "textSplitList = textSplitList[2].split(\"4 Terms and definitions\")\n",
    "\n",
    "#On retire le paragraphe de texte situé avant les références\n",
    "refSplitList = textSplitList[0].split(\". \\n\")\n",
    "del(refSplitList[0])\n",
    "#Classer dans une liste chacune des références\n",
    "refSplitList = refSplitList[0].split(\">\")\n",
    "refSplitList"
   ]
  },
  {
   "cell_type": "code",
   "execution_count": 38,
   "id": "cf759d1c",
   "metadata": {},
   "outputs": [
    {
     "ename": "ModuleNotFoundError",
     "evalue": "No module named 'JSON'",
     "output_type": "error",
     "traceback": [
      "\u001b[0;31m---------------------------------------------------------------------------\u001b[0m",
      "\u001b[0;31mModuleNotFoundError\u001b[0m                       Traceback (most recent call last)",
      "Cell \u001b[0;32mIn[38], line 2\u001b[0m\n\u001b[1;32m      1\u001b[0m \u001b[38;5;66;03m#Mise en forme des listes au format JSON compatible pour l'entré de la visualisation\u001b[39;00m\n\u001b[0;32m----> 2\u001b[0m \u001b[38;5;28;01mimport\u001b[39;00m \u001b[38;5;21;01mJSON\u001b[39;00m\n",
      "\u001b[0;31mModuleNotFoundError\u001b[0m: No module named 'JSON'"
     ]
    }
   ],
   "source": [
    "#Mise en forme des listes au format JSON compatible pour l'entré de la visualisation"
   ]
  },
  {
   "cell_type": "code",
   "execution_count": null,
   "id": "1c017ac0",
   "metadata": {},
   "outputs": [],
   "source": [
    "#Comptage du nombre de d'appel aux références listée"
   ]
  },
  {
   "cell_type": "code",
   "execution_count": 22,
   "id": "6a3b8d07",
   "metadata": {},
   "outputs": [],
   "source": [
    "def edge_weight(ogc_nx,standard,ref,OGCDict):\n",
    "    #Fréquence d'apparission de la référence dans le standard (Normal de rajouter +1 car il est tout de même cité dans la partie Référence normative)\n",
    "    tf_ref = OGCDict[standard][\"references\"][ref] + 1\n",
    "\n",
    "    #Nombre totale de standard de base.\n",
    "    N = len(OGCDict.keys())\n",
    "    \n",
    "    #Nombre de fois que la référence est citée dans l'écosystème\n",
    "    listedge = ogc_nx.edges()\n",
    "    sf_ref = 1\n",
    "\n",
    "    for edge in listedge:\n",
    "        src, to = edge\n",
    "        if to==ref:\n",
    "            sf_ref=sf_ref+1\n",
    "\n",
    "    isf_ref = math.log(len(OGCDict.keys())/sf_ref)\n",
    "    w = tf_ref * isf_ref\n",
    "\n",
    "    return w\n",
    "    #Ajout du paramètres de poids dans la relation\n",
    "#    for edge in listedge:\n",
    "#        if ogc_net.edges[\"from\"] == src and ogc_net.edges[\"to\"] == ref :\n",
    "#            key, value = \"value\", w\n",
    "#            listedge[listedge.index(edge)].update({key: value})"
   ]
  },
  {
   "cell_type": "code",
   "execution_count": 78,
   "id": "6cfc7f09",
   "metadata": {
    "scrolled": true
   },
   "outputs": [
    {
     "name": "stdout",
     "output_type": "stream",
     "text": [
      "Noeuds Principaux Ajouté !\n",
      "Noeuds secondaire ajouté\n"
     ]
    }
   ],
   "source": [
    "#Visualisation rapide via pyvis\n",
    "from pyvis.network import Network\n",
    "import json\n",
    "import networkx as nx\n",
    "import math\n",
    "\n",
    "#Mise en dico du fichier json\n",
    "with open(\"test.json\", 'r') as fp:\n",
    "    InitOGCDict = json.load(fp)\n",
    "\n",
    "#Visualisation du dico\n",
    "ogc_net = Network(directed=True, notebook=True, cdn_resources='in_line')\n",
    "ogc_nx = nx.DiGraph()\n",
    "\n",
    "##Alimentation du réseau\n",
    "##Initialisation des noeuds avec les normes de base\n",
    "ogc_nx.add_nodes_from(InitOGCDict.keys())\n",
    "print(\"Noeuds Principaux Ajouté !\")\n",
    "##Ajout du reste des noeuds qui ne font pas partie des normes de base\n",
    "for key in InitOGCDict.keys():\n",
    "    ogc_nx.add_nodes_from(InitOGCDict[key][\"references\"].keys())\n",
    "print(\"Noeuds secondaire ajouté\")\n",
    "##Ajout des liens entre les différents \n",
    "for src in InitOGCDict.keys():\n",
    "    for dest in InitOGCDict[src][\"references\"].keys():\n",
    "        #Ajout du lien avec le calcul de son poid\n",
    "        try:\n",
    "            #print('Source : ' + src)\n",
    "            #print('Référence : ' + dest)\n",
    "            ogc_nx.add_edge(src,dest,value=edge_weight(ogc_nx,src,dest,InitOGCDict)) #Peut être voir pour mettre value à la place si pyvis comprend mieux\n",
    "        except KeyError as e:\n",
    "            print(e)\n",
    "            #print(\"La relation \" + src + \" -> \" + dest + \" n'a pas pu être calculé\")\n",
    "        #Réglage de la taille des noeuds\n",
    "        ogc_nx.nodes[src]['size']=len(InitOGCDict[src]['references'].keys())*3\n",
    "        \n",
    "#ogc_net.from_nx(ogc_nx)\n",
    "#ogc_net.force_atlas_2based()\n",
    "#ogc_net.prep_notebook()\n",
    "#ogc_net.show(\"results/ogc_ws.html\")"
   ]
  },
  {
   "cell_type": "code",
   "execution_count": 43,
   "id": "8064b8d3",
   "metadata": {},
   "outputs": [
    {
     "ename": "AssertionError",
     "evalue": "error: OGC 05-005 node not in network",
     "output_type": "error",
     "traceback": [
      "\u001b[0;31m---------------------------------------------------------------------------\u001b[0m",
      "\u001b[0;31mAssertionError\u001b[0m                            Traceback (most recent call last)",
      "Cell \u001b[0;32mIn[43], line 1\u001b[0m\n\u001b[0;32m----> 1\u001b[0m \u001b[38;5;28mprint\u001b[39m(\u001b[43mogc_net\u001b[49m\u001b[38;5;241;43m.\u001b[39;49m\u001b[43mneighbors\u001b[49m\u001b[43m(\u001b[49m\u001b[38;5;124;43m\"\u001b[39;49m\u001b[38;5;124;43mOGC 05-005\u001b[39;49m\u001b[38;5;124;43m\"\u001b[39;49m\u001b[43m)\u001b[49m)\n",
      "File \u001b[0;32m~/Code/GitHub/Stand_are_nodes/jupyter/venvogc/lib/python3.10/site-packages/pyvis/network.py:657\u001b[0m, in \u001b[0;36mNetwork.neighbors\u001b[0;34m(self, node)\u001b[0m\n\u001b[1;32m    647\u001b[0m \u001b[38;5;250m\u001b[39m\u001b[38;5;124;03m\"\"\"\u001b[39;00m\n\u001b[1;32m    648\u001b[0m \u001b[38;5;124;03mGiven a node id, return the set of neighbors of this particular node.\u001b[39;00m\n\u001b[1;32m    649\u001b[0m \n\u001b[0;32m   (...)\u001b[0m\n\u001b[1;32m    653\u001b[0m \u001b[38;5;124;03m:returns: set\u001b[39;00m\n\u001b[1;32m    654\u001b[0m \u001b[38;5;124;03m\"\"\"\u001b[39;00m\n\u001b[1;32m    655\u001b[0m \u001b[38;5;28;01massert\u001b[39;00m (\u001b[38;5;28misinstance\u001b[39m(node, \u001b[38;5;28mstr\u001b[39m) \u001b[38;5;129;01mor\u001b[39;00m \u001b[38;5;28misinstance\u001b[39m(node, \u001b[38;5;28mint\u001b[39m)\n\u001b[1;32m    656\u001b[0m         ), \u001b[38;5;124m\"\u001b[39m\u001b[38;5;124merror: expected int or str for node but got \u001b[39m\u001b[38;5;132;01m%s\u001b[39;00m\u001b[38;5;124m\"\u001b[39m \u001b[38;5;241m%\u001b[39m \u001b[38;5;28mtype\u001b[39m(node)\n\u001b[0;32m--> 657\u001b[0m \u001b[38;5;28;01massert\u001b[39;00m (node \u001b[38;5;129;01min\u001b[39;00m \u001b[38;5;28mself\u001b[39m\u001b[38;5;241m.\u001b[39mnode_ids), \u001b[38;5;124m\"\u001b[39m\u001b[38;5;124merror: \u001b[39m\u001b[38;5;132;01m%s\u001b[39;00m\u001b[38;5;124m node not in network\u001b[39m\u001b[38;5;124m\"\u001b[39m \u001b[38;5;241m%\u001b[39m node\n\u001b[1;32m    658\u001b[0m \u001b[38;5;28;01mreturn\u001b[39;00m \u001b[38;5;28mself\u001b[39m\u001b[38;5;241m.\u001b[39mget_adj_list()[node]\n",
      "\u001b[0;31mAssertionError\u001b[0m: error: OGC 05-005 node not in network"
     ]
    }
   ],
   "source": [
    "print(ogc_net.neighbors(\"OGC 05-005\"))"
   ]
  },
  {
   "cell_type": "markdown",
   "id": "975d5bd3",
   "metadata": {},
   "source": []
  },
  {
   "cell_type": "code",
   "execution_count": 4,
   "id": "3413d111",
   "metadata": {},
   "outputs": [
    {
     "name": "stdout",
     "output_type": "stream",
     "text": [
      "3\n"
     ]
    }
   ],
   "source": [
    "listedge = ogc_net.get_edges()\n",
    "ref=\"IETF RFC 4646\"\n",
    "sf_ref = 0\n",
    "\n",
    "for edge in listedge:\n",
    "    if edge[\"to\"]==ref:\n",
    "        sf_ref=sf_ref+1\n",
    "print(sf_ref)"
   ]
  },
  {
   "cell_type": "code",
   "execution_count": 27,
   "id": "cb3ab733",
   "metadata": {},
   "outputs": [],
   "source": [
    "    for edge in listedge:\n",
    "        if edge[\"from\"] == 'OGC 05-005' and edge[\"to\"] == 'IETF RFC 2045' :\n",
    "            key, value = \"value\", 12\n",
    "            ogc_net.edges[listedge.index(edge)].update({key: value})"
   ]
  },
  {
   "cell_type": "code",
   "execution_count": 26,
   "id": "aba9d69c",
   "metadata": {},
   "outputs": [
    {
     "data": {
      "text/plain": [
       "networkx.classes.reportviews.OutEdgeView"
      ]
     },
     "execution_count": 26,
     "metadata": {},
     "output_type": "execute_result"
    }
   ],
   "source": [
    "type(ogc_nx.edges())"
   ]
  },
  {
   "cell_type": "code",
   "execution_count": 48,
   "id": "4c3f0b7b",
   "metadata": {},
   "outputs": [
    {
     "name": "stdout",
     "output_type": "stream",
     "text": [
      "0\n"
     ]
    }
   ],
   "source": [
    "standard = \"OGC 05-005\"\n",
    "ref = \"IETF RFC 2045\"\n",
    "print(InitOGCDict[standard][\"references\"][ref])\n"
   ]
  },
  {
   "cell_type": "code",
   "execution_count": 18,
   "id": "5bd8265a",
   "metadata": {},
   "outputs": [],
   "source": [
    "def rgb_to_hex(rgb):\n",
    "  return '%02x%02x%02x' % rgb"
   ]
  },
  {
   "cell_type": "code",
   "execution_count": 80,
   "id": "f3478d53",
   "metadata": {},
   "outputs": [
    {
     "name": "stdout",
     "output_type": "stream",
     "text": [
      "results/ogc_ws_centrality_undir.html\n"
     ]
    },
    {
     "data": {
      "text/html": [
       "\n",
       "        <iframe\n",
       "            width=\"100%\"\n",
       "            height=\"600px\"\n",
       "            src=\"results/ogc_ws_centrality_undir.html\"\n",
       "            frameborder=\"0\"\n",
       "            allowfullscreen\n",
       "            \n",
       "        ></iframe>\n",
       "        "
      ],
      "text/plain": [
       "<IPython.lib.display.IFrame at 0x7f4127290460>"
      ]
     },
     "execution_count": 80,
     "metadata": {},
     "output_type": "execute_result"
    }
   ],
   "source": [
    "#Analyse par degré de centralité avec changement de couleurs des normes de base\n",
    "#Couleur des noeuds :\n",
    "##Nuance de Rouge = référence\n",
    "##Vert/Blanc = norme de base\n",
    "nx.degree_centrality(ogc_nx)\n",
    "degree_centrality = nx.in_degree_centrality(ogc_nx)\n",
    "max_key = max(degree_centrality, key=lambda key: degree_centrality[key])\n",
    "max_degree = degree_centrality[max_key]\n",
    "Verifdic=dict()\n",
    "srclist=list()\n",
    "\n",
    "#Le IF ne semble pas fontionner\n",
    "##Faire quelques tests pour vérifier\n",
    "for n in ogc_nx.nodes:\n",
    "    if n in InitOGCDict.keys() :\n",
    "        srclist.append(src)\n",
    "        Verifdic[\"vert\"] = srclist\n",
    "        r=255*abs((degree_centrality[n]/max_degree)-1)\n",
    "        g=255*abs((degree_centrality[n]/max_degree)-1)\n",
    "        b=255\n",
    "        rgb = (int(r),int(b),int(g))\n",
    "        ogc_nx.nodes[n]['color']=\"#\"+rgb_to_hex(rgb)\n",
    "    else :\n",
    "        srclist.append(src)\n",
    "        Verifdic[\"rouge\"] = srclist\n",
    "        r=255\n",
    "        g=255*abs((degree_centrality[n]/max_degree)-1)\n",
    "        b=255*abs((degree_centrality[n]/max_degree)-1)\n",
    "        rgb = (int(r),int(b),int(g))\n",
    "        ogc_nx.nodes[n]['color']=\"#\"+rgb_to_hex(rgb)\n",
    "\n",
    "ogc_net.from_nx(ogc_nx)\n",
    "ogc_net.inherit_edge_colors(False)\n",
    "#ogc_net.force_atlas_2based()\n",
    "ogc_net.prep_notebook()\n",
    "ogc_net.show(\"results/ogc_ws_centrality_dir.html\")"
   ]
  },
  {
   "cell_type": "code",
   "execution_count": 29,
   "id": "a81db659",
   "metadata": {},
   "outputs": [
    {
     "ename": "KeyError",
     "evalue": "'rouge'",
     "output_type": "error",
     "traceback": [
      "\u001b[0;31m---------------------------------------------------------------------------\u001b[0m",
      "\u001b[0;31mKeyError\u001b[0m                                  Traceback (most recent call last)",
      "Cell \u001b[0;32mIn[29], line 1\u001b[0m\n\u001b[0;32m----> 1\u001b[0m \u001b[38;5;28mprint\u001b[39m(\u001b[43mVerifdic\u001b[49m\u001b[43m[\u001b[49m\u001b[38;5;124;43m\"\u001b[39;49m\u001b[38;5;124;43mrouge\u001b[39;49m\u001b[38;5;124;43m\"\u001b[39;49m\u001b[43m]\u001b[49m)\n",
      "\u001b[0;31mKeyError\u001b[0m: 'rouge'"
     ]
    }
   ],
   "source": [
    "print(Verifdic[\"rouge\"])"
   ]
  },
  {
   "cell_type": "code",
   "execution_count": 31,
   "id": "4a4d24ab",
   "metadata": {},
   "outputs": [
    {
     "data": {
      "text/plain": [
       "dict_keys(['OGC 05-005', 'OGC 06-042', 'OGC 06-121r9', 'OGC 07-057r7', 'OGC 08-068r2', 'OGC 09-025r2', 'OGC 09-083r4', 'OGC 11-014r3', 'OGC 14-065', 'OGC 15-001r4', 'OGC 17-089r1', 'OGC 19-072', 'OGC 20-024'])"
      ]
     },
     "execution_count": 31,
     "metadata": {},
     "output_type": "execute_result"
    }
   ],
   "source": [
    "InitOGCDict.keys()"
   ]
  },
  {
   "cell_type": "code",
   "execution_count": 75,
   "id": "42234a18",
   "metadata": {},
   "outputs": [
    {
     "name": "stdout",
     "output_type": "stream",
     "text": [
      "results/ogc_ws_clusturing.html\n"
     ]
    },
    {
     "data": {
      "text/html": [
       "\n",
       "        <iframe\n",
       "            width=\"100%\"\n",
       "            height=\"600px\"\n",
       "            src=\"results/ogc_ws_clusturing.html\"\n",
       "            frameborder=\"0\"\n",
       "            allowfullscreen\n",
       "            \n",
       "        ></iframe>\n",
       "        "
      ],
      "text/plain": [
       "<IPython.lib.display.IFrame at 0x7f412cd0c730>"
      ]
     },
     "execution_count": 75,
     "metadata": {},
     "output_type": "execute_result"
    }
   ],
   "source": [
    "from matplotlib import pyplot as plt\n",
    "\n",
    "#Analyse par Clusturing/Détection de communauté.\n",
    "##Calcul de la métrique de chaque liens (edge_betweenness)\n",
    "\n",
    "NUM_ITERATIONS = 30\n",
    "for i in range(NUM_ITERATIONS):\n",
    "    edge_bet = nx.edge_betweenness_centrality(ogc_nx,weight='value').items()\n",
    "    edge_bet_to_delete = sorted(edge_bet,key=lambda pair: -pair[1])[0][0]\n",
    "    \n",
    "    ogc_nx.remove_edge(*edge_bet_to_delete)\n",
    "\n",
    "ogc_net.from_nx(ogc_nx)\n",
    "ogc_net.inherit_edge_colors(False)\n",
    "#ogc_net.force_atlas_2based()\n",
    "ogc_net.prep_notebook()\n",
    "ogc_net.show(\"results/ogc_ws_clusturing.html\")\n",
    "##Détecter les edges qui ont l'edge_betweenness le plus élevé pour le supprimer\n",
    "\n"
   ]
  },
  {
   "cell_type": "code",
   "execution_count": 67,
   "id": "661fac65",
   "metadata": {},
   "outputs": [
    {
     "data": {
      "text/plain": [
       "[(('OGC 17-089r1', 'OGC 06-121r9'), 27.0),\n",
       " (('OGC 14-065', 'OGC 06-121r9'), 25.0),\n",
       " (('OGC 20-024', 'OGC 19-072'), 7.0),\n",
       " (('OGC 06-121r9', 'CGI'), 3.0),\n",
       " (('OGC 06-121r9', 'IETF RFC 2045'), 3.0),\n",
       " (('OGC 06-121r9', 'IETF RFC 2141'), 3.0),\n",
       " (('OGC 06-121r9', 'IETF RFC 2396'), 3.0),\n",
       " (('OGC 06-121r9', 'IETF RFC 2616'), 3.0),\n",
       " (('OGC 06-121r9', 'ISO/IEC Directives, Part 2'), 3.0),\n",
       " (('OGC 06-121r9', 'ISO 4217:2001'), 3.0),\n",
       " (('OGC 06-121r9', 'ISO 8601:2000'), 3.0),\n",
       " (('OGC 06-121r9', 'ISO 19115'), 3.0),\n",
       " (('OGC 06-121r9', 'ISO 19119'), 3.0),\n",
       " (('OGC 06-121r9', 'ISO 19123'), 3.0),\n",
       " (('OGC 06-121r9', 'OGC 02-112'), 3.0),\n",
       " (('OGC 06-121r9', 'OGC 03-105r1'), 3.0),\n",
       " (('OGC 06-121r9', 'OGC 04-046r3'), 3.0),\n",
       " (('OGC 06-121r9', 'OGC 04-092r4'), 3.0),\n",
       " (('OGC 06-121r9', 'OGC 07-092r1'), 3.0),\n",
       " (('OGC 06-121r9', 'OGC 08-008r2'), 3.0),\n",
       " (('OGC 06-121r9', 'OGC 08-015'), 3.0),\n",
       " (('OGC 06-121r9', 'OGC 09-046r1'), 3.0),\n",
       " (('OGC 06-121r9', 'OGC 07-107r1'), 3.0),\n",
       " (('OGC 06-121r9', 'Namespaces In XML'), 3.0),\n",
       " (('OGC 06-121r9', 'XML 1.0'), 3.0),\n",
       " (('OGC 06-121r9', 'SOAP'), 3.0),\n",
       " (('OGC 06-121r9', 'XML-binary Optimized Packaging'), 3.0),\n",
       " (('OGC 06-121r9', 'IETF RFC 4646'), 2.0),\n",
       " (('OGC 06-121r9', 'XML Schema'), 2.0),\n",
       " (('OGC 19-072', 'IETF RFC 2818'), 2.0),\n",
       " (('OGC 19-072', 'IETF RFC 3986'), 2.0),\n",
       " (('OGC 19-072', 'IETF RFC 6570'), 2.0),\n",
       " (('OGC 19-072', 'IETF RFC 7232'), 2.0),\n",
       " (('OGC 19-072', 'IETF RFC 7807'), 2.0),\n",
       " (('OGC 19-072', 'OpenAPI Specification'), 2.0),\n",
       " (('OGC 05-005', 'IETF RFC 2045'), 1.0),\n",
       " (('OGC 05-005', 'IETF RFC 2119'), 1.0),\n",
       " (('OGC 05-005', 'SLD'), 1.0),\n",
       " (('OGC 05-005', 'XML 1.0'), 1.0),\n",
       " (('OGC 06-042', 'ISO 8601:2004'), 1.0),\n",
       " (('OGC 06-042', 'ISO 19111'), 1.0),\n",
       " (('OGC 06-042', 'ISO 19115'), 1.0),\n",
       " (('OGC 06-042', 'IETF RFC 2045'), 1.0),\n",
       " (('OGC 06-042', 'IETF RFC 2396'), 1.0),\n",
       " (('OGC 06-042', 'IETF RFC 2616'), 1.0),\n",
       " (('OGC 06-042', 'UCUM'), 1.0),\n",
       " (('OGC 06-042', 'XML 1.0'), 1.0),\n",
       " (('OGC 06-042', 'XML Schema'), 1.0),\n",
       " (('OGC 07-057r7', 'ISO 19105'), 1.0),\n",
       " (('OGC 07-057r7', 'OGC 06-121r3'), 1.0),\n",
       " (('OGC 07-057r7', 'SOAP'), 1.0),\n",
       " (('OGC 07-057r7', 'WSDL 1.1'), 1.0),\n",
       " (('OGC 08-068r2', 'IETF RFC 2616'), 1.0),\n",
       " (('OGC 08-068r2', 'ISO 8601'), 1.0),\n",
       " (('OGC 08-068r2', 'OGC 05-007r7'), 1.0),\n",
       " (('OGC 08-068r2', 'OGC 06-121r3'), 1.0),\n",
       " (('OGC 08-068r2', 'OGC 07-011'), 1.0),\n",
       " (('OGC 08-068r2', 'OGC 07-067r5'), 1.0),\n",
       " (('OGC 08-068r2', 'OGC 07-092r1'), 1.0),\n",
       " (('OGC 08-068r2', 'OGC 08-053r2'), 1.0),\n",
       " (('OGC 08-068r2', 'OGC 08-059r3'), 1.0),\n",
       " (('OGC 09-025r2', 'ISO/TS 19103'), 1.0),\n",
       " (('OGC 09-025r2', 'ISO 19136'), 1.0),\n",
       " (('OGC 09-025r2', 'OGC 09-026r2'), 1.0),\n",
       " (('OGC 09-025r2', 'IETF RFC 2616'), 1.0),\n",
       " (('OGC 09-025r2', 'IETF RFC 4646'), 1.0),\n",
       " (('OGC 09-025r2', 'OGC 06-121r3'), 1.0),\n",
       " (('OGC 09-025r2', 'OGC 07-092r3'), 1.0),\n",
       " (('OGC 09-025r2', 'SOAP'), 1.0),\n",
       " (('OGC 09-025r2', 'WSDL 1.1'), 1.0),\n",
       " (('OGC 09-025r2', 'Namespaces In XML'), 1.0),\n",
       " (('OGC 09-025r2', 'XML Path Language'), 1.0),\n",
       " (('OGC 09-025r2', 'XML Schema'), 1.0),\n",
       " (('OGC 09-083r4', 'ISO 19103'), 1.0),\n",
       " (('OGC 09-083r4', 'ISO 19115'), 1.0),\n",
       " (('OGC 09-083r4', 'ISO 19115-2'), 1.0),\n",
       " (('OGC 09-083r4', 'ISO 19111'), 1.0),\n",
       " (('OGC 09-083r4', 'OGC 01-009'), 1.0),\n",
       " (('OGC 09-083r4', 'JSR 363'), 1.0),\n",
       " (('OGC 11-014r3', 'OGC 08-015r2'), 1.0),\n",
       " (('OGC 11-014r3', 'UML'), 1.0),\n",
       " (('OGC 11-014r3', 'XML 1.0'), 1.0),\n",
       " (('OGC 14-065', 'OGC 08-131r3'), 1.0),\n",
       " (('OGC 14-065', 'IETF RFC 4646'), 1.0),\n",
       " (('OGC 14-065', 'IETF RFC 3986'), 1.0),\n",
       " (('OGC 14-065', 'ISO 8601:2004'), 1.0),\n",
       " (('OGC 14-065', 'XML Schema'), 1.0),\n",
       " (('OGC 15-001r4', 'OGC 04-046r3'), 1.0),\n",
       " (('OGC 15-001r4', 'OGC CityGML'), 1.0),\n",
       " (('OGC 15-001r4', 'XML 1.0'), 1.0),\n",
       " (('OGC 15-001r4', 'IETF RFC 1738'), 1.0),\n",
       " (('OGC 15-001r4', 'IETF RFC 2046'), 1.0),\n",
       " (('OGC 15-001r4', 'ISO/IEC 14977'), 1.0),\n",
       " (('OGC 15-001r4', 'ISO 19117'), 1.0),\n",
       " (('OGC 15-001r4', 'IETF RFC 3986'), 1.0),\n",
       " (('OGC 15-001r4', 'KML'), 1.0),\n",
       " (('OGC 17-089r1', 'OGC 07-011'), 1.0),\n",
       " (('OGC 17-089r1', 'OGC 09-146r2'), 1.0),\n",
       " (('OGC 17-089r1', 'OGC 09-146r6'), 1.0),\n",
       " (('OGC 17-089r1', 'OGC 09-110r4'), 1.0),\n",
       " (('OGC 17-089r1', 'OGC 16-083r2'), 1.0),\n",
       " (('OGC 19-072', 'IETF RFC 7231'), 1.0),\n",
       " (('OGC 19-072', 'IETF RFC 8288'), 1.0),\n",
       " (('OGC 19-072', 'IETF RFC 8259'), 1.0),\n",
       " (('OGC 20-024', 'IETF RFC 3339'), 1.0),\n",
       " (('OGC 20-024', 'IETF RFC 7231'), 1.0),\n",
       " (('OGC 20-024', 'IETF RFC 8259'), 1.0),\n",
       " (('OGC 20-024', 'IETF RFC 8288'), 1.0),\n",
       " (('OGC 20-024', 'JSON Schema'), 1.0),\n",
       " (('OGC 20-024', 'GML'), 1.0),\n",
       " (('OGC 20-024', 'HTML5'), 1.0)]"
      ]
     },
     "execution_count": 67,
     "metadata": {},
     "output_type": "execute_result"
    }
   ],
   "source": [
    "edge_bet = nx.edge_betweenness_centrality(ogc_nx,normalized=False,weight='value').items()\n",
    "sorted(edge_bet,key=lambda pair: -pair[1])"
   ]
  },
  {
   "cell_type": "code",
   "execution_count": 57,
   "id": "61187d0b",
   "metadata": {},
   "outputs": [
    {
     "name": "stdout",
     "output_type": "stream",
     "text": [
      "{'value': 2.5649493574615367}\n"
     ]
    }
   ],
   "source": [
    "print(ogc_nx.get_edge_data('OGC 05-005','IETF RFC 2045'))"
   ]
  },
  {
   "cell_type": "code",
   "execution_count": 69,
   "id": "89c46b74",
   "metadata": {},
   "outputs": [
    {
     "data": {
      "text/plain": [
       "[(('OGC 17-089r1', 'OGC 06-121r9'), 27.0),\n",
       " (('OGC 14-065', 'OGC 06-121r9'), 25.0),\n",
       " (('OGC 20-024', 'OGC 19-072'), 7.0),\n",
       " (('OGC 06-121r9', 'CGI'), 3.0),\n",
       " (('OGC 06-121r9', 'IETF RFC 2045'), 3.0),\n",
       " (('OGC 06-121r9', 'IETF RFC 2141'), 3.0),\n",
       " (('OGC 06-121r9', 'IETF RFC 2396'), 3.0),\n",
       " (('OGC 06-121r9', 'IETF RFC 2616'), 3.0),\n",
       " (('OGC 06-121r9', 'ISO/IEC Directives, Part 2'), 3.0),\n",
       " (('OGC 06-121r9', 'ISO 4217:2001'), 3.0),\n",
       " (('OGC 06-121r9', 'ISO 8601:2000'), 3.0),\n",
       " (('OGC 06-121r9', 'ISO 19115'), 3.0),\n",
       " (('OGC 06-121r9', 'ISO 19119'), 3.0),\n",
       " (('OGC 06-121r9', 'ISO 19123'), 3.0),\n",
       " (('OGC 06-121r9', 'OGC 02-112'), 3.0),\n",
       " (('OGC 06-121r9', 'OGC 03-105r1'), 3.0),\n",
       " (('OGC 06-121r9', 'OGC 04-046r3'), 3.0),\n",
       " (('OGC 06-121r9', 'OGC 04-092r4'), 3.0),\n",
       " (('OGC 06-121r9', 'OGC 07-092r1'), 3.0),\n",
       " (('OGC 06-121r9', 'OGC 08-008r2'), 3.0),\n",
       " (('OGC 06-121r9', 'OGC 08-015'), 3.0),\n",
       " (('OGC 06-121r9', 'OGC 09-046r1'), 3.0),\n",
       " (('OGC 06-121r9', 'OGC 07-107r1'), 3.0),\n",
       " (('OGC 06-121r9', 'Namespaces In XML'), 3.0),\n",
       " (('OGC 06-121r9', 'XML 1.0'), 3.0),\n",
       " (('OGC 06-121r9', 'SOAP'), 3.0),\n",
       " (('OGC 06-121r9', 'XML-binary Optimized Packaging'), 3.0),\n",
       " (('OGC 06-121r9', 'IETF RFC 4646'), 2.0),\n",
       " (('OGC 06-121r9', 'XML Schema'), 2.0),\n",
       " (('OGC 19-072', 'IETF RFC 2818'), 2.0),\n",
       " (('OGC 19-072', 'IETF RFC 3986'), 2.0),\n",
       " (('OGC 19-072', 'IETF RFC 6570'), 2.0),\n",
       " (('OGC 19-072', 'IETF RFC 7232'), 2.0),\n",
       " (('OGC 19-072', 'IETF RFC 7807'), 2.0),\n",
       " (('OGC 19-072', 'OpenAPI Specification'), 2.0),\n",
       " (('OGC 05-005', 'IETF RFC 2045'), 1.0),\n",
       " (('OGC 05-005', 'IETF RFC 2119'), 1.0),\n",
       " (('OGC 05-005', 'SLD'), 1.0),\n",
       " (('OGC 05-005', 'XML 1.0'), 1.0),\n",
       " (('OGC 06-042', 'ISO 8601:2004'), 1.0),\n",
       " (('OGC 06-042', 'ISO 19111'), 1.0),\n",
       " (('OGC 06-042', 'ISO 19115'), 1.0),\n",
       " (('OGC 06-042', 'IETF RFC 2045'), 1.0),\n",
       " (('OGC 06-042', 'IETF RFC 2396'), 1.0),\n",
       " (('OGC 06-042', 'IETF RFC 2616'), 1.0),\n",
       " (('OGC 06-042', 'UCUM'), 1.0),\n",
       " (('OGC 06-042', 'XML 1.0'), 1.0),\n",
       " (('OGC 06-042', 'XML Schema'), 1.0),\n",
       " (('OGC 07-057r7', 'ISO 19105'), 1.0),\n",
       " (('OGC 07-057r7', 'OGC 06-121r3'), 1.0),\n",
       " (('OGC 07-057r7', 'SOAP'), 1.0),\n",
       " (('OGC 07-057r7', 'WSDL 1.1'), 1.0),\n",
       " (('OGC 08-068r2', 'IETF RFC 2616'), 1.0),\n",
       " (('OGC 08-068r2', 'ISO 8601'), 1.0),\n",
       " (('OGC 08-068r2', 'OGC 05-007r7'), 1.0),\n",
       " (('OGC 08-068r2', 'OGC 06-121r3'), 1.0),\n",
       " (('OGC 08-068r2', 'OGC 07-011'), 1.0),\n",
       " (('OGC 08-068r2', 'OGC 07-067r5'), 1.0),\n",
       " (('OGC 08-068r2', 'OGC 07-092r1'), 1.0),\n",
       " (('OGC 08-068r2', 'OGC 08-053r2'), 1.0),\n",
       " (('OGC 08-068r2', 'OGC 08-059r3'), 1.0),\n",
       " (('OGC 09-025r2', 'ISO/TS 19103'), 1.0),\n",
       " (('OGC 09-025r2', 'ISO 19136'), 1.0),\n",
       " (('OGC 09-025r2', 'OGC 09-026r2'), 1.0),\n",
       " (('OGC 09-025r2', 'IETF RFC 2616'), 1.0),\n",
       " (('OGC 09-025r2', 'IETF RFC 4646'), 1.0),\n",
       " (('OGC 09-025r2', 'OGC 06-121r3'), 1.0),\n",
       " (('OGC 09-025r2', 'OGC 07-092r3'), 1.0),\n",
       " (('OGC 09-025r2', 'SOAP'), 1.0),\n",
       " (('OGC 09-025r2', 'WSDL 1.1'), 1.0),\n",
       " (('OGC 09-025r2', 'Namespaces In XML'), 1.0),\n",
       " (('OGC 09-025r2', 'XML Path Language'), 1.0),\n",
       " (('OGC 09-025r2', 'XML Schema'), 1.0),\n",
       " (('OGC 09-083r4', 'ISO 19103'), 1.0),\n",
       " (('OGC 09-083r4', 'ISO 19115'), 1.0),\n",
       " (('OGC 09-083r4', 'ISO 19115-2'), 1.0),\n",
       " (('OGC 09-083r4', 'ISO 19111'), 1.0),\n",
       " (('OGC 09-083r4', 'OGC 01-009'), 1.0),\n",
       " (('OGC 09-083r4', 'JSR 363'), 1.0),\n",
       " (('OGC 11-014r3', 'OGC 08-015r2'), 1.0),\n",
       " (('OGC 11-014r3', 'UML'), 1.0),\n",
       " (('OGC 11-014r3', 'XML 1.0'), 1.0),\n",
       " (('OGC 14-065', 'OGC 08-131r3'), 1.0),\n",
       " (('OGC 14-065', 'IETF RFC 4646'), 1.0),\n",
       " (('OGC 14-065', 'IETF RFC 3986'), 1.0),\n",
       " (('OGC 14-065', 'ISO 8601:2004'), 1.0),\n",
       " (('OGC 14-065', 'XML Schema'), 1.0),\n",
       " (('OGC 15-001r4', 'OGC 04-046r3'), 1.0),\n",
       " (('OGC 15-001r4', 'OGC CityGML'), 1.0),\n",
       " (('OGC 15-001r4', 'XML 1.0'), 1.0),\n",
       " (('OGC 15-001r4', 'IETF RFC 1738'), 1.0),\n",
       " (('OGC 15-001r4', 'IETF RFC 2046'), 1.0),\n",
       " (('OGC 15-001r4', 'ISO/IEC 14977'), 1.0),\n",
       " (('OGC 15-001r4', 'ISO 19117'), 1.0),\n",
       " (('OGC 15-001r4', 'IETF RFC 3986'), 1.0),\n",
       " (('OGC 15-001r4', 'KML'), 1.0),\n",
       " (('OGC 17-089r1', 'OGC 07-011'), 1.0),\n",
       " (('OGC 17-089r1', 'OGC 09-146r2'), 1.0),\n",
       " (('OGC 17-089r1', 'OGC 09-146r6'), 1.0),\n",
       " (('OGC 17-089r1', 'OGC 09-110r4'), 1.0),\n",
       " (('OGC 17-089r1', 'OGC 16-083r2'), 1.0),\n",
       " (('OGC 19-072', 'IETF RFC 7231'), 1.0),\n",
       " (('OGC 19-072', 'IETF RFC 8288'), 1.0),\n",
       " (('OGC 19-072', 'IETF RFC 8259'), 1.0),\n",
       " (('OGC 20-024', 'IETF RFC 3339'), 1.0),\n",
       " (('OGC 20-024', 'IETF RFC 7231'), 1.0),\n",
       " (('OGC 20-024', 'IETF RFC 8259'), 1.0),\n",
       " (('OGC 20-024', 'IETF RFC 8288'), 1.0),\n",
       " (('OGC 20-024', 'JSON Schema'), 1.0),\n",
       " (('OGC 20-024', 'GML'), 1.0),\n",
       " (('OGC 20-024', 'HTML5'), 1.0)]"
      ]
     },
     "execution_count": 69,
     "metadata": {},
     "output_type": "execute_result"
    }
   ],
   "source": [
    "edge_bet = nx.edge_betweenness_centrality(ogc_nx,normalized=False).items()\n",
    "sorted(edge_bet,key=lambda pair: -pair[1])"
   ]
  },
  {
   "cell_type": "code",
   "execution_count": 79,
   "id": "23118b41",
   "metadata": {},
   "outputs": [
    {
     "data": {
      "text/plain": [
       "['OGC 06-121r9',\n",
       " 'OGC 19-072',\n",
       " 'OGC 09-025r2',\n",
       " 'OGC 15-001r4',\n",
       " 'OGC 08-068r2',\n",
       " 'OGC 09-083r4',\n",
       " 'OGC 20-024',\n",
       " 'OGC 17-089r1',\n",
       " 'OGC 06-042',\n",
       " 'OGC 05-005',\n",
       " 'OGC 11-014r3',\n",
       " 'OGC 07-057r7',\n",
       " 'OGC 14-065']"
      ]
     },
     "execution_count": 79,
     "metadata": {},
     "output_type": "execute_result"
    }
   ],
   "source": [
    "#voterank avec les normes internes les plus influentes\n",
    "nx.voterank(ogc_nx)"
   ]
  },
  {
   "cell_type": "code",
   "execution_count": 81,
   "id": "b6e2277d",
   "metadata": {},
   "outputs": [
    {
     "name": "stderr",
     "output_type": "stream",
     "text": [
      "UsageError: %%latex is a cell magic, but the cell body is empty.\n"
     ]
    }
   ],
   "source": []
  },
  {
   "cell_type": "code",
   "execution_count": null,
   "id": "ac18cf04",
   "metadata": {},
   "outputs": [],
   "source": []
  }
 ],
 "metadata": {
  "kernelspec": {
   "display_name": "venvogc",
   "language": "python",
   "name": "venvogc"
  },
  "language_info": {
   "codemirror_mode": {
    "name": "ipython",
    "version": 3
   },
   "file_extension": ".py",
   "mimetype": "text/x-python",
   "name": "python",
   "nbconvert_exporter": "python",
   "pygments_lexer": "ipython3",
   "version": "3.10.10"
  }
 },
 "nbformat": 4,
 "nbformat_minor": 5
}
