{
 "cells": [
  {
   "cell_type": "code",
   "execution_count": 12,
   "id": "81166fab",
   "metadata": {},
   "outputs": [
    {
     "data": {
      "text/plain": [
       "['CGI, The Common Gateway Interface, National Center for Supercomputing Applications, \\nhttp://hoohoo.ncsa.uiuc.edu/cgi/',\n",
       " 'IETF  RFC 2045 (November 1996), Multipurpose Internet Mail Extensions (MIME) Part \\nOne: Format of Internet Message Bodies , Freed, N. and Borenstein N., eds., \\nhttp://www.ietf.org/rfc/rfc2045.txt',\n",
       " 'IETF RFC 2141 ( May 1997), URN Syntax , R. Moats, http://www.ietf.org/rfc/rfc2141.txt',\n",
       " 'IETF RFC 2396 (August 1998), Uniform Resource Identifiers (URI): Generic Syntax , \\nBerners -Lee, T., Fielding, N., and Masinter, L., eds. , http://www.ietf.org/rfc/rfc2396.txt',\n",
       " 'IETF RFC 2616 (June 1999), Hypertext Transfer Protocol – HTTP/1.1 , Gettys, J., \\nMogul, J., Frystyk, H., Masinter, L., Leach, P., and Berners -Lee, T., eds., \\nhttp://www.ietf.org/rfc/rfc2616.txt',\n",
       " 'IETF RFC 4646 (September 2006), Tags for Identifying Languages , Phillips, A. and \\nDavies, M., eds., http://www.ietf.org/rfc/rf c4646.txt',\n",
       " 'IANA, Internet Assigned Numbers Authority, MIME Media Types , available at \\nhttp://www.iana.org/assignments/media -types/',\n",
       " 'ISO/IEC Directives, Part 2. Rules for the structure and drafting o f International \\nStandards ',\n",
       " 'ISO 4217:2001, Codes for the representation of currencies and funds',\n",
       " 'ISO 8601:2000(E), Data elements and interchange formats - Information interchange - \\nRepresentation of dates and times . \\nISO 19115:2003, Geographic information — Metadata',\n",
       " 'ISO 19115:2003/Cor 1:2006, Geographic information – Metadata – Technical \\nCorrigendum 1',\n",
       " 'ISO 19119:2005, Geographic information — Services',\n",
       " 'ISO 19119:2005/Amd 1:2008, Geographic information – Services – Extensions of the \\nservice metadata model',\n",
       " 'ISO 191 23:2005, Geographic information - Schema for coverage geometry and functions  ']"
      ]
     },
     "execution_count": 12,
     "metadata": {},
     "output_type": "execute_result"
    }
   ],
   "source": [
    "#Fonction de récupération des dépendances première partie\n",
    "\n",
    "from pypdf import PdfReader\n",
    "\n",
    "reader = PdfReader(\"pdf/06-121r9_OGC_Web_Services_Common_Standard-1.pdf\")\n",
    "page = reader.pages[19]\n",
    "text = page.extract_text()\n",
    "\n",
    "type(text)\n",
    "\n",
    "textSplitList = text.split(\".  \\n\")\n",
    "standardSplitList = textSplitList[2].split(\"  \\n\")\n",
    "standardSplitList"
   ]
  },
  {
   "cell_type": "code",
   "execution_count": 5,
   "id": "4844d65e",
   "metadata": {},
   "outputs": [
    {
     "data": {
      "text/plain": [
       "['OGC 02 -112, OpenGIS Abstract Specification Topic 12: OpenGIS Service Architecture',\n",
       " 'OGC 03 -105r1,  OpenGIS Geography Markup Language (GML) Implementation \\nSpecification , Version 3.1, February 2004',\n",
       " 'OGC 04 -046r3, The OpenGIS Abstract Specification, Topic 2: Spatial Referencing by \\nCoordinates , August 2004',\n",
       " 'OGC 04 -092r4,  OpenGIS Geography Markup Language (GML) Implementation \\nSpecification Schemas , Version 3.1.1',\n",
       " 'OGC 07 -092r1, Definition iden tifier URNs in OGC namespace',\n",
       " 'OGC 08 -008r2, OpenGIS® Abstract Specification Proposed Topic 19: General Reference \\nSystems',\n",
       " 'OGC 08 -015, The OpenGIS® Abstract Specification Topic 2: Spatial referencing by \\ncoordinates',\n",
       " 'OGC 09 -046r1,  OGC Naming Authority: Policies  and Procedures',\n",
       " '07-107r1, OGC URN Document , October 2007',\n",
       " 'W3C Recommendation January 1999, Namespaces  In XML , \\nhttp://www.w3.org/TR/2000/REC -xml-names . \\nW3C Recommendation 4 February 2004, Extensible Ma rkup Language (XML) 1.0  (Third \\nEdition), http://www.w3.org/TR/REC -xml \\nW3C Recommendation 2 May 2001: XML Schema Part 0: Primer,',\n",
       " 'http://www.w3.or g/TR/2001/REC -xmlschema -0-20010502/',\n",
       " 'W3C Recommendation 2 May 2001: XML Schema Part 1: Structures,',\n",
       " 'http://www.w3.org/TR/2001/REC -xmlschema -1-20010502/',\n",
       " 'W3C Recommendation 2 May 2001: XML Sch ema Part 2: Datatypes,',\n",
       " 'http://www.w3.org/TR/2001/REC -xmlschema -2-20010502/',\n",
       " 'W3C Recommendation 24 June 2003: SOAP Version 1.2 Part 1: Messaging Framework, \\nhttp://www.w3.org/TR/SOAP/',\n",
       " 'W3C Recommendation 25 January 2005: SOAP Message Transmission Optimization \\nMechanism',\n",
       " 'W3C Recommendation 25 January 2005: XML -binary Optimized Packaging',\n",
       " 'In addition to this document, this specification includes a number o f normative XML \\nSchema Document files. Following approval of this document, these files will be posted \\nonline at the URL http://schemas.opengis.net/ows/2.0/ . These files are also bundled with ']"
      ]
     },
     "execution_count": 5,
     "metadata": {},
     "output_type": "execute_result"
    }
   ],
   "source": [
    "#Fonctione de récupération des dépendances deuxèmes parties\n",
    "\n",
    "page2 = reader.pages[20]\n",
    "text = page2.extract_text()\n",
    "\n",
    "textSplitList2 = text.split(\" \\n \")\n",
    "standardSplitList2 = textSplitList2[1].split(\"  \\n\")\n",
    "standardSplitList2"
   ]
  },
  {
   "cell_type": "code",
   "execution_count": 9,
   "id": "84d2a468",
   "metadata": {},
   "outputs": [
    {
     "data": {
      "text/plain": [
       "['OGC 02 -112, OpenGIS Abstract Specification Topic 12: OpenGIS Service Architecture',\n",
       " 'OGC 03 -105r1,  OpenGIS Geography Markup Language (GML) Implementation \\nSpecification , Version 3.1, February 2004',\n",
       " 'OGC 04 -046r3, The OpenGIS Abstract Specification, Topic 2: Spatial Referencing by \\nCoordinates , August 2004',\n",
       " 'OGC 04 -092r4,  OpenGIS Geography Markup Language (GML) Implementation \\nSpecification Schemas , Version 3.1.1',\n",
       " 'OGC 07 -092r1, Definition iden tifier URNs in OGC namespace',\n",
       " 'OGC 08 -008r2, OpenGIS® Abstract Specification Proposed Topic 19: General Reference \\nSystems',\n",
       " 'OGC 08 -015, The OpenGIS® Abstract Specification Topic 2: Spatial referencing by \\ncoordinates',\n",
       " 'OGC 09 -046r1,  OGC Naming Authority: Policies  and Procedures',\n",
       " '07-107r1, OGC URN Document , October 2007',\n",
       " 'W3C Recommendation January 1999, Namespaces  In XML , \\nhttp://www.w3.org/TR/2000/REC -xml-names . \\nW3C Recommendation 4 February 2004, Extensible Ma rkup Language (XML) 1.0  (Third \\nEdition), http://www.w3.org/TR/REC -xml \\nW3C Recommendation 2 May 2001: XML Schema Part 0: Primer,',\n",
       " 'W3C Recommendation 2 May 2001: XML Schema Part 1: Structures,',\n",
       " 'W3C Recommendation 2 May 2001: XML Sch ema Part 2: Datatypes,',\n",
       " 'W3C Recommendation 24 June 2003: SOAP Version 1.2 Part 1: Messaging Framework, \\nhttp://www.w3.org/TR/SOAP/',\n",
       " 'W3C Recommendation 25 January 2005: SOAP Message Transmission Optimization \\nMechanism',\n",
       " 'W3C Recommendation 25 January 2005: XML -binary Optimized Packaging']"
      ]
     },
     "execution_count": 9,
     "metadata": {},
     "output_type": "execute_result"
    }
   ],
   "source": [
    "#Nettoyage de la liste page 2\n",
    "import re\n",
    "\n",
    "r = re.compile(\".*OGC|.*W3C|\")\n",
    "cleanStandardList2 = list(filter(r.match, standardSplitList2))\n",
    "cleanStandardList2"
   ]
  },
  {
   "cell_type": "code",
   "execution_count": 11,
   "id": "256dbaac",
   "metadata": {},
   "outputs": [
    {
     "data": {
      "text/plain": [
       "['IETF  RFC 2045 (November 1996), Multipurpose Internet Mail Extensions (MIME) Part \\nOne: Format of Internet Message Bodies , Freed, N. and Borenstein N., eds., \\nhttp://www.ietf.org/rfc/rfc2045.txt',\n",
       " 'IETF RFC 2141 ( May 1997), URN Syntax , R. Moats, http://www.ietf.org/rfc/rfc2141.txt',\n",
       " 'IETF RFC 2396 (August 1998), Uniform Resource Identifiers (URI): Generic Syntax , \\nBerners -Lee, T., Fielding, N., and Masinter, L., eds. , http://www.ietf.org/rfc/rfc2396.txt',\n",
       " 'IETF RFC 2616 (June 1999), Hypertext Transfer Protocol – HTTP/1.1 , Gettys, J., \\nMogul, J., Frystyk, H., Masinter, L., Leach, P., and Berners -Lee, T., eds., \\nhttp://www.ietf.org/rfc/rfc2616.txt',\n",
       " 'IETF RFC 4646 (September 2006), Tags for Identifying Languages , Phillips, A. and \\nDavies, M., eds., http://www.ietf.org/rfc/rf c4646.txt',\n",
       " 'ISO/IEC Directives, Part 2. Rules for the structure and drafting o f International \\nStandards ',\n",
       " 'ISO 4217:2001, Codes for the representation of currencies and funds',\n",
       " 'ISO 8601:2000(E), Data elements and interchange formats - Information interchange - \\nRepresentation of dates and times . \\nISO 19115:2003, Geographic information — Metadata',\n",
       " 'ISO 19115:2003/Cor 1:2006, Geographic information – Metadata – Technical \\nCorrigendum 1',\n",
       " 'ISO 19119:2005, Geographic information — Services',\n",
       " 'ISO 19119:2005/Amd 1:2008, Geographic information – Services – Extensions of the \\nservice metadata model',\n",
       " 'ISO 191 23:2005, Geographic information - Schema for coverage geometry and functions  ']"
      ]
     },
     "execution_count": 11,
     "metadata": {},
     "output_type": "execute_result"
    }
   ],
   "source": [
    "#Nettoyage de la liste page 1\n",
    "import re\n",
    "\n",
    "r = re.compile(\".*OGC|.*W3C|.*ISO|.*IETF\")\n",
    "cleanStandardList = list(filter(r.match, standardSplitList))\n",
    "cleanStandardList"
   ]
  },
  {
   "cell_type": "code",
   "execution_count": 41,
   "id": "3b23ea01",
   "metadata": {},
   "outputs": [
    {
     "data": {
      "text/plain": [
       "['EPSG, European Petroleum Survey Group Geodesy Parameters, Lott, R., Ravanas, B., Cain, J., Girbig, J.-P., and Nicolai, R., eds., <http://www.epsg.org/',\n",
       " ' \\nIETF RFC 2045 (November 1996), Multipurpose Internet Mail Extensions (MIME) Part One: \\nFormat of Internet Message Bodies, Freed, N. and Borenstein N., eds., \\n<http://www.ietf.org/rfc/rfc2045.txt',\n",
       " ' \\nIETF RFC 2119 (March 1997), Key words for use in RFCs to Indicate Requirement Levels , \\nBradner, S., ed., <http://www.ietf.org/rfc/rfc2119.txt',\n",
       " '. OGC 05-005  \\nOpen Geospatial Consortium, Inc (2005)  Copyright © 10\\n SLD  1.0.0 (September 2002), Styled Layer Description (SLD) 1.0.0, OGC Proposed \\nImplementation Specification,  William Lalonde,  \\n<http://www.opengeospatial.org/techno/specs/02-070.pdf',\n",
       " ' \\nXML 1.0 (October 2000), eXtensible Markup Language (XML) 1.0 ( 2nd edition) , World Wide \\nWeb Consortium Recommendation, Bray, T., Paoli, J., Sperberg-McQueen, C.M., and Maler, E., eds., <http://www.w3.org/TR/2000/REC-xml',\n",
       " ' \\n']"
      ]
     },
     "execution_count": 41,
     "metadata": {},
     "output_type": "execute_result"
    }
   ],
   "source": [
    "#Récupération automatique du texte entre deux balises\n",
    "#Extraction du texte de tout le pdf\n",
    "from pypdf import PdfReader\n",
    "\n",
    "reader = PdfReader(\"pdf/05-005_Web_Map_Context_Documents_Implementation_Specification.pdf\")\n",
    "text = \"\"\n",
    "\n",
    "for page in reader.pages:\n",
    "    text = text + page.extract_text()\n",
    "\n",
    "#Split du text afin de retrouver la partie des références normatives\n",
    "textSplitList = text.split(\"3 Normative references \")\n",
    "\n",
    "#Prise en charge d'une formulation différente\n",
    "if len(textSplitList) < 2 :\n",
    "    textSplitList = text.split(\"3 References\")\n",
    "\n",
    "textSplitList = textSplitList[2].split(\"4 Terms and definitions\")\n",
    "\n",
    "#On retire le paragraphe de texte situé avant les références\n",
    "refSplitList = textSplitList[0].split(\". \\n\")\n",
    "del(refSplitList[0])\n",
    "#Classer dans une liste chacune des références\n",
    "refSplitList = refSplitList[0].split(\">\")\n",
    "refSplitList"
   ]
  },
  {
   "cell_type": "code",
   "execution_count": 38,
   "id": "cf759d1c",
   "metadata": {},
   "outputs": [
    {
     "ename": "ModuleNotFoundError",
     "evalue": "No module named 'JSON'",
     "output_type": "error",
     "traceback": [
      "\u001b[0;31m---------------------------------------------------------------------------\u001b[0m",
      "\u001b[0;31mModuleNotFoundError\u001b[0m                       Traceback (most recent call last)",
      "Cell \u001b[0;32mIn[38], line 2\u001b[0m\n\u001b[1;32m      1\u001b[0m \u001b[38;5;66;03m#Mise en forme des listes au format JSON compatible pour l'entré de la visualisation\u001b[39;00m\n\u001b[0;32m----> 2\u001b[0m \u001b[38;5;28;01mimport\u001b[39;00m \u001b[38;5;21;01mJSON\u001b[39;00m\n",
      "\u001b[0;31mModuleNotFoundError\u001b[0m: No module named 'JSON'"
     ]
    }
   ],
   "source": [
    "#Mise en forme des listes au format JSON compatible pour l'entré de la visualisation\n",
    "import json\n",
    "\n",
    "\n",
    "\n",
    "with open(\"test.json\",'w') as fp:\n",
    "    "
   ]
  },
  {
   "cell_type": "code",
   "execution_count": null,
   "id": "1c017ac0",
   "metadata": {},
   "outputs": [],
   "source": [
    "#Comptage du nombre de d'appel aux références listée\n"
   ]
  }
 ],
 "metadata": {
  "kernelspec": {
   "display_name": "venvogc",
   "language": "python",
   "name": "venvogc"
  },
  "language_info": {
   "codemirror_mode": {
    "name": "ipython",
    "version": 3
   },
   "file_extension": ".py",
   "mimetype": "text/x-python",
   "name": "python",
   "nbconvert_exporter": "python",
   "pygments_lexer": "ipython3",
   "version": "3.10.10"
  }
 },
 "nbformat": 4,
 "nbformat_minor": 5
}
