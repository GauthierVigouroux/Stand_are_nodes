{
 "cells": [
  {
   "cell_type": "markdown",
   "id": "80ab291f",
   "metadata": {},
   "source": [
    "# Visualisation de l'écosystème normatif des webservices OGC\n",
    "## Définition des fonctions nécéssaires\n",
    "### <u> edge_weight :</u> Définition du poid pour un noeud donné\n",
    "* **<u>Entrées :</u>**\n",
    " * **ogc_nx :** L'instance nx.DiGraph() des noeuds que l'on souhaite analyser.\n",
    " * **standard :** Standard source (Déjà présent de base dans le fichier) à l'origine de la référence (départ de l'arête).\n",
    " * **ref :** Référence présente dans la source (destination de l'arête).\n",
    " * **OGCDict :** Dictionnaire de départ comportant toutes les normes et référence.\n",
    "* <u>Sortie :</u>\n",
    " * **w :** Poid de la relation entre **standard :** et **ref :**"
   ]
  },
  {
   "cell_type": "code",
   "execution_count": 1,
   "id": "0f92c563",
   "metadata": {},
   "outputs": [],
   "source": [
    "def edge_weight(ogc_nx,standard,ref,OGCDict):\n",
    "    #Fréquence d'apparission de la référence dans le standard (Normal de rajouter +1 car il est tout de même cité dans la partie Référence normative)\n",
    "    tf_ref = OGCDict[standard][\"references\"][ref] + 1\n",
    "\n",
    "    #Nombre totale de standard de base.\n",
    "    N = len(OGCDict.keys())\n",
    "    \n",
    "    #Nombre de fois que la référence est citée dans l'écosystème\n",
    "    listedge = ogc_nx.edges()\n",
    "    sf_ref = 1\n",
    "\n",
    "    for edge in listedge:\n",
    "        src, to = edge\n",
    "        if to==ref:\n",
    "            sf_ref=sf_ref+1\n",
    "\n",
    "    isf_ref = math.log(len(OGCDict.keys())/sf_ref)\n",
    "    #w = math.log(tf_ref * isf_ref)\n",
    "    w = tf_ref * isf_ref\n",
    "    \n",
    "    return w\n",
    "    #Ajout du paramètres de poids dans la relation\n",
    "#    for edge in listedge:\n",
    "#        if ogc_net.edges[\"from\"] == src and ogc_net.edges[\"to\"] == ref :\n",
    "#            key, value = \"value\", w\n",
    "#            listedge[listedge.index(edge)].update({key: value})"
   ]
  },
  {
   "cell_type": "markdown",
   "id": "ec6f1766",
   "metadata": {},
   "source": [
    "### <u>rgb_to_hex :</u> Simple convertion de couleurs RGB en Hexadécimal\n",
    "* **<u>Entrées :</u>**\n",
    " * **rgb :** Tuple comportant les valeurs (r, g, b)\n",
    "* **<u>Sortie :</u>**\n",
    " * Valeur hexadécimale brute"
   ]
  },
  {
   "cell_type": "code",
   "execution_count": 2,
   "id": "99371ea1",
   "metadata": {},
   "outputs": [],
   "source": [
    "def rgb_to_hex(rgb):\n",
    "  return '%02x%02x%02x' % rgb"
   ]
  },
  {
   "cell_type": "markdown",
   "id": "28de4dce",
   "metadata": {},
   "source": [
    "## Ajout des noeuds à la base de données graphs"
   ]
  },
  {
   "cell_type": "code",
   "execution_count": 17,
   "id": "75c393ac",
   "metadata": {
    "scrolled": true
   },
   "outputs": [
    {
     "name": "stdout",
     "output_type": "stream",
     "text": [
      "Noeuds Principaux Ajouté !\n",
      "Noeuds secondaire ajouté\n"
     ]
    }
   ],
   "source": [
    "from pyvis.network import Network\n",
    "import json\n",
    "import networkx as nx\n",
    "import math\n",
    "\n",
    "#Mise en dico du fichier json\n",
    "with open(\"test.json\", 'r') as fp:\n",
    "    InitOGCDict = json.load(fp)\n",
    "\n",
    "#Visualisation du dico\n",
    "ogc_net = Network(directed=True, notebook=True, cdn_resources='in_line')\n",
    "ogc_nx = nx.DiGraph()\n",
    "\n",
    "##Alimentation du réseau\n",
    "##Initialisation des noeuds avec les normes de base\n",
    "ogc_nx.add_nodes_from(InitOGCDict.keys())\n",
    "print(\"Noeuds Principaux Ajouté !\")\n",
    "##Ajout du reste des noeuds qui ne font pas partie des normes de base\n",
    "for key in InitOGCDict.keys():\n",
    "    ogc_nx.add_nodes_from(InitOGCDict[key][\"references\"].keys())\n",
    "print(\"Noeuds secondaire ajouté\")\n",
    "##Ajout des liens entre les différents \n",
    "for src in InitOGCDict.keys():\n",
    "    for dest in InitOGCDict[src][\"references\"].keys():\n",
    "        #Ajout du lien avec le calcul de son poid\n",
    "        try:\n",
    "            #print('Source : ' + src)\n",
    "            #print('Référence : ' + dest)\n",
    "            ogc_nx.add_edge(src,dest,value=edge_weight(ogc_nx,src,dest,InitOGCDict)) #Peut être voir pour mettre value à la place si pyvis comprend mieux\n",
    "        except KeyError as e:\n",
    "            print(e)\n",
    "            #print(\"La relation \" + src + \" -> \" + dest + \" n'a pas pu être calculé\")\n",
    "        #Réglage de la taille des noeuds\n",
    "        ogc_nx.nodes[src]['size']=len(InitOGCDict[src]['references'].keys())*3\n",
    "        \n",
    "#ogc_net.from_nx(ogc_nx)\n",
    "#ogc_net.force_atlas_2based()\n",
    "#ogc_net.prep_notebook()\n",
    "#ogc_net.show(\"results/ogc_ws.html\")"
   ]
  },
  {
   "cell_type": "markdown",
   "id": "b56f4f76",
   "metadata": {},
   "source": [
    "## Analyse par degré de centralité avec changement de couleurs des normes de base\n",
    "* Couleur des noeuds :\n",
    " * Nuance de Rouge = référence\n",
    " * Vert/Blanc = norme de l'écosystème analysé"
   ]
  },
  {
   "cell_type": "code",
   "execution_count": 18,
   "id": "61476cc0",
   "metadata": {},
   "outputs": [],
   "source": [
    "nx.degree_centrality(ogc_nx)\n",
    "degree_centrality = nx.in_degree_centrality(ogc_nx)\n",
    "max_key = max(degree_centrality, key=lambda key: degree_centrality[key])\n",
    "max_degree = degree_centrality[max_key]\n",
    "Verifdic=dict()\n",
    "srclist=list()\n",
    "\n",
    "for n in ogc_nx.nodes:\n",
    "    if n in InitOGCDict.keys() :\n",
    "        srclist.append(src)\n",
    "        Verifdic[\"vert\"] = srclist\n",
    "        r=255*abs(((degree_centrality[n])/(max_degree)+0.1)-1)\n",
    "        g=255*abs(((degree_centrality[n])/(max_degree)+0.1)-1)\n",
    "        b=255\n",
    "        rgb = (int(r),int(b),int(g))\n",
    "        ogc_nx.nodes[n]['color']=\"#\"+rgb_to_hex(rgb)\n",
    "    else :\n",
    "        srclist.append(src)\n",
    "        Verifdic[\"rouge\"] = srclist\n",
    "        r=255\n",
    "        g=255*abs((degree_centrality[n]/max_degree)-1)\n",
    "        b=255*abs((degree_centrality[n]/max_degree)-1)\n",
    "        rgb = (int(r),int(b),int(g))\n",
    "        ogc_nx.nodes[n]['color']=\"#\"+rgb_to_hex(rgb)"
   ]
  },
  {
   "cell_type": "markdown",
   "id": "beeb8ffb",
   "metadata": {},
   "source": [
    "## Visualisation"
   ]
  },
  {
   "cell_type": "code",
   "execution_count": 19,
   "id": "0b65ae34",
   "metadata": {},
   "outputs": [
    {
     "name": "stdout",
     "output_type": "stream",
     "text": [
      "results/ogc_ws_centrality_dir.html\n"
     ]
    },
    {
     "data": {
      "text/html": [
       "\n",
       "        <iframe\n",
       "            width=\"100%\"\n",
       "            height=\"600px\"\n",
       "            src=\"results/ogc_ws_centrality_dir.html\"\n",
       "            frameborder=\"0\"\n",
       "            allowfullscreen\n",
       "            \n",
       "        ></iframe>\n",
       "        "
      ],
      "text/plain": [
       "<IPython.lib.display.IFrame at 0x7f5cb4125bd0>"
      ]
     },
     "execution_count": 19,
     "metadata": {},
     "output_type": "execute_result"
    }
   ],
   "source": [
    "ogc_net.from_nx(ogc_nx)\n",
    "ogc_net.inherit_edge_colors(False)\n",
    "#ogc_net.force_atlas_2based()\n",
    "ogc_net.prep_notebook()\n",
    "ogc_net.show(\"results/ogc_ws_centrality_dir.html\")"
   ]
  },
  {
   "cell_type": "markdown",
   "id": "cf3ab239",
   "metadata": {},
   "source": [
    "### Résultat de voterank"
   ]
  },
  {
   "cell_type": "code",
   "execution_count": 20,
   "id": "32910223",
   "metadata": {},
   "outputs": [
    {
     "data": {
      "text/plain": [
       "['OGC 20-004',\n",
       " 'OGC 06-121r9',\n",
       " 'OGC 19-087',\n",
       " 'OGC 09-025r2',\n",
       " 'OGC 18-062r2',\n",
       " 'OGC 20-057',\n",
       " 'OGC 15-001r4',\n",
       " 'OGC 08-068r2',\n",
       " 'OGC 09-083r4',\n",
       " 'OGC 19-086r5',\n",
       " 'OGC 22-026',\n",
       " 'OGC 17-089r1',\n",
       " 'OGC 06-042',\n",
       " 'OGC 17-069r4',\n",
       " 'OGC 05-005',\n",
       " 'OGC 11-014r3',\n",
       " 'OGC 19-072',\n",
       " 'OGC 07-057r7',\n",
       " 'OGC 14-065',\n",
       " 'OGC 20-024']"
      ]
     },
     "execution_count": 20,
     "metadata": {},
     "output_type": "execute_result"
    }
   ],
   "source": [
    "nx.voterank(ogc_nx)"
   ]
  },
  {
   "cell_type": "markdown",
   "id": "de093b4c",
   "metadata": {},
   "source": [
    "## Récupération du poid des arêtes"
   ]
  },
  {
   "cell_type": "code",
   "execution_count": 21,
   "id": "8c8ca929",
   "metadata": {},
   "outputs": [
    {
     "name": "stdout",
     "output_type": "stream",
     "text": [
      "[('OGC 05-005', 'IETF RFC 2045', 3.044522437723423), ('OGC 05-005', 'IETF RFC 2119', 6.089044875446846), ('OGC 05-005', 'SLD', 12.178089750893692), ('OGC 05-005', 'XML 1.0', 9.13356731317027), ('OGC 06-042', 'ISO 8601:2004', 21.31165706406396), ('OGC 06-042', 'ISO 19111', 24.356179501787384), ('OGC 06-042', 'ISO 19115', 18.26713462634054), ('OGC 06-042', 'IETF RFC 2045', 4.702750514326955), ('OGC 06-042', 'IETF RFC 2396', 18.26713462634054), ('OGC 06-042', 'IETF RFC 2616', 30.44522437723423), ('OGC 06-042', 'UCUM', 9.13356731317027), ('OGC 06-042', 'XML 1.0', 7.054125771490433), ('OGC 06-042', 'XML Schema', 12.178089750893692), ('OGC 06-121r9', 'CGI', 3.044522437723423), ('OGC 06-121r9', 'IETF RFC 2045', 3.8918202981106265), ('OGC 06-121r9', 'IETF RFC 2141', 3.044522437723423), ('OGC 06-121r9', 'IETF RFC 2396', 16.459626800144342), ('OGC 06-121r9', 'IETF RFC 2616', 21.1623773144713), ('OGC 06-121r9', 'IETF RFC 4646', 15.222612188617115), ('OGC 06-121r9', 'ISO/IEC Directives, Part 2', 9.13356731317027), ('OGC 06-121r9', 'ISO 4217:2001', 9.13356731317027), ('OGC 06-121r9', 'ISO 8601:2000', 9.13356731317027), ('OGC 06-121r9', 'ISO 19115', 84.6495092578852), ('OGC 06-121r9', 'ISO 19119', 82.20210581853242), ('OGC 06-121r9', 'ISO 19123', 6.089044875446846), ('OGC 06-121r9', 'OGC 02-112', 3.044522437723423), ('OGC 06-121r9', 'OGC 03-105r1', 6.089044875446846), ('OGC 06-121r9', 'OGC 04-046r3', 3.044522437723423), ('OGC 06-121r9', 'OGC 04-092r4', 3.044522437723423), ('OGC 06-121r9', 'OGC 07-092r1', 12.178089750893692), ('OGC 06-121r9', 'OGC 08-008r2', 3.044522437723423), ('OGC 06-121r9', 'OGC 08-015', 3.044522437723423), ('OGC 06-121r9', 'OGC 09-046r1', 15.222612188617115), ('OGC 06-121r9', 'OGC 07-107r1', 3.044522437723423), ('OGC 06-121r9', 'Namespaces In XML', 6.089044875446846), ('OGC 06-121r9', 'XML 1.0', 5.8377304471659395), ('OGC 06-121r9', 'XML Schema', 7.054125771490433), ('OGC 06-121r9', 'SOAP', 36.53426925268108), ('OGC 06-121r9', 'XML-binary Optimized Packaging', 6.089044875446846), ('OGC 07-057r7', 'ISO 19105', 6.089044875446846), ('OGC 07-057r7', 'OGC 06-121r3', 203.98300332746933), ('OGC 07-057r7', 'SOAP', 18.81100205730782), ('OGC 07-057r7', 'WSDL 1.1', 24.356179501787384), ('OGC 08-068r2', 'IETF RFC 2616', 3.8918202981106265), ('OGC 08-068r2', 'ISO 8601', 9.13356731317027), ('OGC 08-068r2', 'OGC 05-007r7', 3.044522437723423), ('OGC 08-068r2', 'OGC 06-121r3', 7.054125771490433), ('OGC 08-068r2', 'OGC 07-011', 9.13356731317027), ('OGC 08-068r2', 'OGC 07-067r5', 54.80140387902161), ('OGC 08-068r2', 'OGC 07-092r1', 2.3513752571634776), ('OGC 08-068r2', 'OGC 08-053r2', 3.044522437723423), ('OGC 08-068r2', 'OGC 08-059r3', 12.178089750893692), ('OGC 09-025r2', 'ISO/TS 19103', 15.222612188617115), ('OGC 09-025r2', 'ISO 19136', 91.33567313170269), ('OGC 09-025r2', 'OGC 09-026r2', 182.67134626340538), ('OGC 09-025r2', 'IETF RFC 2616', 6.63291230641413), ('OGC 09-025r2', 'IETF RFC 4646', 11.756876285817388), ('OGC 09-025r2', 'OGC 06-121r3', 64.21503491882534), ('OGC 09-025r2', 'OGC 07-092r3', 3.044522437723423), ('OGC 09-025r2', 'SOAP', 11.675460894331879), ('OGC 09-025r2', 'WSDL 1.1', 16.459626800144342), ('OGC 09-025r2', 'Namespaces In XML', 9.40550102865391), ('OGC 09-025r2', 'XML Path Language', 15.222612188617115), ('OGC 09-025r2', 'XML Schema', 15.567281192442506), ('OGC 09-083r4', 'ISO 19103', 60.89044875446846), ('OGC 09-083r4', 'ISO 19115', 23.350921788663758), ('OGC 09-083r4', 'ISO 19115-2', 9.13356731317027), ('OGC 09-083r4', 'ISO 19111', 54.081630914759984), ('OGC 09-083r4', 'OGC 01-009', 60.89044875446846), ('OGC 09-083r4', 'JSR 363', 3.044522437723423), ('OGC 11-014r3', 'OGC 08-015r2', 3.044522437723423), ('OGC 11-014r3', 'UML', 27.400701939510807), ('OGC 11-014r3', 'XML 1.0', 14.924052689431791), ('OGC 14-065', 'OGC 06-121r9', 91.33567313170269), ('OGC 14-065', 'OGC 08-131r3', 6.089044875446846), ('OGC 14-065', 'IETF RFC 4646', 23.350921788663758), ('OGC 14-065', 'IETF RFC 3986', 6.089044875446846), ('OGC 14-065', 'ISO 8601:2004', 11.756876285817388), ('OGC 14-065', 'XML Schema', 16.582280766035325), ('OGC 15-001r4', 'OGC 04-046r3', 7.054125771490433), ('OGC 15-001r4', 'OGC CityGML', 9.13356731317027), ('OGC 15-001r4', 'XML 1.0', 11.480676202314582), ('OGC 15-001r4', 'IETF RFC 1738', 9.13356731317027), ('OGC 15-001r4', 'IETF RFC 2046', 9.13356731317027), ('OGC 15-001r4', 'ISO/IEC 14977', 6.089044875446846), ('OGC 15-001r4', 'ISO 19117', 6.089044875446846), ('OGC 15-001r4', 'IETF RFC 3986', 4.702750514326955), ('OGC 15-001r4', 'KML', 6.089044875446846), ('OGC 17-089r1', 'OGC 07-011', 2.3513752571634776), ('OGC 17-089r1', 'OGC 06-121r9', 11.756876285817388), ('OGC 17-089r1', 'OGC 09-146r2', 15.222612188617115), ('OGC 17-089r1', 'OGC 09-146r6', 21.31165706406396), ('OGC 17-089r1', 'OGC 09-110r4', 6.089044875446846), ('OGC 17-089r1', 'OGC 16-083r2', 3.044522437723423), ('OGC 19-072', 'IETF RFC 2818', 9.13356731317027), ('OGC 19-072', 'IETF RFC 3986', 13.621371043387192), ('OGC 19-072', 'IETF RFC 6570', 6.089044875446846), ('OGC 19-072', 'IETF RFC 7231', 24.356179501787384), ('OGC 19-072', 'IETF RFC 7232', 6.089044875446846), ('OGC 19-072', 'IETF RFC 7807', 21.31165706406396), ('OGC 19-072', 'IETF RFC 8288', 15.222612188617115), ('OGC 19-072', 'IETF RFC 8259', 9.13356731317027), ('OGC 19-072', 'OpenAPI Specification', 33.489746814957655), ('OGC 20-024', 'IETF RFC 3339', 24.356179501787384), ('OGC 20-024', 'IETF RFC 7231', 18.81100205730782), ('OGC 20-024', 'IETF RFC 8259', 4.702750514326955), ('OGC 20-024', 'IETF RFC 8288', 4.702750514326955), ('OGC 20-024', 'JSON Schema', 24.356179501787384), ('OGC 20-024', 'GML', 30.44522437723423), ('OGC 20-024', 'OGC 19-072', 12.178089750893692), ('OGC 20-024', 'HTML5', 6.089044875446846), ('OGC 19-086r5', 'OpenAPI Specification 3.0', 167.44873407478826), ('OGC 19-086r5', 'IETF RFC 2616', 2.8701690505786455), ('OGC 19-086r5', 'IETF RFC 2818', 4.702750514326955), ('OGC 19-086r5', 'IETF RFC 3339', 4.702750514326955), ('OGC 19-086r5', 'IETF RFC 3896', 3.044522437723423), ('OGC 19-086r5', 'IETF RFC 7946', 33.489746814957655), ('OGC 19-086r5', 'IETF RFC 8288', 7.783640596221253), ('OGC 19-086r5', 'IETF RFC 6570', 2.3513752571634776), ('OGC 19-086r5', 'HTML5', 2.3513752571634776), ('OGC 19-086r5', 'CoverageJSON', 18.26713462634054), ('OGC 19-086r5', 'IETF RFC 2413', 3.044522437723423), ('OGC 19-086r5', 'OGC 06-103r4', 3.044522437723423), ('OGC 19-086r5', 'OGC 18-010r7', 3.044522437723423), ('OGC 19-086r5', 'OGC 17-069r3', 6.089044875446846), ('OGC 19-086r5', 'OGC 19-072', 21.1623773144713), ('OGC 19-086r5', 'OGC 20-024', 18.26713462634054), ('OGC 17-069r4', 'OpenAPI Specification 3.0', 21.1623773144713), ('OGC 17-069r4', 'IETF RFC 2818', 5.8377304471659395), ('OGC 17-069r4', 'IETF RFC 3339', 9.729550745276565), ('OGC 17-069r4', 'IETF RFC 7230', 6.089044875446846), ('OGC 17-069r4', 'IETF RFC 7231', 3.8918202981106265), ('OGC 17-069r4', 'IETF RFC 7232', 4.702750514326955), ('OGC 17-069r4', 'IETF RFC 8288', 9.949368459621194), ('OGC 17-069r4', 'OGC 10-100r3', 3.044522437723423), ('OGC 17-069r4', 'IETF RFC 7946', 2.3513752571634776), ('OGC 18-058r1', 'OGC 17-069r4', 30.44522437723423), ('OGC 18-062r2', 'OGC 06-121r9', 1.9459101490553132), ('OGC 18-062r2', 'OGC 14-065', 3.044522437723423), ('OGC 18-062r2', 'IETF RFC 2246', 3.044522437723423), ('OGC 18-062r2', 'IETF RFC 2616', 2.505525936990736), ('OGC 18-062r2', 'IETF RFC 2617', 3.044522437723423), ('OGC 18-062r2', 'IETF RFC 2387', 9.13356731317027), ('OGC 18-062r2', 'IETF RFC 2818', 4.974684229810597), ('OGC 18-062r2', 'IETF RFC 3986', 3.316456153207065), ('OGC 18-062r2', 'IETF RFC 4646', 1.6582280766035324), ('OGC 18-062r2', 'IETF RFC 7231', 3.316456153207065), ('OGC 18-062r2', 'IETF RFC 7240', 6.089044875446846), ('OGC 18-062r2', 'IETF RFC 8288', 7.175422626446614), ('OGC 18-062r2', 'IETF RFC 8259', 1.9459101490553132), ('OGC 18-062r2', 'JSON Schema', 4.702750514326955), ('OGC 20-057', 'OGC 19-014r3', 12.178089750893692), ('OGC 20-057', 'OGC 17-083r4', 60.89044875446846), ('OGC 20-057', 'OGC 19-072', 1.9459101490553132), ('OGC 20-057', 'OGC 20-024', 2.3513752571634776), ('OGC 20-057', 'OGC 10-090r3', 6.089044875446846), ('OGC 20-057', 'IETF RFC 7946', 1.9459101490553132), ('OGC 20-057', 'OGC 19-008r4', 6.089044875446846), ('OGC 20-057', 'ISO/IEC 10918-1', 9.13356731317027), ('OGC 20-057', 'ISO/IEC 15948', 12.178089750893692), ('OGC 19-087', 'IETF RFC 2616', 1.0986122886681098), ('OGC 19-087', 'IETF RFC 2818', 1.4350845252893227), ('OGC 19-087', 'IETF RFC 3339', 8.291140383017662), ('OGC 19-087', 'IETF RFC 3986', 2.8701690505786455), ('OGC 19-087', 'IETF RFC 3987', 3.044522437723423), ('OGC 19-087', 'IETF RFC 6570', 1.9459101490553132), ('OGC 19-087', 'IETF RFC 8288', 2.505525936990736), ('OGC 19-087', 'OGC 19-072', 6.63291230641413), ('OGC 19-087', 'OGC 20-024', 5.8377304471659395), ('OGC 19-087', 'OGC 09-146', 24.356179501787384), ('OGC 19-087', 'OGC 19-008', 3.044522437723423), ('OGC 19-087', 'OGC Schema', 3.044522437723423), ('OGC 19-087', 'OGC 10-090', 3.044522437723423), ('OGC 19-087', 'OGC 17-089', 24.356179501787384), ('OGC 19-087', 'OpenAPI Specification 3.0', 11.675460894331879), ('OGC 19-087', 'HTML5', 3.8918202981106265), ('OGC 19-087', 'OGC 07-011', 7.783640596221253), ('OGC 19-087', 'OGC 08-094', 15.222612188617115), ('OGC 19-087', 'OGC 12-000', 9.13356731317027), ('OGC 19-087', 'OGC 09-146r2', 7.054125771490433), ('OGC 19-087', 'OGC 16-083', 36.53426925268108), ('OGC 19-087', 'IETF RFC 7159', 3.044522437723423), ('OGC 19-087', 'W3C JSON-LD 1.0', 3.044522437723423), ('OGC 19-087', 'RDF 1.1', 6.089044875446846), ('OGC 20-004', 'IETF RFC 2616', 0.965080896043587), ('OGC 20-004', 'IETF RFC 2818', 1.252762968495368), ('OGC 20-004', 'IETF RFC 3339', 10.045591677025259), ('OGC 20-004', 'IETF RFC 3986', 2.505525936990736), ('OGC 20-004', 'IETF RFC 3987', 2.3513752571634776), ('OGC 20-004', 'IETF RFC 4287', 3.044522437723423), ('OGC 20-004', 'IETF RFC 6570', 1.6582280766035324), ('OGC 20-004', 'IETF RFC 7946', 4.974684229810597), ('OGC 20-004', 'IETF RFC 8288', 3.295836866004329), ('OGC 20-004', 'OGC 19-072', 2.8701690505786455), ('OGC 20-004', 'OGC 17-069r3', 35.27062885745217), ('OGC 20-004', 'OGC 19-079', 9.13356731317027), ('OGC 20-004', 'OpenAPI Specification 3.0', 18.240508842638857), ('OGC 20-004', 'HTML5', 3.316456153207065), ('OGC 20-004', 'RDF 1.1', 2.3513752571634776), ('OGC 20-004', 'XML 1.0', 6.26381484247684), ('OGC 20-004', 'OASIS', 3.044522437723423), ('OGC 20-004', 'OGC 07-036', 9.13356731317027), ('OGC 20-004', 'OGC 10-129r1', 6.089044875446846), ('OGC 20-004', 'XML Path Language', 2.3513752571634776), ('OGC 20-004', 'XML Linking Language', 3.044522437723423), ('OGC 20-004', 'ISO/IEC 19757', 3.044522437723423), ('OGC 20-004', 'ISO 8601', 4.702750514326955), ('OGC 20-004', 'IETF RFC 2183', 3.044522437723423), ('OGC 20-004', 'IETF RFC 2387', 2.3513752571634776), ('OGC 20-004', 'IETF RFC 2392', 3.044522437723423), ('OGC 20-004', 'IETF RFC 7159', 2.3513752571634776), ('OGC 20-004', 'JSON-LD 1.0', 3.044522437723423), ('OGC 22-026', 'IETF RFC 2616', 1.6945957207744073), ('OGC 22-026', 'IETF RFC 2818', 3.295836866004329), ('OGC 22-026', 'IETF RFC 3339', 3.758288905486104), ('OGC 22-026', 'IETF RFC 3986', 1.0986122886681098), ('OGC 22-026', 'IETF RFC 6266', 3.044522437723423), ('OGC 22-026', 'IETF RFC 7231', 2.8701690505786455), ('OGC 22-026', 'IETF RFC 7578', 6.089044875446846), ('OGC 22-026', 'IETF RFC 7807', 9.40550102865391), ('OGC 22-026', 'IETF RFC 7946', 1.4350845252893227), ('OGC 22-026', 'IETF RFC 8259', 6.63291230641413), ('OGC 22-026', 'IETF RFC 8288', 2.895242688130761), ('OGC 22-026', 'JSON Schema', 9.729550745276565), ('OGC 22-026', 'OGC 06-121r9', 3.316456153207065), ('OGC 22-026', 'OGC 19-072', 7.516577810972208), ('OGC 22-026', 'OGC 20-024', 4.974684229810597), ('OGC 22-026', 'OpenAPI Specification 3.0', 14.350845252893228), ('OGC 22-026', 'HTML5', 2.8701690505786455)]\n"
     ]
    }
   ],
   "source": [
    "print(ogc_nx.edges.data('value'))"
   ]
  },
  {
   "cell_type": "code",
   "execution_count": 11,
   "id": "96a79252",
   "metadata": {},
   "outputs": [
    {
     "ename": "KeyError",
     "evalue": "'HTML5'",
     "output_type": "error",
     "traceback": [
      "\u001b[0;31m---------------------------------------------------------------------------\u001b[0m",
      "\u001b[0;31mKeyError\u001b[0m                                  Traceback (most recent call last)",
      "Cell \u001b[0;32mIn[11], line 1\u001b[0m\n\u001b[0;32m----> 1\u001b[0m \u001b[43mogc_nx\u001b[49m\u001b[43m[\u001b[49m\u001b[38;5;124;43m'\u001b[39;49m\u001b[38;5;124;43mOGC 05-005\u001b[39;49m\u001b[38;5;124;43m'\u001b[39;49m\u001b[43m]\u001b[49m\u001b[43m[\u001b[49m\u001b[38;5;124;43m'\u001b[39;49m\u001b[38;5;124;43mHTML5\u001b[39;49m\u001b[38;5;124;43m'\u001b[39;49m\u001b[43m]\u001b[49m[\u001b[38;5;124m'\u001b[39m\u001b[38;5;124mvalue\u001b[39m\u001b[38;5;124m'\u001b[39m]\n",
      "File \u001b[0;32m~/.local/lib/python3.11/site-packages/networkx/classes/coreviews.py:53\u001b[0m, in \u001b[0;36mAtlasView.__getitem__\u001b[0;34m(self, key)\u001b[0m\n\u001b[1;32m     52\u001b[0m \u001b[38;5;28;01mdef\u001b[39;00m \u001b[38;5;21m__getitem__\u001b[39m(\u001b[38;5;28mself\u001b[39m, key):\n\u001b[0;32m---> 53\u001b[0m     \u001b[38;5;28;01mreturn\u001b[39;00m \u001b[38;5;28;43mself\u001b[39;49m\u001b[38;5;241;43m.\u001b[39;49m\u001b[43m_atlas\u001b[49m\u001b[43m[\u001b[49m\u001b[43mkey\u001b[49m\u001b[43m]\u001b[49m\n",
      "\u001b[0;31mKeyError\u001b[0m: 'HTML5'"
     ]
    }
   ],
   "source": [
    "ogc_nx['OGC 05-005']['HTML5']['value']"
   ]
  },
  {
   "cell_type": "code",
   "execution_count": 22,
   "id": "f5462304",
   "metadata": {},
   "outputs": [
    {
     "data": {
      "text/plain": [
       "3.044522437723423"
      ]
     },
     "execution_count": 22,
     "metadata": {},
     "output_type": "execute_result"
    }
   ],
   "source": [
    "G = ogc_nx\n",
    "G['OGC 05-005']['IETF RFC 2045']['value']"
   ]
  },
  {
   "cell_type": "code",
   "execution_count": 23,
   "id": "f9fc6aaa",
   "metadata": {},
   "outputs": [
    {
     "name": "stdout",
     "output_type": "stream",
     "text": [
      "OGC 05-005 à pour exposition : 30.445224377234233 pour 4 N-1 dépendences.\n",
      "OGC 06-042 à pour exposition : 145.71586354564798 pour 9 N-1 dépendences.\n",
      "OGC 06-121r9 à pour exposition : 376.52794003169475 pour 26 N-1 dépendences.\n",
      "OGC 07-057r7 à pour exposition : 253.23922976201138 pour 4 N-1 dépendences.\n",
      "OGC 08-068r2 à pour exposition : 104.63299445846724 pour 9 N-1 dépendences.\n",
      "OGC 09-025r2 à pour exposition : 443.2094596366952 pour 12 N-1 dépendences.\n",
      "OGC 09-083r4 à pour exposition : 211.39153996325433 pour 6 N-1 dépendences.\n",
      "OGC 11-014r3 à pour exposition : 45.36927706666602 pour 3 N-1 dépendences.\n",
      "OGC 14-065 à pour exposition : 155.20384172311287 pour 6 N-1 dépendences.\n",
      "OGC 15-001r4 à pour exposition : 68.90538905398331 pour 9 N-1 dépendences.\n",
      "OGC 17-089r1 à pour exposition : 59.776088108832205 pour 6 N-1 dépendences.\n",
      "OGC 19-072 à pour exposition : 138.44679099004753 pour 9 N-1 dépendences.\n",
      "OGC 20-024 à pour exposition : 125.64122109311127 pour 8 N-1 dépendences.\n",
      "OGC 19-086r5 à pour exposition : 301.66432327301953 pour 16 N-1 dépendences.\n",
      "OGC 17-069r4 à pour exposition : 66.75854034930633 pour 9 N-1 dépendences.\n",
      "OGC 18-058r1 à pour exposition : 30.44522437723423 pour 1 N-1 dépendences.\n",
      "OGC 18-062r2 à pour exposition : 55.89752349049057 pour 14 N-1 dépendences.\n",
      "OGC 20-057 à pour exposition : 112.80148087559391 pour 9 N-1 dépendences.\n",
      "OGC 19-087 à pour exposition : 194.9811199071647 pour 24 N-1 dépendences.\n",
      "OGC 20-004 à pour exposition : 152.78675176332277 pour 28 N-1 dépendences.\n",
      "OGC 22-026 à pour exposition : 84.9780939359083 pour 17 N-1 dépendences.\n"
     ]
    }
   ],
   "source": [
    "for src in InitOGCDict.keys():\n",
    "        rez=0\n",
    "        nb_dep = 0\n",
    "        for dest in ogc_nx.nodes():\n",
    "            try :\n",
    "                rez=rez+G[src][dest]['value']\n",
    "                nb_dep = nb_dep + 1\n",
    "            except KeyError :\n",
    "                None\n",
    "        print(str(src) + \" à pour exposition : \" + str(rez) + \" pour \" + str(nb_dep) + \" N-1 dépendences.\")"
   ]
  },
  {
   "cell_type": "code",
   "execution_count": 15,
   "id": "ad1c9bbb",
   "metadata": {},
   "outputs": [
    {
     "name": "stdout",
     "output_type": "stream",
     "text": [
      "['OGC 05-005', 'OGC 06-042', 'OGC 06-121r9', 'OGC 07-057r7', 'OGC 08-068r2', 'OGC 09-025r2', 'OGC 09-083r4', 'OGC 11-014r3', 'OGC 14-065', 'OGC 15-001r4', 'OGC 17-089r1', 'OGC 19-072', 'OGC 20-024', 'OGC 19-086r5', 'OGC 17-069r4', 'OGC 18-058r1', 'OGC 18-062r2', 'OGC 20-057', 'OGC 19-087', 'IETF RFC 2045', 'IETF RFC 2119', 'SLD', 'XML 1.0', 'ISO 8601:2004', 'ISO 19111', 'ISO 19115', 'IETF RFC 2396', 'IETF RFC 2616', 'UCUM', 'XML Schema', 'CGI', 'IETF RFC 2141', 'IETF RFC 4646', 'ISO/IEC Directives, Part 2', 'ISO 4217:2001', 'ISO 8601:2000', 'ISO 19119', 'ISO 19123', 'OGC 02-112', 'OGC 03-105r1', 'OGC 04-046r3', 'OGC 04-092r4', 'OGC 07-092r1', 'OGC 08-008r2', 'OGC 08-015', 'OGC 09-046r1', 'OGC 07-107r1', 'Namespaces In XML', 'SOAP', 'XML-binary Optimized Packaging', 'ISO 19105', 'OGC 06-121r3', 'WSDL 1.1', 'ISO 8601', 'OGC 05-007r7', 'OGC 07-011', 'OGC 07-067r5', 'OGC 08-053r2', 'OGC 08-059r3', 'ISO/TS 19103', 'ISO 19136', 'OGC 09-026r2', 'OGC 07-092r3', 'XML Path Language', 'ISO 19103', 'ISO 19115-2', 'OGC 01-009', 'JSR 363', 'OGC 08-015r2', 'UML', 'OGC 08-131r3', 'IETF RFC 3986', 'OGC CityGML', 'IETF RFC 1738', 'IETF RFC 2046', 'ISO/IEC 14977', 'ISO 19117', 'KML', 'OGC 09-146r2', 'OGC 09-146r6', 'OGC 09-110r4', 'OGC 16-083r2', 'IETF RFC 2818', 'IETF RFC 6570', 'IETF RFC 7231', 'IETF RFC 7232', 'IETF RFC 7807', 'IETF RFC 8288', 'IETF RFC 8259', 'OpenAPI Specification', 'IETF RFC 3339', 'JSON Schema', 'GML', 'HTML5', 'OpenAPI Specification 3.0', 'IETF RFC 3896', 'IETF RFC 7946', 'CoverageJSON', 'IETF RFC 2413', 'OGC 06-103r4', 'OGC 18-010r7', 'OGC 17-069r3', 'IETF RFC 7230', 'OGC 10-100r3', 'IETF RFC 2246', 'IETF RFC 2617', 'IETF RFC 2387', 'IETF RFC 7240', 'OGC 19-014r3', 'OGC 17-083r4', 'OGC 10-090r3', 'OGC 19-008r4', 'ISO/IEC 10918-1', 'ISO/IEC 15948', 'IETF RFC 3987', 'OGC 09-146', 'OGC 19-008', 'OGC Schema', 'OGC 10-090', 'OGC 17-089', 'OGC 08-094', 'OGC 12-000', 'OGC 16-083', 'IETF RFC 7159', 'W3C JSON-LD 1.0', 'RDF 1.1']\n"
     ]
    }
   ],
   "source": [
    "print(ogc_nx.nodes)"
   ]
  },
  {
   "cell_type": "code",
   "execution_count": null,
   "id": "ee23c60a",
   "metadata": {},
   "outputs": [],
   "source": []
  }
 ],
 "metadata": {
  "kernelspec": {
   "display_name": "venvogc",
   "language": "python",
   "name": "venvogc"
  },
  "language_info": {
   "codemirror_mode": {
    "name": "ipython",
    "version": 3
   },
   "file_extension": ".py",
   "mimetype": "text/x-python",
   "name": "python",
   "nbconvert_exporter": "python",
   "pygments_lexer": "ipython3",
   "version": "3.11.3"
  }
 },
 "nbformat": 4,
 "nbformat_minor": 5
}
