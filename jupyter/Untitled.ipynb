{
 "cells": [
  {
   "cell_type": "markdown",
   "id": "80ab291f",
   "metadata": {},
   "source": [
    "# Visualisation de l'écosystème normatif des webservices OGC\n",
    "## Définition des fonctions nécéssaires\n",
    "### <u> edge_weight :</u> Définition du poid pour un noeud donné\n",
    "* **<u>Entrées :</u>**\n",
    " * **ogc_nx :** L'instance nx.DiGraph() des noeuds que l'on souhaite analyser.\n",
    " * **standard :** Standard source (Déjà présent de base dans le fichier) à l'origine de la référence (départ de l'arête).\n",
    " * **ref :** Référence présente dans la source (destination de l'arête).\n",
    " * **OGCDict :** Dictionnaire de départ comportant toutes les normes et référence.\n",
    "* <u>Sortie :</u>\n",
    " * **w :** Poid de la relation entre **standard :** et **ref :**"
   ]
  },
  {
   "cell_type": "code",
   "execution_count": 10,
   "id": "0f92c563",
   "metadata": {},
   "outputs": [],
   "source": [
    "def edge_weight(ogc_nx,standard,ref,OGCDict):\n",
    "    #Fréquence d'apparission de la référence dans le standard (Normal de rajouter +1 car il est tout de même cité dans la partie Référence normative)\n",
    "    tf_ref = OGCDict[standard][\"references\"][ref] + 1\n",
    "\n",
    "    #Nombre totale de standard de base.\n",
    "    N = len(OGCDict.keys())\n",
    "    \n",
    "    #Nombre de fois que la référence est citée dans l'écosystème\n",
    "    listedge = ogc_nx.edges()\n",
    "    sf_ref = 1\n",
    "\n",
    "    for edge in listedge:\n",
    "        src, to = edge\n",
    "        if to==ref:\n",
    "            sf_ref=sf_ref+1\n",
    "\n",
    "    isf_ref = math.log(len(OGCDict.keys())/sf_ref)\n",
    "    #w = math.log(tf_ref * isf_ref)\n",
    "    w = tf_ref * isf_ref\n",
    "    \n",
    "    return w\n",
    "    #Ajout du paramètres de poids dans la relation\n",
    "#    for edge in listedge:\n",
    "#        if ogc_net.edges[\"from\"] == src and ogc_net.edges[\"to\"] == ref :\n",
    "#            key, value = \"value\", w\n",
    "#            listedge[listedge.index(edge)].update({key: value})"
   ]
  },
  {
   "cell_type": "markdown",
   "id": "ec6f1766",
   "metadata": {},
   "source": [
    "### <u>rgb_to_hex :</u> Simple convertion de couleurs RGB en Hexadécimal\n",
    "* **<u>Entrées :</u>**\n",
    " * **rgb :** Tuple comportant les valeurs (r, g, b)\n",
    "* **<u>Sortie :</u>**\n",
    " * Valeur hexadécimale brute"
   ]
  },
  {
   "cell_type": "code",
   "execution_count": 11,
   "id": "99371ea1",
   "metadata": {},
   "outputs": [],
   "source": [
    "def rgb_to_hex(rgb):\n",
    "  return '%02x%02x%02x' % rgb"
   ]
  },
  {
   "cell_type": "markdown",
   "id": "28de4dce",
   "metadata": {},
   "source": [
    "## Ajout des noeuds à la base de données graphs"
   ]
  },
  {
   "cell_type": "code",
   "execution_count": 12,
   "id": "75c393ac",
   "metadata": {
    "scrolled": true
   },
   "outputs": [
    {
     "name": "stdout",
     "output_type": "stream",
     "text": [
      "Noeuds Principaux Ajouté !\n",
      "Noeuds secondaire ajouté\n"
     ]
    }
   ],
   "source": [
    "from pyvis.network import Network\n",
    "import json\n",
    "import networkx as nx\n",
    "import math\n",
    "\n",
    "#Mise en dico du fichier json\n",
    "with open(\"test.json\", 'r') as fp:\n",
    "    InitOGCDict = json.load(fp)\n",
    "\n",
    "#Visualisation du dico\n",
    "ogc_net = Network(directed=True, notebook=True, cdn_resources='in_line')\n",
    "ogc_nx = nx.DiGraph()\n",
    "\n",
    "##Alimentation du réseau\n",
    "##Initialisation des noeuds avec les normes de base\n",
    "ogc_nx.add_nodes_from(InitOGCDict.keys())\n",
    "print(\"Noeuds Principaux Ajouté !\")\n",
    "##Ajout du reste des noeuds qui ne font pas partie des normes de base\n",
    "for key in InitOGCDict.keys():\n",
    "    ogc_nx.add_nodes_from(InitOGCDict[key][\"references\"].keys())\n",
    "print(\"Noeuds secondaire ajouté\")\n",
    "##Ajout des liens entre les différents \n",
    "for src in InitOGCDict.keys():\n",
    "    for dest in InitOGCDict[src][\"references\"].keys():\n",
    "        #Ajout du lien avec le calcul de son poid\n",
    "        try:\n",
    "            #print('Source : ' + src)\n",
    "            #print('Référence : ' + dest)\n",
    "            ogc_nx.add_edge(src,dest,value=edge_weight(ogc_nx,src,dest,InitOGCDict)) #Peut être voir pour mettre value à la place si pyvis comprend mieux\n",
    "        except KeyError as e:\n",
    "            print(e)\n",
    "            #print(\"La relation \" + src + \" -> \" + dest + \" n'a pas pu être calculé\")\n",
    "        #Réglage de la taille des noeuds\n",
    "        ogc_nx.nodes[src]['size']=len(InitOGCDict[src]['references'].keys())*3\n",
    "        \n",
    "#ogc_net.from_nx(ogc_nx)\n",
    "#ogc_net.force_atlas_2based()\n",
    "#ogc_net.prep_notebook()\n",
    "#ogc_net.show(\"results/ogc_ws.html\")"
   ]
  },
  {
   "cell_type": "markdown",
   "id": "b56f4f76",
   "metadata": {},
   "source": [
    "## Analyse par degré de centralité avec changement de couleurs des normes de base\n",
    "* Couleur des noeuds :\n",
    " * Nuance de Rouge = référence\n",
    " * Vert/Blanc = norme de l'écosystème analysé"
   ]
  },
  {
   "cell_type": "code",
   "execution_count": 13,
   "id": "61476cc0",
   "metadata": {},
   "outputs": [],
   "source": [
    "nx.degree_centrality(ogc_nx)\n",
    "degree_centrality = nx.in_degree_centrality(ogc_nx)\n",
    "max_key = max(degree_centrality, key=lambda key: degree_centrality[key])\n",
    "max_degree = degree_centrality[max_key]\n",
    "Verifdic=dict()\n",
    "srclist=list()\n",
    "\n",
    "for n in ogc_nx.nodes:\n",
    "    if n in InitOGCDict.keys() :\n",
    "        srclist.append(src)\n",
    "        Verifdic[\"vert\"] = srclist\n",
    "        r=255*abs(((degree_centrality[n])/(max_degree)+0.1)-1)\n",
    "        g=255*abs(((degree_centrality[n])/(max_degree)+0.1)-1)\n",
    "        b=255\n",
    "        rgb = (int(r),int(b),int(g))\n",
    "        ogc_nx.nodes[n]['color']=\"#\"+rgb_to_hex(rgb)\n",
    "    else :\n",
    "        srclist.append(src)\n",
    "        Verifdic[\"rouge\"] = srclist\n",
    "        r=255\n",
    "        g=255*abs((degree_centrality[n]/max_degree)-1)\n",
    "        b=255*abs((degree_centrality[n]/max_degree)-1)\n",
    "        rgb = (int(r),int(b),int(g))\n",
    "        ogc_nx.nodes[n]['color']=\"#\"+rgb_to_hex(rgb)"
   ]
  },
  {
   "cell_type": "markdown",
   "id": "beeb8ffb",
   "metadata": {},
   "source": [
    "## Visualisation"
   ]
  },
  {
   "cell_type": "code",
   "execution_count": 14,
   "id": "0b65ae34",
   "metadata": {},
   "outputs": [
    {
     "name": "stdout",
     "output_type": "stream",
     "text": [
      "results/ogc_ws_centrality_dir.html\n"
     ]
    },
    {
     "data": {
      "text/html": [
       "\n",
       "        <iframe\n",
       "            width=\"100%\"\n",
       "            height=\"600px\"\n",
       "            src=\"results/ogc_ws_centrality_dir.html\"\n",
       "            frameborder=\"0\"\n",
       "            allowfullscreen\n",
       "            \n",
       "        ></iframe>\n",
       "        "
      ],
      "text/plain": [
       "<IPython.lib.display.IFrame at 0x7f5b2de07e10>"
      ]
     },
     "execution_count": 14,
     "metadata": {},
     "output_type": "execute_result"
    }
   ],
   "source": [
    "ogc_net.from_nx(ogc_nx)\n",
    "ogc_net.inherit_edge_colors(False)\n",
    "#ogc_net.force_atlas_2based()\n",
    "ogc_net.prep_notebook()\n",
    "ogc_net.show(\"results/ogc_ws_centrality_dir.html\")"
   ]
  },
  {
   "cell_type": "markdown",
   "id": "cf3ab239",
   "metadata": {},
   "source": [
    "### Résultat de voterank"
   ]
  },
  {
   "cell_type": "code",
   "execution_count": 9,
   "id": "32910223",
   "metadata": {},
   "outputs": [
    {
     "data": {
      "text/plain": [
       "['OGC 06-121r9',\n",
       " 'OGC 19-087',\n",
       " 'OGC 19-086r5',\n",
       " 'OGC 18-062r2',\n",
       " 'OGC 09-025r2',\n",
       " 'OGC 15-001r4',\n",
       " 'OGC 20-057',\n",
       " 'OGC 08-068r2',\n",
       " 'OGC 09-083r4',\n",
       " 'OGC 19-072',\n",
       " 'OGC 17-089r1',\n",
       " 'OGC 06-042',\n",
       " 'OGC 17-069r4',\n",
       " 'OGC 05-005',\n",
       " 'OGC 11-014r3',\n",
       " 'OGC 07-057r7',\n",
       " 'OGC 14-065',\n",
       " 'OGC 20-024']"
      ]
     },
     "execution_count": 9,
     "metadata": {},
     "output_type": "execute_result"
    }
   ],
   "source": [
    "nx.voterank(ogc_nx)"
   ]
  },
  {
   "cell_type": "markdown",
   "id": "de093b4c",
   "metadata": {},
   "source": [
    "## Récupération du poid des arêtes"
   ]
  },
  {
   "cell_type": "code",
   "execution_count": 8,
   "id": "8c8ca929",
   "metadata": {},
   "outputs": [
    {
     "name": "stdout",
     "output_type": "stream",
     "text": [
      "[('OGC 05-005', 'IETF RFC 2045', 2.8903717578961645), ('OGC 05-005', 'IETF RFC 2119', 5.780743515792329), ('OGC 05-005', 'SLD', 11.561487031584658), ('OGC 05-005', 'XML 1.0', 8.671115273688493), ('OGC 06-042', 'ISO 8601:2004', 20.23260230527315), ('OGC 06-042', 'ISO 19111', 23.122974063169316), ('OGC 06-042', 'ISO 19115', 17.342230547376985), ('OGC 06-042', 'IETF RFC 2045', 4.394449154672439), ('OGC 06-042', 'IETF RFC 2396', 17.342230547376985), ('OGC 06-042', 'IETF RFC 2616', 28.903717578961647), ('OGC 06-042', 'UCUM', 8.671115273688493), ('OGC 06-042', 'XML 1.0', 6.591673732008658), ('OGC 06-042', 'XML Schema', 11.561487031584658), ('OGC 06-121r9', 'CGI', 2.8903717578961645), ('OGC 06-121r9', 'IETF RFC 2045', 3.58351893845611), ('OGC 06-121r9', 'IETF RFC 2141', 2.8903717578961645), ('OGC 06-121r9', 'IETF RFC 2396', 15.380572041353537), ('OGC 06-121r9', 'IETF RFC 2616', 19.775021196025975), ('OGC 06-121r9', 'IETF RFC 4646', 14.451858789480823), ('OGC 06-121r9', 'ISO/IEC Directives, Part 2', 8.671115273688493), ('OGC 06-121r9', 'ISO 4217:2001', 8.671115273688493), ('OGC 06-121r9', 'ISO 8601:2000', 8.671115273688493), ('OGC 06-121r9', 'ISO 19115', 79.1000847841039), ('OGC 06-121r9', 'ISO 19119', 78.04003746319644), ('OGC 06-121r9', 'ISO 19123', 5.780743515792329), ('OGC 06-121r9', 'OGC 02-112', 2.8903717578961645), ('OGC 06-121r9', 'OGC 03-105r1', 5.780743515792329), ('OGC 06-121r9', 'OGC 04-046r3', 2.8903717578961645), ('OGC 06-121r9', 'OGC 04-092r4', 2.8903717578961645), ('OGC 06-121r9', 'OGC 07-092r1', 11.561487031584658), ('OGC 06-121r9', 'OGC 08-008r2', 2.8903717578961645), ('OGC 06-121r9', 'OGC 08-015', 2.8903717578961645), ('OGC 06-121r9', 'OGC 09-046r1', 14.451858789480823), ('OGC 06-121r9', 'OGC 07-107r1', 2.8903717578961645), ('OGC 06-121r9', 'Namespaces In XML', 5.780743515792329), ('OGC 06-121r9', 'XML 1.0', 5.375278407684165), ('OGC 06-121r9', 'XML Schema', 6.591673732008658), ('OGC 06-121r9', 'SOAP', 34.68446109475397), ('OGC 06-121r9', 'XML-binary Optimized Packaging', 5.780743515792329), ('OGC 07-057r7', 'ISO 19105', 5.780743515792329), ('OGC 07-057r7', 'OGC 06-121r3', 193.65490777904301), ('OGC 07-057r7', 'SOAP', 17.577796618689757), ('OGC 07-057r7', 'WSDL 1.1', 23.122974063169316), ('OGC 08-068r2', 'IETF RFC 2616', 3.58351893845611), ('OGC 08-068r2', 'ISO 8601', 8.671115273688493), ('OGC 08-068r2', 'OGC 05-007r7', 2.8903717578961645), ('OGC 08-068r2', 'OGC 06-121r3', 6.591673732008658), ('OGC 08-068r2', 'OGC 07-011', 8.671115273688493), ('OGC 08-068r2', 'OGC 07-067r5', 52.02669164213096), ('OGC 08-068r2', 'OGC 07-092r1', 2.1972245773362196), ('OGC 08-068r2', 'OGC 08-053r2', 2.8903717578961645), ('OGC 08-068r2', 'OGC 08-059r3', 11.561487031584658), ('OGC 09-025r2', 'ISO/TS 19103', 14.451858789480823), ('OGC 09-025r2', 'ISO 19136', 86.71115273688494), ('OGC 09-025r2', 'OGC 09-026r2', 173.42230547376988), ('OGC 09-025r2', 'IETF RFC 2616', 6.016309587105097), ('OGC 09-025r2', 'IETF RFC 4646', 10.986122886681098), ('OGC 09-025r2', 'OGC 06-121r3', 59.12806248452581), ('OGC 09-025r2', 'OGC 07-092r3', 2.8903717578961645), ('OGC 09-025r2', 'SOAP', 10.75055681536833), ('OGC 09-025r2', 'WSDL 1.1', 15.380572041353537), ('OGC 09-025r2', 'Namespaces In XML', 8.788898309344878), ('OGC 09-025r2', 'XML Path Language', 14.451858789480823), ('OGC 09-025r2', 'XML Schema', 14.33407575382444), ('OGC 09-083r4', 'ISO 19103', 57.807435157923294), ('OGC 09-083r4', 'ISO 19115', 21.50111363073666), ('OGC 09-083r4', 'ISO 19115-2', 8.671115273688493), ('OGC 09-083r4', 'ISO 19111', 50.53616527873305), ('OGC 09-083r4', 'OGC 01-009', 57.807435157923294), ('OGC 09-083r4', 'JSR 363', 2.8903717578961645), ('OGC 11-014r3', 'OGC 08-015r2', 2.8903717578961645), ('OGC 11-014r3', 'UML', 26.01334582106548), ('OGC 11-014r3', 'XML 1.0', 13.536696570986468), ('OGC 14-065', 'OGC 06-121r9', 86.71115273688494), ('OGC 14-065', 'OGC 08-131r3', 5.780743515792329), ('OGC 14-065', 'IETF RFC 4646', 21.50111363073666), ('OGC 14-065', 'IETF RFC 3986', 5.780743515792329), ('OGC 14-065', 'ISO 8601:2004', 10.986122886681098), ('OGC 14-065', 'XML Schema', 15.040773967762743), ('OGC 15-001r4', 'OGC 04-046r3', 6.591673732008658), ('OGC 15-001r4', 'OGC CityGML', 8.671115273688493), ('OGC 15-001r4', 'XML 1.0', 10.247470763696514), ('OGC 15-001r4', 'IETF RFC 1738', 8.671115273688493), ('OGC 15-001r4', 'IETF RFC 2046', 8.671115273688493), ('OGC 15-001r4', 'ISO/IEC 14977', 5.780743515792329), ('OGC 15-001r4', 'ISO 19117', 5.780743515792329), ('OGC 15-001r4', 'IETF RFC 3986', 4.394449154672439), ('OGC 15-001r4', 'KML', 5.780743515792329), ('OGC 17-089r1', 'OGC 07-011', 2.1972245773362196), ('OGC 17-089r1', 'OGC 06-121r9', 10.986122886681098), ('OGC 17-089r1', 'OGC 09-146r2', 14.451858789480823), ('OGC 17-089r1', 'OGC 09-146r6', 20.23260230527315), ('OGC 17-089r1', 'OGC 09-110r4', 5.780743515792329), ('OGC 17-089r1', 'OGC 16-083r2', 2.8903717578961645), ('OGC 19-072', 'IETF RFC 2818', 8.671115273688493), ('OGC 19-072', 'IETF RFC 3986', 12.542316284596385), ('OGC 19-072', 'IETF RFC 6570', 5.780743515792329), ('OGC 19-072', 'IETF RFC 7231', 23.122974063169316), ('OGC 19-072', 'IETF RFC 7232', 5.780743515792329), ('OGC 19-072', 'IETF RFC 7807', 20.23260230527315), ('OGC 19-072', 'IETF RFC 8288', 14.451858789480823), ('OGC 19-072', 'IETF RFC 8259', 8.671115273688493), ('OGC 19-072', 'OpenAPI Specification', 31.79408933685781), ('OGC 20-024', 'IETF RFC 3339', 23.122974063169316), ('OGC 20-024', 'IETF RFC 7231', 17.577796618689757), ('OGC 20-024', 'IETF RFC 8259', 4.394449154672439), ('OGC 20-024', 'IETF RFC 8288', 4.394449154672439), ('OGC 20-024', 'JSON Schema', 23.122974063169316), ('OGC 20-024', 'GML', 28.903717578961647), ('OGC 20-024', 'OGC 19-072', 11.561487031584658), ('OGC 20-024', 'HTML5', 5.780743515792329), ('OGC 19-086r5', 'OpenAPI Specification 3.0', 158.97044668428904), ('OGC 19-086r5', 'IETF RFC 2616', 2.5618676909241285), ('OGC 19-086r5', 'IETF RFC 2818', 4.394449154672439), ('OGC 19-086r5', 'IETF RFC 3339', 4.394449154672439), ('OGC 19-086r5', 'IETF RFC 3896', 2.8903717578961645), ('OGC 19-086r5', 'IETF RFC 7946', 31.79408933685781), ('OGC 19-086r5', 'IETF RFC 8288', 7.16703787691222), ('OGC 19-086r5', 'IETF RFC 6570', 2.1972245773362196), ('OGC 19-086r5', 'HTML5', 2.1972245773362196), ('OGC 19-086r5', 'CoverageJSON', 17.342230547376985), ('OGC 19-086r5', 'IETF RFC 2413', 2.8903717578961645), ('OGC 19-086r5', 'OGC 06-103r4', 2.8903717578961645), ('OGC 19-086r5', 'OGC 18-010r7', 2.8903717578961645), ('OGC 19-086r5', 'OGC 17-069r3', 5.780743515792329), ('OGC 19-086r5', 'OGC 19-072', 19.775021196025975), ('OGC 19-086r5', 'OGC 20-024', 17.342230547376985), ('OGC 17-069r4', 'OpenAPI Specification 3.0', 19.775021196025975), ('OGC 17-069r4', 'IETF RFC 2818', 5.375278407684165), ('OGC 17-069r4', 'IETF RFC 3339', 8.958797346140274), ('OGC 17-069r4', 'IETF RFC 7230', 5.780743515792329), ('OGC 17-069r4', 'IETF RFC 7231', 3.58351893845611), ('OGC 17-069r4', 'IETF RFC 7232', 4.394449154672439), ('OGC 17-069r4', 'IETF RFC 8288', 9.024464380657644), ('OGC 17-069r4', 'OGC 10-100r3', 2.8903717578961645), ('OGC 17-069r4', 'IETF RFC 7946', 2.1972245773362196), ('OGC 18-058r1', 'OGC 17-069r4', 28.903717578961647), ('OGC 18-062r2', 'OGC 06-121r9', 1.791759469228055), ('OGC 18-062r2', 'OGC 14-065', 2.8903717578961645), ('OGC 18-062r2', 'IETF RFC 2246', 2.8903717578961645), ('OGC 18-062r2', 'IETF RFC 2616', 2.1972245773362196), ('OGC 18-062r2', 'IETF RFC 2617', 2.8903717578961645), ('OGC 18-062r2', 'IETF RFC 2387', 8.671115273688493), ('OGC 18-062r2', 'IETF RFC 2818', 4.512232190328822), ('OGC 18-062r2', 'IETF RFC 3986', 3.0081547935525483), ('OGC 18-062r2', 'IETF RFC 4646', 1.5040773967762742), ('OGC 18-062r2', 'IETF RFC 7231', 3.0081547935525483), ('OGC 18-062r2', 'IETF RFC 7240', 5.780743515792329), ('OGC 18-062r2', 'IETF RFC 8288', 6.404669227310321), ('OGC 18-062r2', 'IETF RFC 8259', 1.791759469228055), ('OGC 18-062r2', 'JSON Schema', 4.394449154672439), ('OGC 20-057', 'OGC 19-014r3', 11.561487031584658), ('OGC 20-057', 'OGC 17-083r4', 57.807435157923294), ('OGC 20-057', 'OGC 19-072', 1.791759469228055), ('OGC 20-057', 'OGC 20-024', 2.1972245773362196), ('OGC 20-057', 'OGC 10-090r3', 5.780743515792329), ('OGC 20-057', 'IETF RFC 7946', 1.791759469228055), ('OGC 20-057', 'OGC 19-008r4', 5.780743515792329), ('OGC 20-057', 'ISO/IEC 10918-1', 8.671115273688493), ('OGC 20-057', 'ISO/IEC 15948', 11.561487031584658)]\n"
     ]
    }
   ],
   "source": [
    "print(ogc_nx.edges.data('value'))"
   ]
  },
  {
   "cell_type": "code",
   "execution_count": 9,
   "id": "96a79252",
   "metadata": {},
   "outputs": [
    {
     "ename": "KeyError",
     "evalue": "'HTML5'",
     "output_type": "error",
     "traceback": [
      "\u001b[0;31m---------------------------------------------------------------------------\u001b[0m",
      "\u001b[0;31mKeyError\u001b[0m                                  Traceback (most recent call last)",
      "Cell \u001b[0;32mIn[9], line 1\u001b[0m\n\u001b[0;32m----> 1\u001b[0m \u001b[43mogc_nx\u001b[49m\u001b[43m[\u001b[49m\u001b[38;5;124;43m'\u001b[39;49m\u001b[38;5;124;43mOGC 05-005\u001b[39;49m\u001b[38;5;124;43m'\u001b[39;49m\u001b[43m]\u001b[49m\u001b[43m[\u001b[49m\u001b[38;5;124;43m'\u001b[39;49m\u001b[38;5;124;43mHTML5\u001b[39;49m\u001b[38;5;124;43m'\u001b[39;49m\u001b[43m]\u001b[49m[\u001b[38;5;124m'\u001b[39m\u001b[38;5;124mvalue\u001b[39m\u001b[38;5;124m'\u001b[39m]\n",
      "File \u001b[0;32m~/Code/GitHub/Stand_are_nodes/jupyter/venvogc/lib/python3.10/site-packages/networkx/classes/coreviews.py:53\u001b[0m, in \u001b[0;36mAtlasView.__getitem__\u001b[0;34m(self, key)\u001b[0m\n\u001b[1;32m     52\u001b[0m \u001b[38;5;28;01mdef\u001b[39;00m \u001b[38;5;21m__getitem__\u001b[39m(\u001b[38;5;28mself\u001b[39m, key):\n\u001b[0;32m---> 53\u001b[0m     \u001b[38;5;28;01mreturn\u001b[39;00m \u001b[38;5;28;43mself\u001b[39;49m\u001b[38;5;241;43m.\u001b[39;49m\u001b[43m_atlas\u001b[49m\u001b[43m[\u001b[49m\u001b[43mkey\u001b[49m\u001b[43m]\u001b[49m\n",
      "\u001b[0;31mKeyError\u001b[0m: 'HTML5'"
     ]
    }
   ],
   "source": [
    "ogc_nx['OGC 05-005']['HTML5']['value']"
   ]
  },
  {
   "cell_type": "code",
   "execution_count": 10,
   "id": "f5462304",
   "metadata": {},
   "outputs": [
    {
     "data": {
      "text/plain": [
       "2.8903717578961645"
      ]
     },
     "execution_count": 10,
     "metadata": {},
     "output_type": "execute_result"
    }
   ],
   "source": [
    "G = ogc_nx\n",
    "G['OGC 05-005']['IETF RFC 2045']['value']"
   ]
  },
  {
   "cell_type": "code",
   "execution_count": 11,
   "id": "f9fc6aaa",
   "metadata": {},
   "outputs": [
    {
     "name": "stdout",
     "output_type": "stream",
     "text": [
      "OGC 05-005 à pour exposition : 28.903717578961643 pour 4 dépendences.\n",
      "OGC 06-042 à pour exposition : 138.16248023411234 pour 9 dépendences.\n",
      "OGC 06-121r9 à pour exposition : 355.25514621553305 pour 26 dépendences.\n",
      "OGC 07-057r7 à pour exposition : 240.13642197669444 pour 4 dépendences.\n",
      "OGC 08-068r2 à pour exposition : 99.08356998468592 pour 9 dépendences.\n",
      "OGC 09-025r2 à pour exposition : 417.3121454257158 pour 12 dépendences.\n",
      "OGC 09-083r4 à pour exposition : 199.21363625690094 pour 6 dépendences.\n",
      "OGC 11-014r3 à pour exposition : 42.44041414994811 pour 3 dépendences.\n",
      "OGC 14-065 à pour exposition : 145.8006502536501 pour 6 dépendences.\n",
      "OGC 15-001r4 à pour exposition : 64.58917001882008 pour 9 dépendences.\n",
      "OGC 17-089r1 à pour exposition : 56.53892383245978 pour 6 dépendences.\n",
      "OGC 19-072 à pour exposition : 131.04755835833913 pour 9 dépendences.\n",
      "OGC 20-024 à pour exposition : 118.8585911807119 pour 8 dépendences.\n",
      "OGC 19-086r5 à pour exposition : 285.47850189115746 pour 16 dépendences.\n",
      "OGC 17-069r4 à pour exposition : 61.979869274661326 pour 9 dépendences.\n",
      "OGC 18-058r1 à pour exposition : 28.903717578961647 pour 1 dépendences.\n",
      "OGC 18-062r2 à pour exposition : 51.735455135154595 pour 14 dépendences.\n",
      "OGC 20-057 à pour exposition : 106.94375504215809 pour 9 dépendences.\n"
     ]
    }
   ],
   "source": [
    "for src in InitOGCDict.keys():\n",
    "        rez=0\n",
    "        nb_dep = 0\n",
    "        for dest in ogc_nx.nodes():\n",
    "            try :\n",
    "                rez=rez+G[src][dest]['value']\n",
    "                nb_dep = nb_dep + 1\n",
    "            except KeyError :\n",
    "                None\n",
    "        print(str(src) + \" à pour exposition : \" + str(rez) + \" pour \" + str(nb_dep) + \" N-1 dépendences.\")"
   ]
  },
  {
   "cell_type": "code",
   "execution_count": 28,
   "id": "ad1c9bbb",
   "metadata": {},
   "outputs": [
    {
     "name": "stdout",
     "output_type": "stream",
     "text": [
      "{'OGC 05-005': 0.0, 'OGC 06-042': 0.0, 'OGC 06-121r9': 0.022988505747126436, 'OGC 07-057r7': 0.0, 'OGC 08-068r2': 0.0, 'OGC 09-025r2': 0.0, 'OGC 09-083r4': 0.0, 'OGC 11-014r3': 0.0, 'OGC 14-065': 0.0, 'OGC 15-001r4': 0.0, 'OGC 17-089r1': 0.0, 'OGC 19-072': 0.011494252873563218, 'OGC 20-024': 0.0, 'IETF RFC 2045': 0.034482758620689655, 'IETF RFC 2119': 0.011494252873563218, 'SLD': 0.011494252873563218, 'XML 1.0': 0.05747126436781609, 'ISO 8601:2004': 0.022988505747126436, 'ISO 19111': 0.022988505747126436, 'ISO 19115': 0.034482758620689655, 'IETF RFC 2396': 0.022988505747126436, 'IETF RFC 2616': 0.04597701149425287, 'UCUM': 0.011494252873563218, 'XML Schema': 0.04597701149425287, 'CGI': 0.011494252873563218, 'IETF RFC 2141': 0.011494252873563218, 'IETF RFC 4646': 0.034482758620689655, 'ISO/IEC Directives, Part 2': 0.011494252873563218, 'ISO 4217:2001': 0.011494252873563218, 'ISO 8601:2000': 0.011494252873563218, 'ISO 19119': 0.011494252873563218, 'ISO 19123': 0.011494252873563218, 'OGC 02-112': 0.011494252873563218, 'OGC 03-105r1': 0.011494252873563218, 'OGC 04-046r3': 0.022988505747126436, 'OGC 04-092r4': 0.011494252873563218, 'OGC 07-092r1': 0.022988505747126436, 'OGC 08-008r2': 0.011494252873563218, 'OGC 08-015': 0.011494252873563218, 'OGC 09-046r1': 0.011494252873563218, 'OGC 07-107r1': 0.011494252873563218, 'Namespaces In XML': 0.022988505747126436, 'SOAP': 0.034482758620689655, 'XML-binary Optimized Packaging': 0.011494252873563218, 'ISO 19105': 0.011494252873563218, 'OGC 06-121r3': 0.034482758620689655, 'WSDL 1.1': 0.022988505747126436, 'ISO 8601': 0.011494252873563218, 'OGC 05-007r7': 0.011494252873563218, 'OGC 07-011': 0.022988505747126436, 'OGC 07-067r5': 0.011494252873563218, 'OGC 08-053r2': 0.011494252873563218, 'OGC 08-059r3': 0.011494252873563218, 'ISO/TS 19103': 0.011494252873563218, 'ISO 19136': 0.011494252873563218, 'OGC 09-026r2': 0.011494252873563218, 'OGC 07-092r3': 0.011494252873563218, 'XML Path Language': 0.011494252873563218, 'ISO 19103': 0.011494252873563218, 'ISO 19115-2': 0.011494252873563218, 'OGC 01-009': 0.011494252873563218, 'JSR 363': 0.011494252873563218, 'OGC 08-015r2': 0.011494252873563218, 'UML': 0.011494252873563218, 'OGC 08-131r3': 0.011494252873563218, 'IETF RFC 3986': 0.034482758620689655, 'OGC CityGML': 0.011494252873563218, 'IETF RFC 1738': 0.011494252873563218, 'IETF RFC 2046': 0.011494252873563218, 'ISO/IEC 14977': 0.011494252873563218, 'ISO 19117': 0.011494252873563218, 'KML': 0.011494252873563218, 'OGC 09-146r2': 0.011494252873563218, 'OGC 09-146r6': 0.011494252873563218, 'OGC 09-110r4': 0.011494252873563218, 'OGC 16-083r2': 0.011494252873563218, 'IETF RFC 2818': 0.011494252873563218, 'IETF RFC 6570': 0.011494252873563218, 'IETF RFC 7231': 0.022988505747126436, 'IETF RFC 7232': 0.011494252873563218, 'IETF RFC 7807': 0.011494252873563218, 'IETF RFC 8288': 0.022988505747126436, 'IETF RFC 8259': 0.022988505747126436, 'OpenAPI Specification': 0.011494252873563218, 'IETF RFC 3339': 0.011494252873563218, 'JSON Schema': 0.011494252873563218, 'GML': 0.011494252873563218, 'HTML5': 0.011494252873563218}\n"
     ]
    }
   ],
   "source": [
    "print(degree_centrality)"
   ]
  },
  {
   "cell_type": "code",
   "execution_count": null,
   "id": "ee23c60a",
   "metadata": {},
   "outputs": [],
   "source": []
  }
 ],
 "metadata": {
  "kernelspec": {
   "display_name": "venvogc",
   "language": "python",
   "name": "venvogc"
  },
  "language_info": {
   "codemirror_mode": {
    "name": "ipython",
    "version": 3
   },
   "file_extension": ".py",
   "mimetype": "text/x-python",
   "name": "python",
   "nbconvert_exporter": "python",
   "pygments_lexer": "ipython3",
   "version": "3.11.3"
  }
 },
 "nbformat": 4,
 "nbformat_minor": 5
}
