{
 "cells": [
  {
   "cell_type": "markdown",
   "id": "80ab291f",
   "metadata": {},
   "source": [
    "# Visualisation de l'écosystème normatif des webservices OGC\n",
    "## Définition des fonctions nécéssaires\n",
    "### <u> edge_weight :</u> Définition du poid pour un noeud donné\n",
    "* **<u>Entrées :</u>**\n",
    " * **ogc_nx :** L'instance nx.DiGraph() des noeuds que l'on souhaite analyser.\n",
    " * **standard :** Standard source (Déjà présent de base dans le fichier) à l'origine de la référence (départ de l'arête).\n",
    " * **ref :** Référence présente dans la source (destination de l'arête).\n",
    " * **OGCDict :** Dictionnaire de départ comportant toutes les normes et référence.\n",
    "* <u>Sortie :</u>\n",
    " * **w :** Poid de la relation entre **standard :** et **ref :**"
   ]
  },
  {
   "cell_type": "code",
   "execution_count": 2,
   "id": "0f92c563",
   "metadata": {},
   "outputs": [],
   "source": [
    "def edge_weight(ogc_nx,standard,ref,OGCDict):\n",
    "    #Fréquence d'apparission de la référence dans le standard (Normal de rajouter +1 car il est tout de même cité dans la partie Référence normative)\n",
    "    tf_ref = OGCDict[standard][\"references\"][ref] + 1\n",
    "\n",
    "    #Nombre totale de standard de base.\n",
    "    N = len(OGCDict.keys())\n",
    "    \n",
    "    #Nombre de fois que la référence est citée dans l'écosystème\n",
    "    listedge = ogc_nx.edges()\n",
    "    sf_ref = 1\n",
    "\n",
    "    for edge in listedge:\n",
    "        src, to = edge\n",
    "        if to==ref:\n",
    "            sf_ref=sf_ref+1\n",
    "\n",
    "    isf_ref = math.log(len(OGCDict.keys())/sf_ref)\n",
    "    #w = math.log(tf_ref * isf_ref)\n",
    "    w = tf_ref * isf_ref\n",
    "    \n",
    "    return w\n",
    "    #Ajout du paramètres de poids dans la relation\n",
    "#    for edge in listedge:\n",
    "#        if ogc_net.edges[\"from\"] == src and ogc_net.edges[\"to\"] == ref :\n",
    "#            key, value = \"value\", w\n",
    "#            listedge[listedge.index(edge)].update({key: value})"
   ]
  },
  {
   "cell_type": "markdown",
   "id": "ec6f1766",
   "metadata": {},
   "source": [
    "### <u>rgb_to_hex :</u> Simple convertion de couleurs RGB en Hexadécimal\n",
    "* **<u>Entrées :</u>**\n",
    " * **rgb :** Tuple comportant les valeurs (r, g, b)\n",
    "* **<u>Sortie :</u>**\n",
    " * Valeur hexadécimale brute"
   ]
  },
  {
   "cell_type": "code",
   "execution_count": 3,
   "id": "99371ea1",
   "metadata": {},
   "outputs": [],
   "source": [
    "def rgb_to_hex(rgb):\n",
    "  return '%02x%02x%02x' % rgb"
   ]
  },
  {
   "cell_type": "markdown",
   "id": "28de4dce",
   "metadata": {},
   "source": [
    "## Ajout des noeuds à la base de données graphs"
   ]
  },
  {
   "cell_type": "code",
   "execution_count": 4,
   "id": "75c393ac",
   "metadata": {
    "scrolled": false
   },
   "outputs": [
    {
     "name": "stdout",
     "output_type": "stream",
     "text": [
      "Noeuds Principaux Ajouté !\n",
      "Noeuds secondaire ajouté\n"
     ]
    }
   ],
   "source": [
    "from pyvis.network import Network\n",
    "import json\n",
    "import networkx as nx\n",
    "import math\n",
    "\n",
    "destNodeSize = dict()\n",
    "\n",
    "#Mise en dico du fichier json\n",
    "with open(\"test.json\", 'r') as fp:\n",
    "    InitOGCDict = json.load(fp)\n",
    "\n",
    "#Visualisation du dico\n",
    "ogc_net = Network(directed=True, notebook=True, cdn_resources='in_line', select_menu=True)\n",
    "ogc_nx = nx.DiGraph()\n",
    "\n",
    "##Alimentation du réseau\n",
    "##Initialisation des noeuds avec les normes de base\n",
    "ogc_nx.add_nodes_from(InitOGCDict.keys())\n",
    "print(\"Noeuds Principaux Ajouté !\")\n",
    "##Ajout du reste des noeuds qui ne font pas partie des normes de base\n",
    "for key in InitOGCDict.keys():\n",
    "    ogc_nx.add_nodes_from(InitOGCDict[key][\"references\"].keys())\n",
    "print(\"Noeuds secondaire ajouté\")\n",
    "##Ajout des liens entre les différents \n",
    "for src in InitOGCDict.keys():\n",
    "    for dest in InitOGCDict[src][\"references\"].keys():\n",
    "        #Ajout du lien avec le calcul de son poid\n",
    "        try:\n",
    "            #print('Source : ' + src)\n",
    "            #print('Référence : ' + dest)\n",
    "            ogc_nx.add_edge(src,dest,value=edge_weight(ogc_nx,src,dest,InitOGCDict)) #Peut être voir pour mettre value à la place si pyvis comprend mieux\n",
    "        except KeyError as e:\n",
    "            print(e)\n",
    "            #print(\"La relation \" + src + \" -> \" + dest + \" n'a pas pu être calculé\")\n",
    "        #Réglage de la taille des noeuds\n",
    "        ogc_nx.nodes[src]['size']=len(InitOGCDict[src]['references'].keys())*3\n",
    "        #Retrive nodes size for external standards nodes :\n",
    "        if dest in destNodeSize :\n",
    "            destNodeSize[dest] += 1\n",
    "        else :\n",
    "            destNodeSize[dest] = 1\n",
    "\n",
    "#Red nodes size applying :\n",
    "for dest in destNodeSize.keys() :\n",
    "    ogc_nx.nodes[dest]['size'] = destNodeSize[dest]*3\n",
    "\n",
    "#ogc_net.from_nx(ogc_nx)\n",
    "#ogc_net.force_atlas_2based()\n",
    "#ogc_net.prep_notebook()\n",
    "#ogc_net.show(\"results/ogc_ws.html\")"
   ]
  },
  {
   "cell_type": "markdown",
   "id": "b56f4f76",
   "metadata": {},
   "source": [
    "## Analyse par degré de centralité avec changement de couleurs des normes de base\n",
    "* Couleur des noeuds :\n",
    " * Nuance de Rouge = référence\n",
    " * Vert/Blanc = norme de l'écosystème analysé"
   ]
  },
  {
   "cell_type": "code",
   "execution_count": 4,
   "id": "61476cc0",
   "metadata": {},
   "outputs": [],
   "source": [
    "nx.degree_centrality(ogc_nx)\n",
    "degree_centrality = nx.in_degree_centrality(ogc_nx)\n",
    "max_key = max(degree_centrality, key=lambda key: degree_centrality[key])\n",
    "max_degree = degree_centrality[max_key]\n",
    "Verifdic=dict()\n",
    "srclist=list()\n",
    "\n",
    "for n in ogc_nx.nodes:\n",
    "    if n in InitOGCDict.keys() :\n",
    "        srclist.append(src)\n",
    "        Verifdic[\"vert\"] = srclist\n",
    "        r=255*abs(((degree_centrality[n])/(max_degree)+0.1)-1)\n",
    "        g=255*abs(((degree_centrality[n])/(max_degree)+0.1)-1)\n",
    "        b=255\n",
    "        rgb = (int(r),int(b),int(g))\n",
    "        ogc_nx.nodes[n]['color']=\"#\"+rgb_to_hex(rgb)\n",
    "    else :\n",
    "        srclist.append(src)\n",
    "        Verifdic[\"rouge\"] = srclist\n",
    "        r=255\n",
    "        g=255*abs((degree_centrality[n]/max_degree)-1)\n",
    "        b=255*abs((degree_centrality[n]/max_degree)-1)\n",
    "        rgb = (int(r),int(b),int(g))\n",
    "        ogc_nx.nodes[n]['color']=\"#\"+rgb_to_hex(rgb)"
   ]
  },
  {
   "cell_type": "markdown",
   "id": "beeb8ffb",
   "metadata": {},
   "source": [
    "## Visualisation"
   ]
  },
  {
   "cell_type": "code",
   "execution_count": 5,
   "id": "0b65ae34",
   "metadata": {},
   "outputs": [
    {
     "name": "stdout",
     "output_type": "stream",
     "text": [
      "results/ogc_ws_centrality_dir.html\n"
     ]
    },
    {
     "data": {
      "text/html": [
       "\n",
       "        <iframe\n",
       "            width=\"100%\"\n",
       "            height=\"600px\"\n",
       "            src=\"results/ogc_ws_centrality_dir.html\"\n",
       "            frameborder=\"0\"\n",
       "            allowfullscreen\n",
       "            \n",
       "        ></iframe>\n",
       "        "
      ],
      "text/plain": [
<<<<<<< HEAD
       "<IPython.lib.display.IFrame at 0x7f50e4b4af90>"
=======
       "<IPython.lib.display.IFrame at 0x7fa2cc056a50>"
>>>>>>> b0042019 (05092023)
      ]
     },
     "execution_count": 5,
     "metadata": {},
     "output_type": "execute_result"
    }
   ],
   "source": [
    "ogc_net.from_nx(ogc_nx)\n",
    "ogc_net.inherit_edge_colors(False)\n",
    "#ogc_net.force_atlas_2based()\n",
    "ogc_net.prep_notebook()\n",
    "ogc_net.show(\"results/ogc_ws_centrality_dir.html\")"
   ]
  },
  {
   "cell_type": "markdown",
   "id": "cf3ab239",
   "metadata": {},
   "source": [
    "### Résultat de voterank"
   ]
  },
  {
   "cell_type": "code",
   "execution_count": 20,
   "id": "32910223",
   "metadata": {},
   "outputs": [
    {
     "data": {
      "text/plain": [
       "['OGC 20-004',\n",
       " 'OGC 06-121r9',\n",
       " 'OGC 19-087',\n",
       " 'OGC 09-025r2',\n",
       " 'OGC 18-062r2',\n",
       " 'OGC 20-057',\n",
       " 'OGC 15-001r4',\n",
       " 'OGC 08-068r2',\n",
       " 'OGC 09-083r4',\n",
       " 'OGC 19-086r5',\n",
       " 'OGC 22-026',\n",
       " 'OGC 17-089r1',\n",
       " 'OGC 06-042',\n",
       " 'OGC 17-069r4',\n",
       " 'OGC 05-005',\n",
       " 'OGC 11-014r3',\n",
       " 'OGC 19-072',\n",
       " 'OGC 07-057r7',\n",
       " 'OGC 14-065',\n",
       " 'OGC 20-024']"
      ]
     },
     "execution_count": 20,
     "metadata": {},
     "output_type": "execute_result"
    }
   ],
   "source": [
    "nx.voterank(ogc_nx)"
   ]
  },
  {
   "cell_type": "markdown",
   "id": "de093b4c",
   "metadata": {},
   "source": [
    "## Récupération du poid des arêtes"
   ]
  },
  {
   "cell_type": "code",
   "execution_count": 8,
   "id": "8c8ca929",
   "metadata": {},
   "outputs": [
    {
     "name": "stdout",
     "output_type": "stream",
     "text": [
      "[('OGC 05-005', 'IETF RFC 2045', 3.091042453358316), ('OGC 05-005', 'IETF RFC 2119', 6.182084906716632), ('OGC 05-005', 'SLD', 12.364169813433264), ('OGC 05-005', 'XML 1.0', 9.273127360074948), ('OGC 06-042', 'ISO 8601:2004', 21.637297173508212), ('OGC 06-042', 'ISO 19111', 24.72833962686653), ('OGC 06-042', 'ISO 19115', 18.546254720149896), ('OGC 06-042', 'IETF RFC 2045', 4.795790545596741), ('OGC 06-042', 'IETF RFC 2396', 18.546254720149896), ('OGC 06-042', 'IETF RFC 2616', 30.91042453358316), ('OGC 06-042', 'UCUM', 9.273127360074948), ('OGC 06-042', 'XML 1.0', 7.193685818395112), ('OGC 06-042', 'XML Schema', 12.364169813433264), ('OGC 06-121', 'CGI', 3.091042453358316), ('OGC 06-121', 'IETF RFC 2045', 3.984860329380412), ('OGC 06-121', 'IETF RFC 2141', 3.091042453358316), ('OGC 06-121', 'IETF RFC 2396', 16.785266909588593), ('OGC 06-121', 'IETF RFC 2616', 21.581057455185338), ('OGC 06-121', 'IETF RFC 4646', 15.45521226679158), ('OGC 06-121', 'ISO/IEC Directives, Part 2', 9.273127360074948), ('OGC 06-121', 'ISO 4217:2001', 9.273127360074948), ('OGC 06-121', 'ISO 8601:2000', 9.273127360074948), ('OGC 06-121', 'ISO 19115', 86.32422982074135), ('OGC 06-121', 'ISO 19119', 83.45814624067454), ('OGC 06-121', 'ISO 19123', 6.182084906716632), ('OGC 06-121', 'OGC 02-112', 3.091042453358316), ('OGC 06-121', 'OGC 03-105', 6.182084906716632), ('OGC 06-121', 'OGC 04-046', 3.091042453358316), ('OGC 06-121', 'OGC 04-092', 3.091042453358316), ('OGC 06-121', 'OGC 07-092', 12.364169813433264), ('OGC 06-121', 'OGC 08-008', 3.091042453358316), ('OGC 06-121', 'OGC 08-015', 3.091042453358316), ('OGC 06-121', 'OGC 09-046', 15.45521226679158), ('OGC 06-121', 'OGC 07-107', 3.091042453358316), ('OGC 06-121', 'Namespaces In XML', 6.182084906716632), ('OGC 06-121', 'XML 1.0', 5.977290494070618), ('OGC 06-121', 'XML Schema', 7.193685818395112), ('OGC 06-121', 'SOAP', 37.09250944029979), ('OGC 06-121', 'XML-binary Optimized Packaging', 6.182084906716632), ('OGC 07-057', 'ISO 19105', 6.182084906716632), ('OGC 07-057', 'OGC 06-121', 207.09984437500717), ('OGC 07-057', 'SOAP', 19.183162182386965), ('OGC 07-057', 'WSDL 1.1', 24.72833962686653), ('OGC 08-068', 'IETF RFC 2616', 3.984860329380412), ('OGC 08-068', 'ISO 8601', 6.182084906716632), ('OGC 08-068', 'OGC 09-146', 9.273127360074948), ('OGC 08-068', 'OGC 17-089', 9.273127360074948), ('OGC 08-068', 'OGC 07-092', 2.3978952727983707), ('OGC 08-068', 'OGC 05-007', 3.091042453358316), ('OGC 08-068', 'OGC 06-121', 7.193685818395112), ('OGC 08-068', 'OGC 07-011', 9.273127360074948), ('OGC 08-068', 'OGC 07-067', 55.63876416044969), ('OGC 08-068', 'OGC 08-053', 3.091042453358316), ('OGC 08-068', 'OGC 08-059', 18.546254720149896), ('OGC 08-068', 'XQuery', 9.273127360074948), ('OGC 08-068', 'XML Path Language', 9.273127360074948), ('OGC 09-025', 'ISO/TS 19103', 15.45521226679158), ('OGC 09-025', 'ISO 19136', 92.73127360074949), ('OGC 09-025', 'OGC 09-026', 185.46254720149898), ('OGC 09-025', 'IETF RFC 2616', 6.818992368953701), ('OGC 09-025', 'IETF RFC 4646', 11.989476363991853), ('OGC 09-025', 'OGC 06-121', 65.7501954347768), ('OGC 09-025', 'OGC 07-092', 1.992430164690206), ('OGC 09-025', 'SOAP', 11.954580988141236), ('OGC 09-025', 'WSDL 1.1', 16.785266909588593), ('OGC 09-025', 'Namespaces In XML', 9.591581091193483), ('OGC 09-025', 'XML Path Language', 11.989476363991853), ('OGC 09-025', 'XML Schema', 15.939441317521649), ('OGC 09-083', 'ISO 19103', 61.82084906716632), ('OGC 09-083', 'ISO 19115', 23.909161976282473), ('OGC 09-083', 'ISO 19115-2', 9.273127360074948), ('OGC 09-083', 'ISO 19111', 55.151591274362524), ('OGC 09-083', 'OGC 01-009', 61.82084906716632), ('OGC 09-083', 'JSR 363', 3.091042453358316), ('OGC 11-014', 'OGC 08-015', 2.3978952727983707), ('OGC 11-014', 'UML', 27.819382080224845), ('OGC 11-014', 'XML 1.0', 15.342732830145827), ('OGC 14-065', 'OGC 06-121', 51.14244276715276), ('OGC 14-065', 'OGC 08-131', 6.182084906716632), ('OGC 14-065', 'IETF RFC 4646', 23.909161976282473), ('OGC 14-065', 'IETF RFC 3986', 6.182084906716632), ('OGC 14-065', 'ISO 8601:2004', 11.989476363991853), ('OGC 14-065', 'XML Schema', 17.047480922384253), ('OGC 15-001r4', 'OGC 04-046', 7.193685818395112), ('OGC 15-001r4', 'OGC CityGML', 9.273127360074948), ('OGC 15-001r4', 'XML 1.0', 11.852836327393725), ('OGC 15-001r4', 'IETF RFC 1738', 9.273127360074948), ('OGC 15-001r4', 'IETF RFC 2046', 9.273127360074948), ('OGC 15-001r4', 'ISO/IEC 14977', 6.182084906716632), ('OGC 15-001r4', 'ISO 19117', 6.182084906716632), ('OGC 15-001r4', 'IETF RFC 3986', 4.795790545596741), ('OGC 15-001r4', 'KML', 6.182084906716632), ('OGC 17-089', 'OGC 07-011', 2.3978952727983707), ('OGC 17-089', 'OGC 06-121', 7.408022704621078), ('OGC 17-089', 'OGC 09-146', 16.785266909588593), ('OGC 17-089', 'OGC 09-110', 6.182084906716632), ('OGC 17-089', 'OGC 16-083', 3.091042453358316), ('OGC 19-072', 'IETF RFC 2818', 9.273127360074948), ('OGC 19-072', 'IETF RFC 3986', 13.947011152831443), ('OGC 19-072', 'IETF RFC 6570', 6.182084906716632), ('OGC 19-072', 'IETF RFC 7231', 24.72833962686653), ('OGC 19-072', 'IETF RFC 7232', 6.182084906716632), ('OGC 19-072', 'IETF RFC 7807', 21.637297173508212), ('OGC 19-072', 'IETF RFC 8288', 15.45521226679158), ('OGC 19-072', 'IETF RFC 8259', 9.273127360074948), ('OGC 19-072', 'OpenAPI Specification', 34.00146698694148), ('OGC 20-024', 'IETF RFC 3339', 24.72833962686653), ('OGC 20-024', 'IETF RFC 7231', 19.183162182386965), ('OGC 20-024', 'IETF RFC 8259', 4.795790545596741), ('OGC 20-024', 'IETF RFC 8288', 4.795790545596741), ('OGC 20-024', 'JSON Schema', 24.72833962686653), ('OGC 20-024', 'GML', 30.91042453358316), ('OGC 20-024', 'OGC 19-072', 12.364169813433264), ('OGC 20-024', 'HTML5', 6.182084906716632), ('OGC 19-086', 'OpenAPI Specification 3.0', 170.0073349347074), ('OGC 19-086', 'IETF RFC 2616', 2.963209081848431), ('OGC 19-086', 'IETF RFC 2818', 4.795790545596741), ('OGC 19-086', 'IETF RFC 3339', 4.795790545596741), ('OGC 19-086', 'IETF RFC 3896', 3.091042453358316), ('OGC 19-086', 'IETF RFC 7946', 34.00146698694148), ('OGC 19-086', 'IETF RFC 8288', 7.969720658760824), ('OGC 19-086', 'IETF RFC 6570', 2.3978952727983707), ('OGC 19-086', 'HTML5', 2.3978952727983707), ('OGC 19-086', 'CoverageJSON', 18.546254720149896), ('OGC 19-086', 'IETF RFC 2413', 3.091042453358316), ('OGC 19-086', 'OGC 06-103', 3.091042453358316), ('OGC 19-086', 'OGC 18-010', 3.091042453358316), ('OGC 19-086', 'OGC 17-069', 6.182084906716632), ('OGC 19-086', 'OGC 19-072', 21.581057455185338), ('OGC 19-086', 'OGC 20-024', 18.546254720149896), ('OGC 17-069', 'OpenAPI Specification 3.0', 21.581057455185338), ('OGC 17-069', 'IETF RFC 2818', 5.977290494070618), ('OGC 17-069', 'IETF RFC 3339', 9.96215082345103), ('OGC 17-069', 'IETF RFC 7230', 6.182084906716632), ('OGC 17-069', 'IETF RFC 7231', 3.984860329380412), ('OGC 17-069', 'IETF RFC 7232', 4.795790545596741), ('OGC 17-069', 'IETF RFC 8288', 10.228488553430552), ('OGC 17-069', 'OGC 10-100', 3.091042453358316), ('OGC 17-069', 'IETF RFC 7946', 2.3978952727983707), ('OGC 18-058', 'OGC 17-069', 23.978952727983707), ('OGC 18-062', 'OGC 06-121', 1.2992829841302609), ('OGC 18-062', 'OGC 14-065', 3.091042453358316), ('OGC 18-062', 'IETF RFC 2246', 3.091042453358316), ('OGC 18-062', 'IETF RFC 2616', 2.5985659682605218), ('OGC 18-062', 'IETF RFC 2617', 3.091042453358316), ('OGC 18-062', 'IETF RFC 2387', 9.273127360074948), ('OGC 18-062', 'IETF RFC 2818', 5.114244276715276), ('OGC 18-062', 'IETF RFC 3986', 3.4094961844768505), ('OGC 18-062', 'IETF RFC 4646', 1.7047480922384253), ('OGC 18-062', 'IETF RFC 7231', 3.4094961844768505), ('OGC 18-062', 'IETF RFC 7240', 6.182084906716632), ('OGC 18-062', 'IETF RFC 8288', 7.408022704621078), ('OGC 18-062', 'IETF RFC 8259', 1.992430164690206), ('OGC 18-062', 'JSON Schema', 4.795790545596741), ('OGC 20-057', 'OGC 19-014', 12.364169813433264), ('OGC 20-057', 'OGC 17-083', 61.82084906716632), ('OGC 20-057', 'OGC 19-072', 1.992430164690206), ('OGC 20-057', 'OGC 20-024', 2.3978952727983707), ('OGC 20-057', 'OGC 10-090', 6.182084906716632), ('OGC 20-057', 'IETF RFC 7946', 1.992430164690206), ('OGC 20-057', 'OGC 19-008', 6.182084906716632), ('OGC 20-057', 'ISO/IEC 10918-1', 9.273127360074948), ('OGC 20-057', 'ISO/IEC 15948', 12.364169813433264), ('OGC 19-087', 'IETF RFC 2616', 1.1451323043030026), ('OGC 19-087', 'IETF RFC 2818', 1.4816045409242156), ('OGC 19-087', 'IETF RFC 3339', 8.523740461192126), ('OGC 19-087', 'IETF RFC 3986', 2.963209081848431), ('OGC 19-087', 'IETF RFC 3987', 3.091042453358316), ('OGC 19-087', 'IETF RFC 6570', 1.992430164690206), ('OGC 19-087', 'IETF RFC 8288', 2.5985659682605218), ('OGC 19-087', 'OGC 19-072', 6.818992368953701), ('OGC 19-087', 'OGC 20-024', 5.977290494070618), ('OGC 19-087', 'OGC 09-146', 5.977290494070618), ('OGC 19-087', 'OGC 19-008', 2.3978952727983707), ('OGC 19-087', 'OGC Schema', 3.091042453358316), ('OGC 19-087', 'OGC 10-090', 2.3978952727983707), ('OGC 19-087', 'OGC 17-089', 19.183162182386965), ('OGC 19-087', 'OpenAPI Specification 3.0', 11.954580988141236), ('OGC 19-087', 'HTML5', 3.984860329380412), ('OGC 19-087', 'OGC 07-011', 7.969720658760824), ('OGC 19-087', 'OGC 08-094', 15.45521226679158), ('OGC 19-087', 'OGC 12-000', 9.273127360074948), ('OGC 19-087', 'OGC 16-083', 28.774743273580448), ('OGC 19-087', 'IETF RFC 7159', 3.091042453358316), ('OGC 19-087', 'W3C JSON-LD 1.0', 3.091042453358316), ('OGC 19-087', 'RDF 1.1', 6.182084906716632), ('OGC 20-004', 'IETF RFC 2616', 1.0116009116784799), ('OGC 20-004', 'IETF RFC 2818', 1.2992829841302609), ('OGC 20-004', 'IETF RFC 3339', 10.371231786469508), ('OGC 20-004', 'IETF RFC 3986', 2.5985659682605218), ('OGC 20-004', 'IETF RFC 3987', 2.3978952727983707), ('OGC 20-004', 'IETF RFC 4287', 3.091042453358316), ('OGC 20-004', 'IETF RFC 6570', 1.7047480922384253), ('OGC 20-004', 'IETF RFC 7946', 5.114244276715276), ('OGC 20-004', 'IETF RFC 8288', 3.435396912909008), ('OGC 20-004', 'OGC 19-072', 2.963209081848431), ('OGC 20-004', 'OGC 17-069', 29.886452470353092), ('OGC 20-004', 'OGC 19-079', 9.273127360074948), ('OGC 20-004', 'OpenAPI Specification 3.0', 18.752229014622678), ('OGC 20-004', 'HTML5', 3.4094961844768505), ('OGC 20-004', 'RDF 1.1', 2.3978952727983707), ('OGC 20-004', 'XML 1.0', 6.496414920651304), ('OGC 20-004', 'OASIS', 3.091042453358316), ('OGC 20-004', 'OGC 07-036', 9.273127360074948), ('OGC 20-004', 'OGC 10-129', 6.182084906716632), ('OGC 20-004', 'XML Path Language', 1.992430164690206), ('OGC 20-004', 'XML Linking Language', 3.091042453358316), ('OGC 20-004', 'ISO/IEC 19757', 3.091042453358316), ('OGC 20-004', 'ISO 8601', 4.795790545596741), ('OGC 20-004', 'IETF RFC 2183', 3.091042453358316), ('OGC 20-004', 'IETF RFC 2387', 2.3978952727983707), ('OGC 20-004', 'IETF RFC 2392', 3.091042453358316), ('OGC 20-004', 'IETF RFC 7159', 2.3978952727983707), ('OGC 20-004', 'JSON-LD 1.0', 3.091042453358316), ('OGC 22-026', 'IETF RFC 2616', 1.787635752044193), ('OGC 22-026', 'IETF RFC 2818', 3.435396912909008), ('OGC 22-026', 'IETF RFC 3339', 3.897848952390783), ('OGC 22-026', 'IETF RFC 3986', 1.1451323043030026), ('OGC 22-026', 'IETF RFC 6266', 3.091042453358316), ('OGC 22-026', 'IETF RFC 7231', 2.963209081848431), ('OGC 22-026', 'IETF RFC 7578', 6.182084906716632), ('OGC 22-026', 'IETF RFC 7807', 9.591581091193483), ('OGC 22-026', 'IETF RFC 7946', 1.4816045409242156), ('OGC 22-026', 'IETF RFC 8259', 6.818992368953701), ('OGC 22-026', 'IETF RFC 8288', 3.0348027350354396), ('OGC 22-026', 'JSON Schema', 9.96215082345103), ('OGC 22-026', 'OGC 06-121', 2.2902646086060052), ('OGC 22-026', 'OGC 19-072', 7.795697904781566), ('OGC 22-026', 'OGC 20-024', 5.114244276715276), ('OGC 22-026', 'OpenAPI Specification 3.0', 14.816045409242156), ('OGC 22-026', 'HTML5', 2.963209081848431), ('OGC 09-001', 'IETF RFC 2396', 1.992430164690206), ('OGC 09-001', 'ISO 19105', 2.3978952727983707), ('OGC 09-001', 'ISO 19107', 3.091042453358316), ('OGC 09-001', 'ISO 19108', 18.546254720149896), ('OGC 09-001', 'ISO 19136', 9.591581091193483), ('OGC 09-001', 'ISO 19143', 6.182084906716632), ('OGC 09-001', 'ISO/DIS 19156', 46.365636800374745), ('OGC 09-001', 'OGC 10-004', 3.091042453358316), ('OGC 09-001', 'OGC 08-094', 7.193685818395112), ('OGC 09-001', 'OGC 04-095', 6.182084906716632), ('OGC 09-001', 'OGC 06-121', 32.371229173711356), ('OGC 09-001', 'OGC 07-000', 6.182084906716632), ('OGC 09-001', 'W3C Web Services Addressing', 6.182084906716632), ('OGC 09-001', 'W3C XML Information Set', 9.273127360074948), ('OGC 09-001', 'XML Path Language', 13.637984737907402)]\n"
     ]
    }
   ],
   "source": [
    "print(ogc_nx.edges.data('value'))"
   ]
  },
  {
   "cell_type": "code",
   "execution_count": 9,
   "id": "96a79252",
   "metadata": {},
   "outputs": [
    {
     "ename": "KeyError",
     "evalue": "'HTML5'",
     "output_type": "error",
     "traceback": [
      "\u001b[0;31m---------------------------------------------------------------------------\u001b[0m",
      "\u001b[0;31mKeyError\u001b[0m                                  Traceback (most recent call last)",
      "Cell \u001b[0;32mIn[9], line 1\u001b[0m\n\u001b[0;32m----> 1\u001b[0m \u001b[43mogc_nx\u001b[49m\u001b[43m[\u001b[49m\u001b[38;5;124;43m'\u001b[39;49m\u001b[38;5;124;43mOGC 05-005\u001b[39;49m\u001b[38;5;124;43m'\u001b[39;49m\u001b[43m]\u001b[49m\u001b[43m[\u001b[49m\u001b[38;5;124;43m'\u001b[39;49m\u001b[38;5;124;43mHTML5\u001b[39;49m\u001b[38;5;124;43m'\u001b[39;49m\u001b[43m]\u001b[49m[\u001b[38;5;124m'\u001b[39m\u001b[38;5;124mvalue\u001b[39m\u001b[38;5;124m'\u001b[39m]\n",
      "File \u001b[0;32m~/Code/GitHub/Stand_are_nodes/jupyter/venvogc/lib/python3.11/site-packages/networkx/classes/coreviews.py:53\u001b[0m, in \u001b[0;36mAtlasView.__getitem__\u001b[0;34m(self, key)\u001b[0m\n\u001b[1;32m     52\u001b[0m \u001b[38;5;28;01mdef\u001b[39;00m \u001b[38;5;21m__getitem__\u001b[39m(\u001b[38;5;28mself\u001b[39m, key):\n\u001b[0;32m---> 53\u001b[0m     \u001b[38;5;28;01mreturn\u001b[39;00m \u001b[38;5;28;43mself\u001b[39;49m\u001b[38;5;241;43m.\u001b[39;49m\u001b[43m_atlas\u001b[49m\u001b[43m[\u001b[49m\u001b[43mkey\u001b[49m\u001b[43m]\u001b[49m\n",
      "\u001b[0;31mKeyError\u001b[0m: 'HTML5'"
     ]
    }
   ],
   "source": [
    "ogc_nx['OGC 05-005']['HTML5']['value']"
   ]
  },
  {
   "cell_type": "code",
<<<<<<< HEAD
   "execution_count": 8,
   "id": "f5462304",
   "metadata": {},
   "outputs": [],
=======
   "execution_count": 10,
   "id": "f5462304",
   "metadata": {},
   "outputs": [
    {
     "data": {
      "text/plain": [
       "3.091042453358316"
      ]
     },
     "execution_count": 10,
     "metadata": {},
     "output_type": "execute_result"
    }
   ],
>>>>>>> b0042019 (05092023)
   "source": [
    "G = ogc_nx\n",
    "#G['OGC 09-001']['IETF RFC 2045']['value']"
   ]
  },
  {
   "cell_type": "code",
<<<<<<< HEAD
   "execution_count": 9,
=======
   "execution_count": 11,
>>>>>>> b0042019 (05092023)
   "id": "f9fc6aaa",
   "metadata": {},
   "outputs": [
    {
     "name": "stdout",
     "output_type": "stream",
     "text": [
      "OGC 05-005 à pour exposition : 30.91042453358316 pour 4 N-1 dépendences.\n",
      "OGC 06-042 à pour exposition : 147.99534431175772 pour 9 N-1 dépendences.\n",
      "OGC 06-121 à pour exposition : 382.9477021893102 pour 26 N-1 dépendences.\n",
      "OGC 07-057 à pour exposition : 257.19343109097724 pour 4 N-1 dépendences.\n",
      "OGC 08-068 à pour exposition : 146.49126691498148 pour 13 N-1 dépendences.\n",
      "OGC 09-025 à pour exposition : 446.4604740718894 pour 12 N-1 dépendences.\n",
      "OGC 09-083 à pour exposition : 215.0666211984109 pour 6 N-1 dépendences.\n",
      "OGC 11-014 à pour exposition : 45.56001018316904 pour 3 N-1 dépendences.\n",
      "OGC 14-065 à pour exposition : 116.4527318432446 pour 6 N-1 dépendences.\n",
      "OGC 15-001r4 à pour exposition : 70.20794949176033 pour 9 N-1 dépendences.\n",
      "OGC 17-089 à pour exposition : 35.86431224708299 pour 5 N-1 dépendences.\n",
      "OGC 19-072 à pour exposition : 140.67975174052242 pour 9 N-1 dépendences.\n",
      "OGC 20-024 à pour exposition : 127.68810178104656 pour 8 N-1 dépendences.\n",
      "OGC 19-086 à pour exposition : 306.5489249146834 pour 16 N-1 dépendences.\n",
      "OGC 17-069 à pour exposition : 68.200660833988 pour 9 N-1 dépendences.\n",
      "OGC 18-058 à pour exposition : 23.978952727983707 pour 1 N-1 dépendences.\n",
      "OGC 18-062 à pour exposition : 56.46041673207274 pour 14 N-1 dépendences.\n",
      "OGC 20-057 à pour exposition : 114.56924146971983 pour 9 N-1 dépendences.\n",
      "OGC 19-087 à pour exposition : 157.41570820317645 pour 23 N-1 dépendences.\n",
      "OGC 20-004 à pour exposition : 149.78831120620896 pour 28 N-1 dépendences.\n",
      "OGC 22-026 à pour exposition : 86.37094320432166 pour 17 N-1 dépendences.\n",
<<<<<<< HEAD
      "OGC 09-001 à pour exposition : 334.3262413296227 pour 16 N-1 dépendences.\n"
=======
      "OGC 09-001 à pour exposition : 172.28024967287863 pour 15 N-1 dépendences.\n"
>>>>>>> b0042019 (05092023)
     ]
    }
   ],
   "source": [
    "for src in InitOGCDict.keys():\n",
    "        rez=0\n",
    "        nb_dep = 0\n",
    "        for dest in ogc_nx.nodes():\n",
    "            try :\n",
    "                rez=rez+G[src][dest]['value']\n",
    "                nb_dep = nb_dep + 1\n",
    "            except KeyError :\n",
    "                None\n",
    "        print(str(src) + \" à pour exposition : \" + str(rez) + \" pour \" + str(nb_dep) + \" N-1 dépendences.\")"
   ]
  },
  {
   "cell_type": "code",
   "execution_count": 15,
   "id": "ad1c9bbb",
   "metadata": {},
   "outputs": [
    {
     "name": "stdout",
     "output_type": "stream",
     "text": [
      "['OGC 05-005', 'OGC 06-042', 'OGC 06-121r9', 'OGC 07-057r7', 'OGC 08-068r2', 'OGC 09-025r2', 'OGC 09-083r4', 'OGC 11-014r3', 'OGC 14-065', 'OGC 15-001r4', 'OGC 17-089r1', 'OGC 19-072', 'OGC 20-024', 'OGC 19-086r5', 'OGC 17-069r4', 'OGC 18-058r1', 'OGC 18-062r2', 'OGC 20-057', 'OGC 19-087', 'IETF RFC 2045', 'IETF RFC 2119', 'SLD', 'XML 1.0', 'ISO 8601:2004', 'ISO 19111', 'ISO 19115', 'IETF RFC 2396', 'IETF RFC 2616', 'UCUM', 'XML Schema', 'CGI', 'IETF RFC 2141', 'IETF RFC 4646', 'ISO/IEC Directives, Part 2', 'ISO 4217:2001', 'ISO 8601:2000', 'ISO 19119', 'ISO 19123', 'OGC 02-112', 'OGC 03-105r1', 'OGC 04-046r3', 'OGC 04-092r4', 'OGC 07-092r1', 'OGC 08-008r2', 'OGC 08-015', 'OGC 09-046r1', 'OGC 07-107r1', 'Namespaces In XML', 'SOAP', 'XML-binary Optimized Packaging', 'ISO 19105', 'OGC 06-121r3', 'WSDL 1.1', 'ISO 8601', 'OGC 05-007r7', 'OGC 07-011', 'OGC 07-067r5', 'OGC 08-053r2', 'OGC 08-059r3', 'ISO/TS 19103', 'ISO 19136', 'OGC 09-026r2', 'OGC 07-092r3', 'XML Path Language', 'ISO 19103', 'ISO 19115-2', 'OGC 01-009', 'JSR 363', 'OGC 08-015r2', 'UML', 'OGC 08-131r3', 'IETF RFC 3986', 'OGC CityGML', 'IETF RFC 1738', 'IETF RFC 2046', 'ISO/IEC 14977', 'ISO 19117', 'KML', 'OGC 09-146r2', 'OGC 09-146r6', 'OGC 09-110r4', 'OGC 16-083r2', 'IETF RFC 2818', 'IETF RFC 6570', 'IETF RFC 7231', 'IETF RFC 7232', 'IETF RFC 7807', 'IETF RFC 8288', 'IETF RFC 8259', 'OpenAPI Specification', 'IETF RFC 3339', 'JSON Schema', 'GML', 'HTML5', 'OpenAPI Specification 3.0', 'IETF RFC 3896', 'IETF RFC 7946', 'CoverageJSON', 'IETF RFC 2413', 'OGC 06-103r4', 'OGC 18-010r7', 'OGC 17-069r3', 'IETF RFC 7230', 'OGC 10-100r3', 'IETF RFC 2246', 'IETF RFC 2617', 'IETF RFC 2387', 'IETF RFC 7240', 'OGC 19-014r3', 'OGC 17-083r4', 'OGC 10-090r3', 'OGC 19-008r4', 'ISO/IEC 10918-1', 'ISO/IEC 15948', 'IETF RFC 3987', 'OGC 09-146', 'OGC 19-008', 'OGC Schema', 'OGC 10-090', 'OGC 17-089', 'OGC 08-094', 'OGC 12-000', 'OGC 16-083', 'IETF RFC 7159', 'W3C JSON-LD 1.0', 'RDF 1.1']\n"
     ]
    }
   ],
   "source": [
    "print(ogc_nx.nodes)"
   ]
  },
  {
   "cell_type": "code",
   "execution_count": 14,
   "id": "ee23c60a",
   "metadata": {},
   "outputs": [
    {
     "name": "stdout",
     "output_type": "stream",
     "text": [
      "{'IETF RFC 2616': 0.06428571428571428, 'OGC 06-121': 0.05714285714285714, 'IETF RFC 8288': 0.05714285714285714, 'IETF RFC 3986': 0.049999999999999996, 'IETF RFC 2818': 0.049999999999999996, 'OGC 19-072': 0.04285714285714286, 'XML 1.0': 0.04285714285714286, 'IETF RFC 3339': 0.04285714285714286, 'IETF RFC 7231': 0.03571428571428571, 'HTML5': 0.03571428571428571, 'OpenAPI Specification 3.0': 0.03571428571428571, 'IETF RFC 7946': 0.03571428571428571, 'OGC 20-024': 0.02857142857142857, 'XML Schema': 0.02857142857142857, 'IETF RFC 4646': 0.02857142857142857, 'XML Path Language': 0.02857142857142857, 'IETF RFC 6570': 0.02857142857142857, 'IETF RFC 8259': 0.02857142857142857, 'OGC 17-069': 0.02142857142857143, 'IETF RFC 2045': 0.02142857142857143, 'ISO 19115': 0.02142857142857143, 'IETF RFC 2396': 0.02142857142857143, 'OGC 07-092': 0.02142857142857143, 'SOAP': 0.02142857142857143, 'OGC 09-146': 0.02142857142857143, 'OGC 07-011': 0.02142857142857143, 'JSON Schema': 0.02142857142857143, 'OGC 17-089': 0.014285714285714285, 'ISO 8601:2004': 0.014285714285714285, 'ISO 19111': 0.014285714285714285, 'OGC 04-046': 0.014285714285714285, 'OGC 08-015': 0.014285714285714285, 'Namespaces In XML': 0.014285714285714285, 'ISO 19105': 0.014285714285714285, 'WSDL 1.1': 0.014285714285714285, 'ISO 8601': 0.014285714285714285, 'ISO 19136': 0.014285714285714285, 'OGC 16-083': 0.014285714285714285, 'IETF RFC 7232': 0.014285714285714285, 'IETF RFC 7807': 0.014285714285714285, 'IETF RFC 2387': 0.014285714285714285, 'OGC 10-090': 0.014285714285714285, 'OGC 19-008': 0.014285714285714285, 'IETF RFC 3987': 0.014285714285714285, 'OGC 08-094': 0.014285714285714285, 'IETF RFC 7159': 0.014285714285714285, 'RDF 1.1': 0.014285714285714285, 'OGC 14-065': 0.007142857142857143, 'IETF RFC 2119': 0.007142857142857143, 'SLD': 0.007142857142857143, 'UCUM': 0.007142857142857143, 'CGI': 0.007142857142857143, 'IETF RFC 2141': 0.007142857142857143, 'ISO/IEC Directives, Part 2': 0.007142857142857143, 'ISO 4217:2001': 0.007142857142857143, 'ISO 8601:2000': 0.007142857142857143, 'ISO 19119': 0.007142857142857143, 'ISO 19123': 0.007142857142857143, 'OGC 02-112': 0.007142857142857143, 'OGC 03-105': 0.007142857142857143, 'OGC 04-092': 0.007142857142857143, 'OGC 08-008': 0.007142857142857143, 'OGC 09-046': 0.007142857142857143, 'OGC 07-107': 0.007142857142857143, 'XML-binary Optimized Packaging': 0.007142857142857143, 'OGC 05-007': 0.007142857142857143, 'OGC 07-067': 0.007142857142857143, 'OGC 08-053': 0.007142857142857143, 'OGC 08-059': 0.007142857142857143, 'XQuery': 0.007142857142857143, 'ISO/TS 19103': 0.007142857142857143, 'OGC 09-026': 0.007142857142857143, 'ISO 19103': 0.007142857142857143, 'ISO 19115-2': 0.007142857142857143, 'OGC 01-009': 0.007142857142857143, 'JSR 363': 0.007142857142857143, 'UML': 0.007142857142857143, 'OGC 08-131': 0.007142857142857143, 'OGC CityGML': 0.007142857142857143, 'IETF RFC 1738': 0.007142857142857143, 'IETF RFC 2046': 0.007142857142857143, 'ISO/IEC 14977': 0.007142857142857143, 'ISO 19117': 0.007142857142857143, 'KML': 0.007142857142857143, 'OGC 09-110': 0.007142857142857143, 'OpenAPI Specification': 0.007142857142857143, 'GML': 0.007142857142857143, 'IETF RFC 3896': 0.007142857142857143, 'CoverageJSON': 0.007142857142857143, 'IETF RFC 2413': 0.007142857142857143, 'OGC 06-103': 0.007142857142857143, 'OGC 18-010': 0.007142857142857143, 'IETF RFC 7230': 0.007142857142857143, 'OGC 10-100': 0.007142857142857143, 'IETF RFC 2246': 0.007142857142857143, 'IETF RFC 2617': 0.007142857142857143, 'IETF RFC 7240': 0.007142857142857143, 'OGC 19-014': 0.007142857142857143, 'OGC 17-083': 0.007142857142857143, 'ISO/IEC 10918-1': 0.007142857142857143, 'ISO/IEC 15948': 0.007142857142857143, 'OGC Schema': 0.007142857142857143, 'OGC 12-000': 0.007142857142857143, 'W3C JSON-LD 1.0': 0.007142857142857143, 'IETF RFC 4287': 0.007142857142857143, 'OGC 19-079': 0.007142857142857143, 'OASIS': 0.007142857142857143, 'OGC 07-036': 0.007142857142857143, 'OGC 10-129': 0.007142857142857143, 'XML Linking Language': 0.007142857142857143, 'ISO/IEC 19757': 0.007142857142857143, 'IETF RFC 2183': 0.007142857142857143, 'IETF RFC 2392': 0.007142857142857143, 'JSON-LD 1.0': 0.007142857142857143, 'IETF RFC 6266': 0.007142857142857143, 'IETF RFC 7578': 0.007142857142857143, 'ISO 19107': 0.007142857142857143, 'ISO 19108': 0.007142857142857143, 'ISO 19143': 0.007142857142857143, 'ISO/DIS 19156': 0.007142857142857143, 'OGC 10-004': 0.007142857142857143, 'OGC 04-095': 0.007142857142857143, 'OGC 07-000': 0.007142857142857143, 'W3C Web Services Addressing': 0.007142857142857143, 'W3C XML Information Set': 0.007142857142857143, 'OGC 05-005': 0.0, 'OGC 06-042': 0.0, 'OGC 07-057': 0.0, 'OGC 08-068': 0.0, 'OGC 09-025': 0.0, 'OGC 09-083': 0.0, 'OGC 11-014': 0.0, 'OGC 15-001r4': 0.0, 'OGC 19-086': 0.0, 'OGC 18-058': 0.0, 'OGC 18-062': 0.0, 'OGC 20-057': 0.0, 'OGC 19-087': 0.0, 'OGC 20-004': 0.0, 'OGC 22-026': 0.0, 'OGC 09-001': 0.0}\n"
     ]
    }
   ],
   "source": [
    "sorted_degree_centrality = dict(sorted(degree_centrality.items(), key=lambda item:item[1], \n",
    "reverse=True))\n",
    "print(sorted_degree_centrality)"
   ]
  },
  {
   "cell_type": "markdown",
   "id": "dc95e4bc",
   "metadata": {},
   "source": [
    "### Graph with in_degree_centrality and out_degree_centrality"
   ]
  },
  {
   "cell_type": "markdown",
   "id": "77b70af3",
   "metadata": {},
   "source": [
    "*In-degree is the number of in-coming links, or the number of predecessor nodes; out-degree is the number of out-going links, or the number of successor nodes.*\n",
    "\n",
    "In this graph red nodes will be affected by the in_degree_centrality coefficient, this will show how this nodes influence the rest of the ecosystem. Green nodes will be affected by the out_degree_centrality, the will show how they are "
   ]
  },
  {
   "cell_type": "code",
   "execution_count": 5,
   "id": "1aff3637",
   "metadata": {},
   "outputs": [],
   "source": [
    "nx.degree_centrality(ogc_nx)\n",
    "\n",
    "out_degree_centrality = nx.out_degree_centrality(ogc_nx)\n",
    "out_max_key = max(out_degree_centrality, key=lambda key: out_degree_centrality[key])\n",
    "out_max_degree = out_degree_centrality[out_max_key]\n",
    "\n",
    "in_degree_centrality = nx.in_degree_centrality(ogc_nx)\n",
    "in_max_key = max(in_degree_centrality, key=lambda key: in_degree_centrality[key])\n",
    "in_max_degree = in_degree_centrality[in_max_key]\n",
    "\n",
    "Verifdic=dict()\n",
    "srclist=list()\n",
    "\n",
    "for n in ogc_nx.nodes:\n",
    "    if n in InitOGCDict.keys() :\n",
    "        srclist.append(src)\n",
    "        Verifdic[\"vert\"] = srclist\n",
    "        r=255*abs(((out_degree_centrality[n])/(out_max_degree)+0.1)-1)\n",
    "        g=255*abs(((out_degree_centrality[n])/(out_max_degree)+0.1)-1)\n",
    "        b=255\n",
    "        rgb = (int(r),int(b),int(g))\n",
    "        ogc_nx.nodes[n]['color']=\"#\"+rgb_to_hex(rgb)\n",
    "    else :\n",
    "        srclist.append(src)\n",
    "        Verifdic[\"rouge\"] = srclist\n",
    "        r=255\n",
    "        g=255*abs((in_degree_centrality[n]/in_max_degree)-1)\n",
    "        b=255*abs((in_degree_centrality[n]/in_max_degree)-1)\n",
    "        rgb = (int(r),int(b),int(g))\n",
    "        ogc_nx.nodes[n]['color']=\"#\"+rgb_to_hex(rgb)"
   ]
  },
  {
   "cell_type": "code",
   "execution_count": 9,
   "id": "a2f64b42",
   "metadata": {},
   "outputs": [
    {
     "name": "stdout",
     "output_type": "stream",
     "text": [
      "results/ogc_ws_centrality_in_out.html\n"
     ]
    },
    {
     "data": {
      "text/html": [
       "\n",
       "        <iframe\n",
       "            width=\"100%\"\n",
       "            height=\"600px\"\n",
       "            src=\"results/ogc_ws_centrality_in_out.html\"\n",
       "            frameborder=\"0\"\n",
       "            allowfullscreen\n",
       "            \n",
       "        ></iframe>\n",
       "        "
      ],
      "text/plain": [
       "<IPython.lib.display.IFrame at 0x7fe240a20490>"
      ]
     },
     "execution_count": 9,
     "metadata": {},
     "output_type": "execute_result"
    }
   ],
   "source": [
    "ogc_net.from_nx(ogc_nx)\n",
    "ogc_net.inherit_edge_colors(False)\n",
    "#ogc_net.force_atlas_2based()\n",
    "ogc_net.prep_notebook()\n",
    "ogc_net.show(\"results/ogc_ws_centrality_in_out.html\")"
   ]
  },
  {
   "cell_type": "markdown",
   "id": "e0ad3fb6",
   "metadata": {},
   "source": [
    "## Need to retrieve the in_centrality_degree for each red nodes"
   ]
  },
  {
   "cell_type": "code",
   "execution_count": 6,
   "id": "12911eb6",
   "metadata": {},
   "outputs": [
    {
     "data": {
      "text/plain": [
       "{'IETF RFC 2045': 0.02142857142857143,\n",
       " 'IETF RFC 2119': 0.007142857142857143,\n",
       " 'SLD': 0.007142857142857143,\n",
       " 'XML 1.0': 0.04285714285714286,\n",
       " 'ISO 8601:2004': 0.014285714285714285,\n",
       " 'ISO 19111': 0.014285714285714285,\n",
       " 'ISO 19115': 0.02142857142857143,\n",
       " 'IETF RFC 2396': 0.02142857142857143,\n",
       " 'IETF RFC 2616': 0.06428571428571428,\n",
       " 'UCUM': 0.007142857142857143,\n",
       " 'XML Schema': 0.02857142857142857,\n",
       " 'CGI': 0.007142857142857143,\n",
       " 'IETF RFC 2141': 0.007142857142857143,\n",
       " 'IETF RFC 4646': 0.02857142857142857,\n",
       " 'ISO/IEC Directives, Part 2': 0.007142857142857143,\n",
       " 'ISO 4217:2001': 0.007142857142857143,\n",
       " 'ISO 8601:2000': 0.007142857142857143,\n",
       " 'ISO 19119': 0.007142857142857143,\n",
       " 'ISO 19123': 0.007142857142857143,\n",
       " 'OGC 02-112': 0.007142857142857143,\n",
       " 'OGC 03-105': 0.007142857142857143,\n",
       " 'OGC 04-046': 0.014285714285714285,\n",
       " 'OGC 04-092': 0.007142857142857143,\n",
       " 'OGC 07-092': 0.02142857142857143,\n",
       " 'OGC 08-008': 0.007142857142857143,\n",
       " 'OGC 08-015': 0.014285714285714285,\n",
       " 'OGC 09-046': 0.007142857142857143,\n",
       " 'OGC 07-107': 0.007142857142857143,\n",
       " 'Namespaces In XML': 0.014285714285714285,\n",
       " 'SOAP': 0.02142857142857143,\n",
       " 'XML-binary Optimized Packaging': 0.007142857142857143,\n",
       " 'ISO 19105': 0.014285714285714285,\n",
       " 'WSDL 1.1': 0.014285714285714285,\n",
       " 'ISO 8601': 0.014285714285714285,\n",
       " 'OGC 09-146': 0.02142857142857143,\n",
       " 'OGC 05-007': 0.007142857142857143,\n",
       " 'OGC 07-011': 0.02142857142857143,\n",
       " 'OGC 07-067': 0.007142857142857143,\n",
       " 'OGC 08-053': 0.007142857142857143,\n",
       " 'OGC 08-059': 0.007142857142857143,\n",
       " 'XQuery': 0.007142857142857143,\n",
       " 'XML Path Language': 0.02857142857142857,\n",
       " 'ISO/TS 19103': 0.007142857142857143,\n",
       " 'ISO 19136': 0.014285714285714285,\n",
       " 'OGC 09-026': 0.007142857142857143,\n",
       " 'ISO 19103': 0.007142857142857143,\n",
       " 'ISO 19115-2': 0.007142857142857143,\n",
       " 'OGC 01-009': 0.007142857142857143,\n",
       " 'JSR 363': 0.007142857142857143,\n",
       " 'UML': 0.007142857142857143,\n",
       " 'OGC 08-131': 0.007142857142857143,\n",
       " 'IETF RFC 3986': 0.049999999999999996,\n",
       " 'OGC CityGML': 0.007142857142857143,\n",
       " 'IETF RFC 1738': 0.007142857142857143,\n",
       " 'IETF RFC 2046': 0.007142857142857143,\n",
       " 'ISO/IEC 14977': 0.007142857142857143,\n",
       " 'ISO 19117': 0.007142857142857143,\n",
       " 'KML': 0.007142857142857143,\n",
       " 'OGC 09-110': 0.007142857142857143,\n",
       " 'OGC 16-083': 0.014285714285714285,\n",
       " 'IETF RFC 2818': 0.049999999999999996,\n",
       " 'IETF RFC 6570': 0.02857142857142857,\n",
       " 'IETF RFC 7231': 0.03571428571428571,\n",
       " 'IETF RFC 7232': 0.014285714285714285,\n",
       " 'IETF RFC 7807': 0.014285714285714285,\n",
       " 'IETF RFC 8288': 0.05714285714285714,\n",
       " 'IETF RFC 8259': 0.02857142857142857,\n",
       " 'OpenAPI Specification': 0.007142857142857143,\n",
       " 'IETF RFC 3339': 0.04285714285714286,\n",
       " 'JSON Schema': 0.02142857142857143,\n",
       " 'GML': 0.007142857142857143,\n",
       " 'HTML5': 0.03571428571428571,\n",
       " 'OpenAPI Specification 3.0': 0.03571428571428571,\n",
       " 'IETF RFC 3896': 0.007142857142857143,\n",
       " 'IETF RFC 7946': 0.03571428571428571,\n",
       " 'CoverageJSON': 0.007142857142857143,\n",
       " 'IETF RFC 2413': 0.007142857142857143,\n",
       " 'OGC 06-103': 0.007142857142857143,\n",
       " 'OGC 18-010': 0.007142857142857143,\n",
       " 'IETF RFC 7230': 0.007142857142857143,\n",
       " 'OGC 10-100': 0.007142857142857143,\n",
       " 'IETF RFC 2246': 0.007142857142857143,\n",
       " 'IETF RFC 2617': 0.007142857142857143,\n",
       " 'IETF RFC 2387': 0.014285714285714285,\n",
       " 'IETF RFC 7240': 0.007142857142857143,\n",
       " 'OGC 19-014': 0.007142857142857143,\n",
       " 'OGC 17-083': 0.007142857142857143,\n",
       " 'OGC 10-090': 0.014285714285714285,\n",
       " 'OGC 19-008': 0.014285714285714285,\n",
       " 'ISO/IEC 10918-1': 0.007142857142857143,\n",
       " 'ISO/IEC 15948': 0.007142857142857143,\n",
       " 'IETF RFC 3987': 0.014285714285714285,\n",
       " 'OGC Schema': 0.007142857142857143,\n",
       " 'OGC 08-094': 0.014285714285714285,\n",
       " 'OGC 12-000': 0.007142857142857143,\n",
       " 'IETF RFC 7159': 0.014285714285714285,\n",
       " 'W3C JSON-LD 1.0': 0.007142857142857143,\n",
       " 'RDF 1.1': 0.014285714285714285,\n",
       " 'IETF RFC 4287': 0.007142857142857143,\n",
       " 'OGC 19-079': 0.007142857142857143,\n",
       " 'OASIS': 0.007142857142857143,\n",
       " 'OGC 07-036': 0.007142857142857143,\n",
       " 'OGC 10-129': 0.007142857142857143,\n",
       " 'XML Linking Language': 0.007142857142857143,\n",
       " 'ISO/IEC 19757': 0.007142857142857143,\n",
       " 'IETF RFC 2183': 0.007142857142857143,\n",
       " 'IETF RFC 2392': 0.007142857142857143,\n",
       " 'JSON-LD 1.0': 0.007142857142857143,\n",
       " 'IETF RFC 6266': 0.007142857142857143,\n",
       " 'IETF RFC 7578': 0.007142857142857143,\n",
       " 'ISO 19107': 0.007142857142857143,\n",
       " 'ISO 19108': 0.007142857142857143,\n",
       " 'ISO 19143': 0.007142857142857143,\n",
       " 'ISO/DIS 19156': 0.007142857142857143,\n",
       " 'OGC 10-004': 0.007142857142857143,\n",
       " 'OGC 04-095': 0.007142857142857143,\n",
       " 'OGC 07-000': 0.007142857142857143,\n",
       " 'W3C Web Services Addressing': 0.007142857142857143,\n",
       " 'W3C XML Information Set': 0.007142857142857143}"
      ]
     },
     "execution_count": 6,
     "metadata": {},
     "output_type": "execute_result"
    }
   ],
   "source": [
    "for key in InitOGCDict :\n",
    "    del in_degree_centrality[key]\n",
    "in_degree_centrality"
   ]
  },
  {
   "cell_type": "code",
   "execution_count": 7,
   "id": "b0251c47",
   "metadata": {},
   "outputs": [],
   "source": [
    "sorted_in_degree_centrality = {key:value for key, value in sorted(in_degree_centrality.items(), \n",
    "key=lambda item:item[1])}"
   ]
  },
  {
   "cell_type": "code",
   "execution_count": 8,
   "id": "f2a1bec0",
   "metadata": {},
   "outputs": [
    {
     "data": {
      "text/plain": [
       "{'IETF RFC 2119': 0.007142857142857143,\n",
       " 'SLD': 0.007142857142857143,\n",
       " 'UCUM': 0.007142857142857143,\n",
       " 'CGI': 0.007142857142857143,\n",
       " 'IETF RFC 2141': 0.007142857142857143,\n",
       " 'ISO/IEC Directives, Part 2': 0.007142857142857143,\n",
       " 'ISO 4217:2001': 0.007142857142857143,\n",
       " 'ISO 8601:2000': 0.007142857142857143,\n",
       " 'ISO 19119': 0.007142857142857143,\n",
       " 'ISO 19123': 0.007142857142857143,\n",
       " 'OGC 02-112': 0.007142857142857143,\n",
       " 'OGC 03-105': 0.007142857142857143,\n",
       " 'OGC 04-092': 0.007142857142857143,\n",
       " 'OGC 08-008': 0.007142857142857143,\n",
       " 'OGC 09-046': 0.007142857142857143,\n",
       " 'OGC 07-107': 0.007142857142857143,\n",
       " 'XML-binary Optimized Packaging': 0.007142857142857143,\n",
       " 'OGC 05-007': 0.007142857142857143,\n",
       " 'OGC 07-067': 0.007142857142857143,\n",
       " 'OGC 08-053': 0.007142857142857143,\n",
       " 'OGC 08-059': 0.007142857142857143,\n",
       " 'XQuery': 0.007142857142857143,\n",
       " 'ISO/TS 19103': 0.007142857142857143,\n",
       " 'OGC 09-026': 0.007142857142857143,\n",
       " 'ISO 19103': 0.007142857142857143,\n",
       " 'ISO 19115-2': 0.007142857142857143,\n",
       " 'OGC 01-009': 0.007142857142857143,\n",
       " 'JSR 363': 0.007142857142857143,\n",
       " 'UML': 0.007142857142857143,\n",
       " 'OGC 08-131': 0.007142857142857143,\n",
       " 'OGC CityGML': 0.007142857142857143,\n",
       " 'IETF RFC 1738': 0.007142857142857143,\n",
       " 'IETF RFC 2046': 0.007142857142857143,\n",
       " 'ISO/IEC 14977': 0.007142857142857143,\n",
       " 'ISO 19117': 0.007142857142857143,\n",
       " 'KML': 0.007142857142857143,\n",
       " 'OGC 09-110': 0.007142857142857143,\n",
       " 'OpenAPI Specification': 0.007142857142857143,\n",
       " 'GML': 0.007142857142857143,\n",
       " 'IETF RFC 3896': 0.007142857142857143,\n",
       " 'CoverageJSON': 0.007142857142857143,\n",
       " 'IETF RFC 2413': 0.007142857142857143,\n",
       " 'OGC 06-103': 0.007142857142857143,\n",
       " 'OGC 18-010': 0.007142857142857143,\n",
       " 'IETF RFC 7230': 0.007142857142857143,\n",
       " 'OGC 10-100': 0.007142857142857143,\n",
       " 'IETF RFC 2246': 0.007142857142857143,\n",
       " 'IETF RFC 2617': 0.007142857142857143,\n",
       " 'IETF RFC 7240': 0.007142857142857143,\n",
       " 'OGC 19-014': 0.007142857142857143,\n",
       " 'OGC 17-083': 0.007142857142857143,\n",
       " 'ISO/IEC 10918-1': 0.007142857142857143,\n",
       " 'ISO/IEC 15948': 0.007142857142857143,\n",
       " 'OGC Schema': 0.007142857142857143,\n",
       " 'OGC 12-000': 0.007142857142857143,\n",
       " 'W3C JSON-LD 1.0': 0.007142857142857143,\n",
       " 'IETF RFC 4287': 0.007142857142857143,\n",
       " 'OGC 19-079': 0.007142857142857143,\n",
       " 'OASIS': 0.007142857142857143,\n",
       " 'OGC 07-036': 0.007142857142857143,\n",
       " 'OGC 10-129': 0.007142857142857143,\n",
       " 'XML Linking Language': 0.007142857142857143,\n",
       " 'ISO/IEC 19757': 0.007142857142857143,\n",
       " 'IETF RFC 2183': 0.007142857142857143,\n",
       " 'IETF RFC 2392': 0.007142857142857143,\n",
       " 'JSON-LD 1.0': 0.007142857142857143,\n",
       " 'IETF RFC 6266': 0.007142857142857143,\n",
       " 'IETF RFC 7578': 0.007142857142857143,\n",
       " 'ISO 19107': 0.007142857142857143,\n",
       " 'ISO 19108': 0.007142857142857143,\n",
       " 'ISO 19143': 0.007142857142857143,\n",
       " 'ISO/DIS 19156': 0.007142857142857143,\n",
       " 'OGC 10-004': 0.007142857142857143,\n",
       " 'OGC 04-095': 0.007142857142857143,\n",
       " 'OGC 07-000': 0.007142857142857143,\n",
       " 'W3C Web Services Addressing': 0.007142857142857143,\n",
       " 'W3C XML Information Set': 0.007142857142857143,\n",
       " 'ISO 8601:2004': 0.014285714285714285,\n",
       " 'ISO 19111': 0.014285714285714285,\n",
       " 'OGC 04-046': 0.014285714285714285,\n",
       " 'OGC 08-015': 0.014285714285714285,\n",
       " 'Namespaces In XML': 0.014285714285714285,\n",
       " 'ISO 19105': 0.014285714285714285,\n",
       " 'WSDL 1.1': 0.014285714285714285,\n",
       " 'ISO 8601': 0.014285714285714285,\n",
       " 'ISO 19136': 0.014285714285714285,\n",
       " 'OGC 16-083': 0.014285714285714285,\n",
       " 'IETF RFC 7232': 0.014285714285714285,\n",
       " 'IETF RFC 7807': 0.014285714285714285,\n",
       " 'IETF RFC 2387': 0.014285714285714285,\n",
       " 'OGC 10-090': 0.014285714285714285,\n",
       " 'OGC 19-008': 0.014285714285714285,\n",
       " 'IETF RFC 3987': 0.014285714285714285,\n",
       " 'OGC 08-094': 0.014285714285714285,\n",
       " 'IETF RFC 7159': 0.014285714285714285,\n",
       " 'RDF 1.1': 0.014285714285714285,\n",
       " 'IETF RFC 2045': 0.02142857142857143,\n",
       " 'ISO 19115': 0.02142857142857143,\n",
       " 'IETF RFC 2396': 0.02142857142857143,\n",
       " 'OGC 07-092': 0.02142857142857143,\n",
       " 'SOAP': 0.02142857142857143,\n",
       " 'OGC 09-146': 0.02142857142857143,\n",
       " 'OGC 07-011': 0.02142857142857143,\n",
       " 'JSON Schema': 0.02142857142857143,\n",
       " 'XML Schema': 0.02857142857142857,\n",
       " 'IETF RFC 4646': 0.02857142857142857,\n",
       " 'XML Path Language': 0.02857142857142857,\n",
       " 'IETF RFC 6570': 0.02857142857142857,\n",
       " 'IETF RFC 8259': 0.02857142857142857,\n",
       " 'IETF RFC 7231': 0.03571428571428571,\n",
       " 'HTML5': 0.03571428571428571,\n",
       " 'OpenAPI Specification 3.0': 0.03571428571428571,\n",
       " 'IETF RFC 7946': 0.03571428571428571,\n",
       " 'XML 1.0': 0.04285714285714286,\n",
       " 'IETF RFC 3339': 0.04285714285714286,\n",
       " 'IETF RFC 3986': 0.049999999999999996,\n",
       " 'IETF RFC 2818': 0.049999999999999996,\n",
       " 'IETF RFC 8288': 0.05714285714285714,\n",
       " 'IETF RFC 2616': 0.06428571428571428}"
      ]
     },
     "execution_count": 8,
     "metadata": {},
     "output_type": "execute_result"
    }
   ],
   "source": [
    "sorted_in_degree_centrality"
   ]
  },
  {
   "cell_type": "code",
   "execution_count": 12,
   "id": "d8589d0c",
   "metadata": {},
   "outputs": [
    {
     "name": "stdout",
     "output_type": "stream",
     "text": [
      "                      0\n",
      "IETF RFC 2119  0.007143\n",
      "SLD            0.007143\n",
      "UCUM           0.007143\n",
      "CGI            0.007143\n",
      "IETF RFC 2141  0.007143\n",
      "...                 ...\n",
      "IETF RFC 3339  0.042857\n",
      "IETF RFC 3986  0.050000\n",
      "IETF RFC 2818  0.050000\n",
      "IETF RFC 8288  0.057143\n",
      "IETF RFC 2616  0.064286\n",
      "\n",
      "[119 rows x 1 columns]\n"
     ]
    }
   ],
   "source": [
    "import pandas as pd\n",
    "df = pd.DataFrame(data=sorted_in_degree_centrality, index=[0])\n",
    "df = (df.T)\n",
    "print (df)\n",
    "df.to_excel('dict1.xlsx')"
   ]
  },
  {
   "cell_type": "code",
   "execution_count": null,
   "id": "21c05edd",
   "metadata": {},
   "outputs": [],
   "source": []
  }
 ],
 "metadata": {
  "kernelspec": {
   "display_name": "venvogc",
   "language": "python",
   "name": "venvogc"
  },
  "language_info": {
   "codemirror_mode": {
    "name": "ipython",
    "version": 3
   },
   "file_extension": ".py",
   "mimetype": "text/x-python",
   "name": "python",
   "nbconvert_exporter": "python",
   "pygments_lexer": "ipython3",
   "version": "3.11.3"
  }
 },
 "nbformat": 4,
 "nbformat_minor": 5
}
